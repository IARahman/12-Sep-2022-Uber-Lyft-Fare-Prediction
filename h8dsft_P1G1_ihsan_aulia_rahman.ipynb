{
  "cells": [
    {
      "cell_type": "markdown",
      "metadata": {
        "id": "LSfiyTEp0dNJ"
      },
      "source": [
        "#**Phase 1 Milestone Assignment**"
      ]
    },
    {
      "cell_type": "markdown",
      "metadata": {
        "id": "xlJSxEm10iTL"
      },
      "source": [
        "##**Identity**"
      ]
    },
    {
      "cell_type": "markdown",
      "metadata": {
        "id": "-kImZb3a0ksx"
      },
      "source": [
        "Ihsan Aulia Rahman\n",
        "\n",
        "Full Time Data Science\n",
        "\n",
        "HCK-Batch-001"
      ]
    },
    {
      "cell_type": "markdown",
      "metadata": {
        "id": "IaIY2DNuKLBF"
      },
      "source": [
        "#**A. Description**"
      ]
    },
    {
      "cell_type": "markdown",
      "metadata": {
        "id": "ztgnrw5z0nd-"
      },
      "source": [
        "##**A. 1. Problem Statement**"
      ]
    },
    {
      "cell_type": "markdown",
      "metadata": {
        "id": "UBPTlxzl0p2e"
      },
      "source": [
        "We are given a dataset of Uber and Lyft ridesharing data containing observations of rideshare orders. We want to create a machine learning algorithm/model based on the dataset to predict  the price of a ride based on other variables."
      ]
    },
    {
      "cell_type": "markdown",
      "metadata": {
        "id": "hqvJPTOg06UO"
      },
      "source": [
        "##**A.2. Objective**"
      ]
    },
    {
      "cell_type": "markdown",
      "metadata": {
        "id": "hmNBxqyu06zK"
      },
      "source": [
        "We are going to build this prediction model of the price of an Uber or Lyft ride using linear regression algorithm from Scikit framework."
      ]
    },
    {
      "cell_type": "markdown",
      "metadata": {
        "id": "dI5ooq41081O"
      },
      "source": [
        "#**B. Libraries**"
      ]
    },
    {
      "cell_type": "markdown",
      "metadata": {
        "id": "HdMe_U9V0_zR"
      },
      "source": [
        "Here we import the necessary function libraries for this assignment."
      ]
    },
    {
      "cell_type": "markdown",
      "metadata": {
        "id": "u9fQE46hvqI4"
      },
      "source": [
        "##**B.1. Exploratory Functions**"
      ]
    },
    {
      "cell_type": "code",
      "execution_count": 1,
      "metadata": {
        "id": "1fm-L-iM0Cxh"
      },
      "outputs": [],
      "source": [
        "import numpy as np\n",
        "import pandas as pd\n",
        "import matplotlib.pyplot as plt\n",
        "import seaborn as sns\n",
        "import scipy.stats as stats\n",
        "import statsmodels.api as sm\n",
        "\n",
        "from statsmodels.stats.outliers_influence import variance_inflation_factor\n",
        "\n",
        "# Create histogram and box plots of a column\n",
        "def plot_hist_box(df, variable):\n",
        "  plt.figure(figsize=(16, 4))\n",
        "  plt.subplot(1, 2, 1)\n",
        "  sns.histplot(df[variable], bins=40)\n",
        "  plt.title('Histogram')\n",
        "  plt.subplot(1, 2, 2)\n",
        "  sns.boxplot(y=df[variable])\n",
        "  plt.title('Boxplot')\n",
        "  plt.show()\n",
        "\n",
        "# Return upper and lower boundary values if a column \n",
        "def boundaries(df, variable, multiplier):\n",
        "  IQR = df[variable].quantile(0.75) - df[variable].quantile(0.25)\n",
        "  lower_boundary = df[variable].quantile(0.25) - (IQR * multiplier)\n",
        "  upper_boundary = df[variable].quantile(0.75) + (IQR * multiplier)\n",
        "  return upper_boundary, lower_boundary\n",
        "\n",
        "# Return outlier statistics of  a column\n",
        "def outliers(df, variable, multiplier, upper_boundary, lower_boundary):\n",
        "  print('Number of data : {}'.format(len(df)))\n",
        "  print('Upper Outlier  : {}'.format(len(df[df[variable] > upper_boundary])))\n",
        "  print('Lower Outlier  : {}'.format(len(df[df[variable] > lower_boundary])))\n",
        "  print('Total Outlier  : {}'.format(len(df[(df[variable] > upper_boundary) or (df[variable] > lower_boundary)])))\n",
        "  print('% outlier : {} %'.format(len(df[(df[variable] > upper_boundary) or (df[variable] > lower_boundary)]) / len(df) * 100))\n",
        "\n",
        "# Calculate Variance Inflation Factor\n",
        "def calc_vif(X):\n",
        "  vif = pd.DataFrame()\n",
        "  vif[\"variables\"] = X.columns\n",
        "  vif[\"VIF\"] = [variance_inflation_factor(X.values, i) for i in range(X.shape[1])]\n",
        "  return(vif)"
      ]
    },
    {
      "cell_type": "markdown",
      "metadata": {
        "id": "Ecuoy8VpvxU2"
      },
      "source": [
        "##**B.2. Modelling Functions**"
      ]
    },
    {
      "cell_type": "code",
      "execution_count": 2,
      "metadata": {
        "id": "Nn5nKgVZw0Z2",
        "colab": {
          "base_uri": "https://localhost:8080/"
        },
        "outputId": "6764881d-afd1-41a3-832e-84a6fbb6d9ab"
      },
      "outputs": [
        {
          "output_type": "stream",
          "name": "stdout",
          "text": [
            "Looking in indexes: https://pypi.org/simple, https://us-python.pkg.dev/colab-wheels/public/simple/\n",
            "Collecting feature-engine\n",
            "  Downloading feature_engine-1.4.0-py2.py3-none-any.whl (276 kB)\n",
            "\u001b[K     |████████████████████████████████| 276 kB 6.9 MB/s \n",
            "\u001b[?25hRequirement already satisfied: scikit-learn>=1.0.0 in /usr/local/lib/python3.7/dist-packages (from feature-engine) (1.0.2)\n",
            "Requirement already satisfied: pandas>=1.0.3 in /usr/local/lib/python3.7/dist-packages (from feature-engine) (1.3.5)\n",
            "Requirement already satisfied: numpy>=1.18.2 in /usr/local/lib/python3.7/dist-packages (from feature-engine) (1.21.6)\n",
            "Requirement already satisfied: scipy>=1.4.1 in /usr/local/lib/python3.7/dist-packages (from feature-engine) (1.7.3)\n",
            "Requirement already satisfied: statsmodels>=0.11.1 in /usr/local/lib/python3.7/dist-packages (from feature-engine) (0.12.2)\n",
            "Requirement already satisfied: python-dateutil>=2.7.3 in /usr/local/lib/python3.7/dist-packages (from pandas>=1.0.3->feature-engine) (2.8.2)\n",
            "Requirement already satisfied: pytz>=2017.3 in /usr/local/lib/python3.7/dist-packages (from pandas>=1.0.3->feature-engine) (2022.2.1)\n",
            "Requirement already satisfied: six>=1.5 in /usr/local/lib/python3.7/dist-packages (from python-dateutil>=2.7.3->pandas>=1.0.3->feature-engine) (1.15.0)\n",
            "Requirement already satisfied: threadpoolctl>=2.0.0 in /usr/local/lib/python3.7/dist-packages (from scikit-learn>=1.0.0->feature-engine) (3.1.0)\n",
            "Requirement already satisfied: joblib>=0.11 in /usr/local/lib/python3.7/dist-packages (from scikit-learn>=1.0.0->feature-engine) (1.1.0)\n",
            "Requirement already satisfied: patsy>=0.5 in /usr/local/lib/python3.7/dist-packages (from statsmodels>=0.11.1->feature-engine) (0.5.2)\n",
            "Installing collected packages: feature-engine\n",
            "Successfully installed feature-engine-1.4.0\n"
          ]
        }
      ],
      "source": [
        "# Split and Standarize Datasets\n",
        "!pip install feature-engine\n",
        "\n",
        "from feature_engine.outliers import Winsorizer\n",
        "from sklearn.model_selection import train_test_split\n",
        "from sklearn.preprocessing import MinMaxScaler \n",
        "from sklearn.preprocessing import OrdinalEncoder\n",
        "\n",
        "# Regression Models\n",
        "from sklearn.linear_model import LinearRegression\n",
        "\n",
        "# Evaluate Regression Models\n",
        "from sklearn.metrics import mean_absolute_error \n",
        "from sklearn.metrics import mean_squared_error\n",
        "from sklearn.metrics import r2_score\n",
        "from sklearn.metrics import accuracy_score\n",
        "\n",
        "# Save Model Files\n",
        "import joblib \n",
        "import json "
      ]
    },
    {
      "cell_type": "markdown",
      "metadata": {
        "id": "Ucv1THYrHiJT"
      },
      "source": [
        "#**C. Loading and EDA**"
      ]
    },
    {
      "cell_type": "markdown",
      "metadata": {
        "id": "tN1X74UBplUU"
      },
      "source": [
        "##**C.1. Data Loading**"
      ]
    },
    {
      "cell_type": "code",
      "execution_count": 3,
      "metadata": {
        "id": "tBk42OoYI82m"
      },
      "outputs": [],
      "source": [
        "df = pd.read_csv('/content/drive/MyDrive/Colab Notebooks/Week 1/GA 1/rideshare_kaggle.csv')"
      ]
    },
    {
      "cell_type": "markdown",
      "metadata": {
        "id": "Bjw1RE9cppSp"
      },
      "source": [
        "##**C.2. Exploratory Data Analysis**"
      ]
    },
    {
      "cell_type": "markdown",
      "metadata": {
        "id": "XSmk8RAHvPI7"
      },
      "source": [
        "###**C.2.1. Initial Exploration**"
      ]
    },
    {
      "cell_type": "code",
      "execution_count": 4,
      "metadata": {
        "colab": {
          "base_uri": "https://localhost:8080/",
          "height": 530
        },
        "id": "G8SZH3oTbS4z",
        "outputId": "b2b2219f-9f7f-4fb4-8a39-c0d093c03878"
      },
      "outputs": [
        {
          "output_type": "execute_result",
          "data": {
            "text/plain": [
              "                                     id     timestamp  hour  day  month  \\\n",
              "0  424553bb-7174-41ea-aeb4-fe06d4f4b9d7  1.544953e+09     9   16     12   \n",
              "1  4bd23055-6827-41c6-b23b-3c491f24e74d  1.543284e+09     2   27     11   \n",
              "2  981a3613-77af-4620-a42a-0c0866077d1e  1.543367e+09     1   28     11   \n",
              "3  c2d88af2-d278-4bfd-a8d0-29ca77cc5512  1.543554e+09     4   30     11   \n",
              "4  e0126e1f-8ca9-4f2e-82b3-50505a09db9a  1.543463e+09     3   29     11   \n",
              "\n",
              "              datetime          timezone            source    destination  \\\n",
              "0  2018-12-16 09:30:07  America/New_York  Haymarket Square  North Station   \n",
              "1  2018-11-27 02:00:23  America/New_York  Haymarket Square  North Station   \n",
              "2  2018-11-28 01:00:22  America/New_York  Haymarket Square  North Station   \n",
              "3  2018-11-30 04:53:02  America/New_York  Haymarket Square  North Station   \n",
              "4  2018-11-29 03:49:20  America/New_York  Haymarket Square  North Station   \n",
              "\n",
              "  cab_type    product_id          name  price  distance  surge_multiplier  \\\n",
              "0     Lyft     lyft_line        Shared    5.0      0.44               1.0   \n",
              "1     Lyft  lyft_premier           Lux   11.0      0.44               1.0   \n",
              "2     Lyft          lyft          Lyft    7.0      0.44               1.0   \n",
              "3     Lyft   lyft_luxsuv  Lux Black XL   26.0      0.44               1.0   \n",
              "4     Lyft     lyft_plus       Lyft XL    9.0      0.44               1.0   \n",
              "\n",
              "   latitude  longitude  temperature  apparentTemperature    short_summary  \\\n",
              "0   42.2148    -71.033        42.34                37.12   Mostly Cloudy    \n",
              "1   42.2148    -71.033        43.58                37.35            Rain    \n",
              "2   42.2148    -71.033        38.33                32.93           Clear    \n",
              "3   42.2148    -71.033        34.38                29.63           Clear    \n",
              "4   42.2148    -71.033        37.44                30.88   Partly Cloudy    \n",
              "\n",
              "                                        long_summary  precipIntensity  \\\n",
              "0                          Rain throughout the day.            0.0000   \n",
              "1   Rain until morning, starting again in the eve...           0.1299   \n",
              "2                        Light rain in the morning.            0.0000   \n",
              "3                 Partly cloudy throughout the day.            0.0000   \n",
              "4                 Mostly cloudy throughout the day.            0.0000   \n",
              "\n",
              "   precipProbability  humidity  windSpeed  windGust  windGustTime  visibility  \\\n",
              "0                0.0      0.68       8.66      9.17    1545015600      10.000   \n",
              "1                1.0      0.94      11.98     11.98    1543291200       4.786   \n",
              "2                0.0      0.75       7.33      7.33    1543334400      10.000   \n",
              "3                0.0      0.73       5.28      5.28    1543514400      10.000   \n",
              "4                0.0      0.70       9.14      9.14    1543446000      10.000   \n",
              "\n",
              "   temperatureHigh  temperatureHighTime  temperatureLow  temperatureLowTime  \\\n",
              "0            43.68           1544968800           34.19          1545048000   \n",
              "1            47.30           1543251600           42.10          1543298400   \n",
              "2            47.55           1543320000           33.10          1543402800   \n",
              "3            45.03           1543510800           28.90          1543579200   \n",
              "4            42.18           1543420800           36.71          1543478400   \n",
              "\n",
              "   apparentTemperatureHigh  apparentTemperatureHighTime  \\\n",
              "0                    37.95                   1544968800   \n",
              "1                    43.92                   1543251600   \n",
              "2                    44.12                   1543320000   \n",
              "3                    38.53                   1543510800   \n",
              "4                    35.75                   1543420800   \n",
              "\n",
              "   apparentTemperatureLow  apparentTemperatureLowTime                   icon  \\\n",
              "0                   27.39                  1545044400   partly-cloudy-night    \n",
              "1                   36.20                  1543291200                  rain    \n",
              "2                   29.11                  1543392000           clear-night    \n",
              "3                   26.20                  1543575600           clear-night    \n",
              "4                   30.29                  1543460400   partly-cloudy-night    \n",
              "\n",
              "   dewPoint  pressure  windBearing  cloudCover  uvIndex  visibility.1  ozone  \\\n",
              "0     32.70   1021.98           57        0.72        0        10.000  303.8   \n",
              "1     41.83   1003.97           90        1.00        0         4.786  291.1   \n",
              "2     31.10    992.28          240        0.03        0        10.000  315.7   \n",
              "3     26.64   1013.73          310        0.00        0        10.000  291.1   \n",
              "4     28.61    998.36          303        0.44        0        10.000  347.7   \n",
              "\n",
              "   sunriseTime  sunsetTime  moonPhase  precipIntensityMax  uvIndexTime  \\\n",
              "0   1544962084  1544994864       0.30              0.1276   1544979600   \n",
              "1   1543232969  1543266992       0.64              0.1300   1543251600   \n",
              "2   1543319437  1543353364       0.68              0.1064   1543338000   \n",
              "3   1543492370  1543526114       0.75              0.0000   1543507200   \n",
              "4   1543405904  1543439738       0.72              0.0001   1543420800   \n",
              "\n",
              "   temperatureMin  temperatureMinTime  temperatureMax  temperatureMaxTime  \\\n",
              "0           39.89          1545012000           43.68          1544968800   \n",
              "1           40.49          1543233600           47.30          1543251600   \n",
              "2           35.36          1543377600           47.55          1543320000   \n",
              "3           34.67          1543550400           45.03          1543510800   \n",
              "4           33.10          1543402800           42.18          1543420800   \n",
              "\n",
              "   apparentTemperatureMin  apparentTemperatureMinTime  apparentTemperatureMax  \\\n",
              "0                   33.73                  1545012000                   38.07   \n",
              "1                   36.20                  1543291200                   43.92   \n",
              "2                   31.04                  1543377600                   44.12   \n",
              "3                   30.30                  1543550400                   38.53   \n",
              "4                   29.11                  1543392000                   35.75   \n",
              "\n",
              "   apparentTemperatureMaxTime  \n",
              "0                  1544958000  \n",
              "1                  1543251600  \n",
              "2                  1543320000  \n",
              "3                  1543510800  \n",
              "4                  1543420800  "
            ],
            "text/html": [
              "\n",
              "  <div id=\"df-c1122ee7-9c6c-4bee-b93d-957f95c3c3d8\">\n",
              "    <div class=\"colab-df-container\">\n",
              "      <div>\n",
              "<style scoped>\n",
              "    .dataframe tbody tr th:only-of-type {\n",
              "        vertical-align: middle;\n",
              "    }\n",
              "\n",
              "    .dataframe tbody tr th {\n",
              "        vertical-align: top;\n",
              "    }\n",
              "\n",
              "    .dataframe thead th {\n",
              "        text-align: right;\n",
              "    }\n",
              "</style>\n",
              "<table border=\"1\" class=\"dataframe\">\n",
              "  <thead>\n",
              "    <tr style=\"text-align: right;\">\n",
              "      <th></th>\n",
              "      <th>id</th>\n",
              "      <th>timestamp</th>\n",
              "      <th>hour</th>\n",
              "      <th>day</th>\n",
              "      <th>month</th>\n",
              "      <th>datetime</th>\n",
              "      <th>timezone</th>\n",
              "      <th>source</th>\n",
              "      <th>destination</th>\n",
              "      <th>cab_type</th>\n",
              "      <th>product_id</th>\n",
              "      <th>name</th>\n",
              "      <th>price</th>\n",
              "      <th>distance</th>\n",
              "      <th>surge_multiplier</th>\n",
              "      <th>latitude</th>\n",
              "      <th>longitude</th>\n",
              "      <th>temperature</th>\n",
              "      <th>apparentTemperature</th>\n",
              "      <th>short_summary</th>\n",
              "      <th>long_summary</th>\n",
              "      <th>precipIntensity</th>\n",
              "      <th>precipProbability</th>\n",
              "      <th>humidity</th>\n",
              "      <th>windSpeed</th>\n",
              "      <th>windGust</th>\n",
              "      <th>windGustTime</th>\n",
              "      <th>visibility</th>\n",
              "      <th>temperatureHigh</th>\n",
              "      <th>temperatureHighTime</th>\n",
              "      <th>temperatureLow</th>\n",
              "      <th>temperatureLowTime</th>\n",
              "      <th>apparentTemperatureHigh</th>\n",
              "      <th>apparentTemperatureHighTime</th>\n",
              "      <th>apparentTemperatureLow</th>\n",
              "      <th>apparentTemperatureLowTime</th>\n",
              "      <th>icon</th>\n",
              "      <th>dewPoint</th>\n",
              "      <th>pressure</th>\n",
              "      <th>windBearing</th>\n",
              "      <th>cloudCover</th>\n",
              "      <th>uvIndex</th>\n",
              "      <th>visibility.1</th>\n",
              "      <th>ozone</th>\n",
              "      <th>sunriseTime</th>\n",
              "      <th>sunsetTime</th>\n",
              "      <th>moonPhase</th>\n",
              "      <th>precipIntensityMax</th>\n",
              "      <th>uvIndexTime</th>\n",
              "      <th>temperatureMin</th>\n",
              "      <th>temperatureMinTime</th>\n",
              "      <th>temperatureMax</th>\n",
              "      <th>temperatureMaxTime</th>\n",
              "      <th>apparentTemperatureMin</th>\n",
              "      <th>apparentTemperatureMinTime</th>\n",
              "      <th>apparentTemperatureMax</th>\n",
              "      <th>apparentTemperatureMaxTime</th>\n",
              "    </tr>\n",
              "  </thead>\n",
              "  <tbody>\n",
              "    <tr>\n",
              "      <th>0</th>\n",
              "      <td>424553bb-7174-41ea-aeb4-fe06d4f4b9d7</td>\n",
              "      <td>1.544953e+09</td>\n",
              "      <td>9</td>\n",
              "      <td>16</td>\n",
              "      <td>12</td>\n",
              "      <td>2018-12-16 09:30:07</td>\n",
              "      <td>America/New_York</td>\n",
              "      <td>Haymarket Square</td>\n",
              "      <td>North Station</td>\n",
              "      <td>Lyft</td>\n",
              "      <td>lyft_line</td>\n",
              "      <td>Shared</td>\n",
              "      <td>5.0</td>\n",
              "      <td>0.44</td>\n",
              "      <td>1.0</td>\n",
              "      <td>42.2148</td>\n",
              "      <td>-71.033</td>\n",
              "      <td>42.34</td>\n",
              "      <td>37.12</td>\n",
              "      <td>Mostly Cloudy</td>\n",
              "      <td>Rain throughout the day.</td>\n",
              "      <td>0.0000</td>\n",
              "      <td>0.0</td>\n",
              "      <td>0.68</td>\n",
              "      <td>8.66</td>\n",
              "      <td>9.17</td>\n",
              "      <td>1545015600</td>\n",
              "      <td>10.000</td>\n",
              "      <td>43.68</td>\n",
              "      <td>1544968800</td>\n",
              "      <td>34.19</td>\n",
              "      <td>1545048000</td>\n",
              "      <td>37.95</td>\n",
              "      <td>1544968800</td>\n",
              "      <td>27.39</td>\n",
              "      <td>1545044400</td>\n",
              "      <td>partly-cloudy-night</td>\n",
              "      <td>32.70</td>\n",
              "      <td>1021.98</td>\n",
              "      <td>57</td>\n",
              "      <td>0.72</td>\n",
              "      <td>0</td>\n",
              "      <td>10.000</td>\n",
              "      <td>303.8</td>\n",
              "      <td>1544962084</td>\n",
              "      <td>1544994864</td>\n",
              "      <td>0.30</td>\n",
              "      <td>0.1276</td>\n",
              "      <td>1544979600</td>\n",
              "      <td>39.89</td>\n",
              "      <td>1545012000</td>\n",
              "      <td>43.68</td>\n",
              "      <td>1544968800</td>\n",
              "      <td>33.73</td>\n",
              "      <td>1545012000</td>\n",
              "      <td>38.07</td>\n",
              "      <td>1544958000</td>\n",
              "    </tr>\n",
              "    <tr>\n",
              "      <th>1</th>\n",
              "      <td>4bd23055-6827-41c6-b23b-3c491f24e74d</td>\n",
              "      <td>1.543284e+09</td>\n",
              "      <td>2</td>\n",
              "      <td>27</td>\n",
              "      <td>11</td>\n",
              "      <td>2018-11-27 02:00:23</td>\n",
              "      <td>America/New_York</td>\n",
              "      <td>Haymarket Square</td>\n",
              "      <td>North Station</td>\n",
              "      <td>Lyft</td>\n",
              "      <td>lyft_premier</td>\n",
              "      <td>Lux</td>\n",
              "      <td>11.0</td>\n",
              "      <td>0.44</td>\n",
              "      <td>1.0</td>\n",
              "      <td>42.2148</td>\n",
              "      <td>-71.033</td>\n",
              "      <td>43.58</td>\n",
              "      <td>37.35</td>\n",
              "      <td>Rain</td>\n",
              "      <td>Rain until morning, starting again in the eve...</td>\n",
              "      <td>0.1299</td>\n",
              "      <td>1.0</td>\n",
              "      <td>0.94</td>\n",
              "      <td>11.98</td>\n",
              "      <td>11.98</td>\n",
              "      <td>1543291200</td>\n",
              "      <td>4.786</td>\n",
              "      <td>47.30</td>\n",
              "      <td>1543251600</td>\n",
              "      <td>42.10</td>\n",
              "      <td>1543298400</td>\n",
              "      <td>43.92</td>\n",
              "      <td>1543251600</td>\n",
              "      <td>36.20</td>\n",
              "      <td>1543291200</td>\n",
              "      <td>rain</td>\n",
              "      <td>41.83</td>\n",
              "      <td>1003.97</td>\n",
              "      <td>90</td>\n",
              "      <td>1.00</td>\n",
              "      <td>0</td>\n",
              "      <td>4.786</td>\n",
              "      <td>291.1</td>\n",
              "      <td>1543232969</td>\n",
              "      <td>1543266992</td>\n",
              "      <td>0.64</td>\n",
              "      <td>0.1300</td>\n",
              "      <td>1543251600</td>\n",
              "      <td>40.49</td>\n",
              "      <td>1543233600</td>\n",
              "      <td>47.30</td>\n",
              "      <td>1543251600</td>\n",
              "      <td>36.20</td>\n",
              "      <td>1543291200</td>\n",
              "      <td>43.92</td>\n",
              "      <td>1543251600</td>\n",
              "    </tr>\n",
              "    <tr>\n",
              "      <th>2</th>\n",
              "      <td>981a3613-77af-4620-a42a-0c0866077d1e</td>\n",
              "      <td>1.543367e+09</td>\n",
              "      <td>1</td>\n",
              "      <td>28</td>\n",
              "      <td>11</td>\n",
              "      <td>2018-11-28 01:00:22</td>\n",
              "      <td>America/New_York</td>\n",
              "      <td>Haymarket Square</td>\n",
              "      <td>North Station</td>\n",
              "      <td>Lyft</td>\n",
              "      <td>lyft</td>\n",
              "      <td>Lyft</td>\n",
              "      <td>7.0</td>\n",
              "      <td>0.44</td>\n",
              "      <td>1.0</td>\n",
              "      <td>42.2148</td>\n",
              "      <td>-71.033</td>\n",
              "      <td>38.33</td>\n",
              "      <td>32.93</td>\n",
              "      <td>Clear</td>\n",
              "      <td>Light rain in the morning.</td>\n",
              "      <td>0.0000</td>\n",
              "      <td>0.0</td>\n",
              "      <td>0.75</td>\n",
              "      <td>7.33</td>\n",
              "      <td>7.33</td>\n",
              "      <td>1543334400</td>\n",
              "      <td>10.000</td>\n",
              "      <td>47.55</td>\n",
              "      <td>1543320000</td>\n",
              "      <td>33.10</td>\n",
              "      <td>1543402800</td>\n",
              "      <td>44.12</td>\n",
              "      <td>1543320000</td>\n",
              "      <td>29.11</td>\n",
              "      <td>1543392000</td>\n",
              "      <td>clear-night</td>\n",
              "      <td>31.10</td>\n",
              "      <td>992.28</td>\n",
              "      <td>240</td>\n",
              "      <td>0.03</td>\n",
              "      <td>0</td>\n",
              "      <td>10.000</td>\n",
              "      <td>315.7</td>\n",
              "      <td>1543319437</td>\n",
              "      <td>1543353364</td>\n",
              "      <td>0.68</td>\n",
              "      <td>0.1064</td>\n",
              "      <td>1543338000</td>\n",
              "      <td>35.36</td>\n",
              "      <td>1543377600</td>\n",
              "      <td>47.55</td>\n",
              "      <td>1543320000</td>\n",
              "      <td>31.04</td>\n",
              "      <td>1543377600</td>\n",
              "      <td>44.12</td>\n",
              "      <td>1543320000</td>\n",
              "    </tr>\n",
              "    <tr>\n",
              "      <th>3</th>\n",
              "      <td>c2d88af2-d278-4bfd-a8d0-29ca77cc5512</td>\n",
              "      <td>1.543554e+09</td>\n",
              "      <td>4</td>\n",
              "      <td>30</td>\n",
              "      <td>11</td>\n",
              "      <td>2018-11-30 04:53:02</td>\n",
              "      <td>America/New_York</td>\n",
              "      <td>Haymarket Square</td>\n",
              "      <td>North Station</td>\n",
              "      <td>Lyft</td>\n",
              "      <td>lyft_luxsuv</td>\n",
              "      <td>Lux Black XL</td>\n",
              "      <td>26.0</td>\n",
              "      <td>0.44</td>\n",
              "      <td>1.0</td>\n",
              "      <td>42.2148</td>\n",
              "      <td>-71.033</td>\n",
              "      <td>34.38</td>\n",
              "      <td>29.63</td>\n",
              "      <td>Clear</td>\n",
              "      <td>Partly cloudy throughout the day.</td>\n",
              "      <td>0.0000</td>\n",
              "      <td>0.0</td>\n",
              "      <td>0.73</td>\n",
              "      <td>5.28</td>\n",
              "      <td>5.28</td>\n",
              "      <td>1543514400</td>\n",
              "      <td>10.000</td>\n",
              "      <td>45.03</td>\n",
              "      <td>1543510800</td>\n",
              "      <td>28.90</td>\n",
              "      <td>1543579200</td>\n",
              "      <td>38.53</td>\n",
              "      <td>1543510800</td>\n",
              "      <td>26.20</td>\n",
              "      <td>1543575600</td>\n",
              "      <td>clear-night</td>\n",
              "      <td>26.64</td>\n",
              "      <td>1013.73</td>\n",
              "      <td>310</td>\n",
              "      <td>0.00</td>\n",
              "      <td>0</td>\n",
              "      <td>10.000</td>\n",
              "      <td>291.1</td>\n",
              "      <td>1543492370</td>\n",
              "      <td>1543526114</td>\n",
              "      <td>0.75</td>\n",
              "      <td>0.0000</td>\n",
              "      <td>1543507200</td>\n",
              "      <td>34.67</td>\n",
              "      <td>1543550400</td>\n",
              "      <td>45.03</td>\n",
              "      <td>1543510800</td>\n",
              "      <td>30.30</td>\n",
              "      <td>1543550400</td>\n",
              "      <td>38.53</td>\n",
              "      <td>1543510800</td>\n",
              "    </tr>\n",
              "    <tr>\n",
              "      <th>4</th>\n",
              "      <td>e0126e1f-8ca9-4f2e-82b3-50505a09db9a</td>\n",
              "      <td>1.543463e+09</td>\n",
              "      <td>3</td>\n",
              "      <td>29</td>\n",
              "      <td>11</td>\n",
              "      <td>2018-11-29 03:49:20</td>\n",
              "      <td>America/New_York</td>\n",
              "      <td>Haymarket Square</td>\n",
              "      <td>North Station</td>\n",
              "      <td>Lyft</td>\n",
              "      <td>lyft_plus</td>\n",
              "      <td>Lyft XL</td>\n",
              "      <td>9.0</td>\n",
              "      <td>0.44</td>\n",
              "      <td>1.0</td>\n",
              "      <td>42.2148</td>\n",
              "      <td>-71.033</td>\n",
              "      <td>37.44</td>\n",
              "      <td>30.88</td>\n",
              "      <td>Partly Cloudy</td>\n",
              "      <td>Mostly cloudy throughout the day.</td>\n",
              "      <td>0.0000</td>\n",
              "      <td>0.0</td>\n",
              "      <td>0.70</td>\n",
              "      <td>9.14</td>\n",
              "      <td>9.14</td>\n",
              "      <td>1543446000</td>\n",
              "      <td>10.000</td>\n",
              "      <td>42.18</td>\n",
              "      <td>1543420800</td>\n",
              "      <td>36.71</td>\n",
              "      <td>1543478400</td>\n",
              "      <td>35.75</td>\n",
              "      <td>1543420800</td>\n",
              "      <td>30.29</td>\n",
              "      <td>1543460400</td>\n",
              "      <td>partly-cloudy-night</td>\n",
              "      <td>28.61</td>\n",
              "      <td>998.36</td>\n",
              "      <td>303</td>\n",
              "      <td>0.44</td>\n",
              "      <td>0</td>\n",
              "      <td>10.000</td>\n",
              "      <td>347.7</td>\n",
              "      <td>1543405904</td>\n",
              "      <td>1543439738</td>\n",
              "      <td>0.72</td>\n",
              "      <td>0.0001</td>\n",
              "      <td>1543420800</td>\n",
              "      <td>33.10</td>\n",
              "      <td>1543402800</td>\n",
              "      <td>42.18</td>\n",
              "      <td>1543420800</td>\n",
              "      <td>29.11</td>\n",
              "      <td>1543392000</td>\n",
              "      <td>35.75</td>\n",
              "      <td>1543420800</td>\n",
              "    </tr>\n",
              "  </tbody>\n",
              "</table>\n",
              "</div>\n",
              "      <button class=\"colab-df-convert\" onclick=\"convertToInteractive('df-c1122ee7-9c6c-4bee-b93d-957f95c3c3d8')\"\n",
              "              title=\"Convert this dataframe to an interactive table.\"\n",
              "              style=\"display:none;\">\n",
              "        \n",
              "  <svg xmlns=\"http://www.w3.org/2000/svg\" height=\"24px\"viewBox=\"0 0 24 24\"\n",
              "       width=\"24px\">\n",
              "    <path d=\"M0 0h24v24H0V0z\" fill=\"none\"/>\n",
              "    <path d=\"M18.56 5.44l.94 2.06.94-2.06 2.06-.94-2.06-.94-.94-2.06-.94 2.06-2.06.94zm-11 1L8.5 8.5l.94-2.06 2.06-.94-2.06-.94L8.5 2.5l-.94 2.06-2.06.94zm10 10l.94 2.06.94-2.06 2.06-.94-2.06-.94-.94-2.06-.94 2.06-2.06.94z\"/><path d=\"M17.41 7.96l-1.37-1.37c-.4-.4-.92-.59-1.43-.59-.52 0-1.04.2-1.43.59L10.3 9.45l-7.72 7.72c-.78.78-.78 2.05 0 2.83L4 21.41c.39.39.9.59 1.41.59.51 0 1.02-.2 1.41-.59l7.78-7.78 2.81-2.81c.8-.78.8-2.07 0-2.86zM5.41 20L4 18.59l7.72-7.72 1.47 1.35L5.41 20z\"/>\n",
              "  </svg>\n",
              "      </button>\n",
              "      \n",
              "  <style>\n",
              "    .colab-df-container {\n",
              "      display:flex;\n",
              "      flex-wrap:wrap;\n",
              "      gap: 12px;\n",
              "    }\n",
              "\n",
              "    .colab-df-convert {\n",
              "      background-color: #E8F0FE;\n",
              "      border: none;\n",
              "      border-radius: 50%;\n",
              "      cursor: pointer;\n",
              "      display: none;\n",
              "      fill: #1967D2;\n",
              "      height: 32px;\n",
              "      padding: 0 0 0 0;\n",
              "      width: 32px;\n",
              "    }\n",
              "\n",
              "    .colab-df-convert:hover {\n",
              "      background-color: #E2EBFA;\n",
              "      box-shadow: 0px 1px 2px rgba(60, 64, 67, 0.3), 0px 1px 3px 1px rgba(60, 64, 67, 0.15);\n",
              "      fill: #174EA6;\n",
              "    }\n",
              "\n",
              "    [theme=dark] .colab-df-convert {\n",
              "      background-color: #3B4455;\n",
              "      fill: #D2E3FC;\n",
              "    }\n",
              "\n",
              "    [theme=dark] .colab-df-convert:hover {\n",
              "      background-color: #434B5C;\n",
              "      box-shadow: 0px 1px 3px 1px rgba(0, 0, 0, 0.15);\n",
              "      filter: drop-shadow(0px 1px 2px rgba(0, 0, 0, 0.3));\n",
              "      fill: #FFFFFF;\n",
              "    }\n",
              "  </style>\n",
              "\n",
              "      <script>\n",
              "        const buttonEl =\n",
              "          document.querySelector('#df-c1122ee7-9c6c-4bee-b93d-957f95c3c3d8 button.colab-df-convert');\n",
              "        buttonEl.style.display =\n",
              "          google.colab.kernel.accessAllowed ? 'block' : 'none';\n",
              "\n",
              "        async function convertToInteractive(key) {\n",
              "          const element = document.querySelector('#df-c1122ee7-9c6c-4bee-b93d-957f95c3c3d8');\n",
              "          const dataTable =\n",
              "            await google.colab.kernel.invokeFunction('convertToInteractive',\n",
              "                                                     [key], {});\n",
              "          if (!dataTable) return;\n",
              "\n",
              "          const docLinkHtml = 'Like what you see? Visit the ' +\n",
              "            '<a target=\"_blank\" href=https://colab.research.google.com/notebooks/data_table.ipynb>data table notebook</a>'\n",
              "            + ' to learn more about interactive tables.';\n",
              "          element.innerHTML = '';\n",
              "          dataTable['output_type'] = 'display_data';\n",
              "          await google.colab.output.renderOutput(dataTable, element);\n",
              "          const docLink = document.createElement('div');\n",
              "          docLink.innerHTML = docLinkHtml;\n",
              "          element.appendChild(docLink);\n",
              "        }\n",
              "      </script>\n",
              "    </div>\n",
              "  </div>\n",
              "  "
            ]
          },
          "metadata": {},
          "execution_count": 4
        }
      ],
      "source": [
        "pd.set_option(\"display.max.columns\", None)\n",
        "df.head(5)"
      ]
    },
    {
      "cell_type": "code",
      "execution_count": null,
      "metadata": {
        "colab": {
          "base_uri": "https://localhost:8080/"
        },
        "id": "ksrKGnZKxYHx",
        "outputId": "6692abc4-0eef-4646-ed27-613d7063414e"
      },
      "outputs": [
        {
          "output_type": "stream",
          "name": "stdout",
          "text": [
            "<class 'pandas.core.frame.DataFrame'>\n",
            "RangeIndex: 693071 entries, 0 to 693070\n",
            "Data columns (total 57 columns):\n",
            " #   Column                       Non-Null Count   Dtype  \n",
            "---  ------                       --------------   -----  \n",
            " 0   id                           693071 non-null  object \n",
            " 1   timestamp                    693071 non-null  float64\n",
            " 2   hour                         693071 non-null  int64  \n",
            " 3   day                          693071 non-null  int64  \n",
            " 4   month                        693071 non-null  int64  \n",
            " 5   datetime                     693071 non-null  object \n",
            " 6   timezone                     693071 non-null  object \n",
            " 7   source                       693071 non-null  object \n",
            " 8   destination                  693071 non-null  object \n",
            " 9   cab_type                     693071 non-null  object \n",
            " 10  product_id                   693071 non-null  object \n",
            " 11  name                         693071 non-null  object \n",
            " 12  price                        637976 non-null  float64\n",
            " 13  distance                     693071 non-null  float64\n",
            " 14  surge_multiplier             693071 non-null  float64\n",
            " 15  latitude                     693071 non-null  float64\n",
            " 16  longitude                    693071 non-null  float64\n",
            " 17  temperature                  693071 non-null  float64\n",
            " 18  apparentTemperature          693071 non-null  float64\n",
            " 19  short_summary                693071 non-null  object \n",
            " 20  long_summary                 693071 non-null  object \n",
            " 21  precipIntensity              693071 non-null  float64\n",
            " 22  precipProbability            693071 non-null  float64\n",
            " 23  humidity                     693071 non-null  float64\n",
            " 24  windSpeed                    693071 non-null  float64\n",
            " 25  windGust                     693071 non-null  float64\n",
            " 26  windGustTime                 693071 non-null  int64  \n",
            " 27  visibility                   693071 non-null  float64\n",
            " 28  temperatureHigh              693071 non-null  float64\n",
            " 29  temperatureHighTime          693071 non-null  int64  \n",
            " 30  temperatureLow               693071 non-null  float64\n",
            " 31  temperatureLowTime           693071 non-null  int64  \n",
            " 32  apparentTemperatureHigh      693071 non-null  float64\n",
            " 33  apparentTemperatureHighTime  693071 non-null  int64  \n",
            " 34  apparentTemperatureLow       693071 non-null  float64\n",
            " 35  apparentTemperatureLowTime   693071 non-null  int64  \n",
            " 36  icon                         693071 non-null  object \n",
            " 37  dewPoint                     693071 non-null  float64\n",
            " 38  pressure                     693071 non-null  float64\n",
            " 39  windBearing                  693071 non-null  int64  \n",
            " 40  cloudCover                   693071 non-null  float64\n",
            " 41  uvIndex                      693071 non-null  int64  \n",
            " 42  visibility.1                 693071 non-null  float64\n",
            " 43  ozone                        693071 non-null  float64\n",
            " 44  sunriseTime                  693071 non-null  int64  \n",
            " 45  sunsetTime                   693071 non-null  int64  \n",
            " 46  moonPhase                    693071 non-null  float64\n",
            " 47  precipIntensityMax           693071 non-null  float64\n",
            " 48  uvIndexTime                  693071 non-null  int64  \n",
            " 49  temperatureMin               693071 non-null  float64\n",
            " 50  temperatureMinTime           693071 non-null  int64  \n",
            " 51  temperatureMax               693071 non-null  float64\n",
            " 52  temperatureMaxTime           693071 non-null  int64  \n",
            " 53  apparentTemperatureMin       693071 non-null  float64\n",
            " 54  apparentTemperatureMinTime   693071 non-null  int64  \n",
            " 55  apparentTemperatureMax       693071 non-null  float64\n",
            " 56  apparentTemperatureMaxTime   693071 non-null  int64  \n",
            "dtypes: float64(29), int64(17), object(11)\n",
            "memory usage: 301.4+ MB\n"
          ]
        }
      ],
      "source": [
        "df.info()"
      ]
    },
    {
      "cell_type": "code",
      "source": [
        "df.isna().sum()"
      ],
      "metadata": {
        "colab": {
          "base_uri": "https://localhost:8080/"
        },
        "id": "doAbTUeELEYL",
        "outputId": "ea4f7e1d-4a4d-4563-a038-f7851b202c53"
      },
      "execution_count": null,
      "outputs": [
        {
          "output_type": "execute_result",
          "data": {
            "text/plain": [
              "id                                 0\n",
              "timestamp                          0\n",
              "hour                               0\n",
              "day                                0\n",
              "month                              0\n",
              "datetime                           0\n",
              "timezone                           0\n",
              "source                             0\n",
              "destination                        0\n",
              "cab_type                           0\n",
              "product_id                         0\n",
              "name                               0\n",
              "price                          55095\n",
              "distance                           0\n",
              "surge_multiplier                   0\n",
              "latitude                           0\n",
              "longitude                          0\n",
              "temperature                        0\n",
              "apparentTemperature                0\n",
              "short_summary                      0\n",
              "long_summary                       0\n",
              "precipIntensity                    0\n",
              "precipProbability                  0\n",
              "humidity                           0\n",
              "windSpeed                          0\n",
              "windGust                           0\n",
              "windGustTime                       0\n",
              "visibility                         0\n",
              "temperatureHigh                    0\n",
              "temperatureHighTime                0\n",
              "temperatureLow                     0\n",
              "temperatureLowTime                 0\n",
              "apparentTemperatureHigh            0\n",
              "apparentTemperatureHighTime        0\n",
              "apparentTemperatureLow             0\n",
              "apparentTemperatureLowTime         0\n",
              "icon                               0\n",
              "dewPoint                           0\n",
              "pressure                           0\n",
              "windBearing                        0\n",
              "cloudCover                         0\n",
              "uvIndex                            0\n",
              "visibility.1                       0\n",
              "ozone                              0\n",
              "sunriseTime                        0\n",
              "sunsetTime                         0\n",
              "moonPhase                          0\n",
              "precipIntensityMax                 0\n",
              "uvIndexTime                        0\n",
              "temperatureMin                     0\n",
              "temperatureMinTime                 0\n",
              "temperatureMax                     0\n",
              "temperatureMaxTime                 0\n",
              "apparentTemperatureMin             0\n",
              "apparentTemperatureMinTime         0\n",
              "apparentTemperatureMax             0\n",
              "apparentTemperatureMaxTime         0\n",
              "dtype: int64"
            ]
          },
          "metadata": {},
          "execution_count": 6
        }
      ]
    },
    {
      "cell_type": "code",
      "execution_count": null,
      "metadata": {
        "colab": {
          "base_uri": "https://localhost:8080/"
        },
        "id": "PNlAhVS6Zogx",
        "outputId": "25a2c143-893f-4ac2-9d64-6e72d9f090c0"
      },
      "outputs": [
        {
          "output_type": "execute_result",
          "data": {
            "text/plain": [
              "(693071, 57)"
            ]
          },
          "metadata": {},
          "execution_count": 7
        }
      ],
      "source": [
        "df.shape"
      ]
    },
    {
      "cell_type": "code",
      "execution_count": null,
      "metadata": {
        "colab": {
          "base_uri": "https://localhost:8080/"
        },
        "id": "KL9oTSoKhXtv",
        "outputId": "1119e9f2-3ce4-4c31-f345-468a079e5226"
      },
      "outputs": [
        {
          "output_type": "stream",
          "name": "stdout",
          "text": [
            "['id', 'datetime', 'timezone', 'source', 'destination', 'cab_type', 'product_id', 'name', 'short_summary', 'long_summary', 'icon']\n",
            "There are 11 categorical variables\n"
          ]
        }
      ],
      "source": [
        "cat_columns = df.select_dtypes(include=['object']).columns.tolist()\n",
        "num_columns = df.select_dtypes(include=np.number).columns.tolist() \n",
        "print(cat_columns)\n",
        "print('There are {} categorical variables' .format(len(cat_columns)))"
      ]
    },
    {
      "cell_type": "markdown",
      "metadata": {
        "id": "cfo05e5aa5OG"
      },
      "source": [
        "The dataframe has 693071 observations with 57 variables. 11 of them are categorical and 46 of them are numerical. The variable we're using as a prediction target is the column `price`. \n",
        "\n",
        "Unfortunately, there are many missing values on that column and that column only. This is bad, but also largely good. Because we can just drop observations with missing values on column `price` without consequences to train/test data and there will be no more missing values in the dataset."
      ]
    },
    {
      "cell_type": "code",
      "source": [
        "ride = df.copy()\n",
        "ride.dropna(axis=0, inplace = True)"
      ],
      "metadata": {
        "id": "NSIDekWgL3Wp"
      },
      "execution_count": 5,
      "outputs": []
    },
    {
      "cell_type": "markdown",
      "source": [
        "Now we have a cleaned up dataframe."
      ],
      "metadata": {
        "id": "1Hu6GNFmplMl"
      }
    },
    {
      "cell_type": "markdown",
      "metadata": {
        "id": "NKLORXPmp_iK"
      },
      "source": [
        "###**C.2.2. Multicolinearity Test**"
      ]
    },
    {
      "cell_type": "markdown",
      "source": [
        "57 Columns is way too many for our model to handle. One reason is that it would take too much of computing time to consider all variables. Another is that too many variables can lead to model overfitting. That is, instead of creating a generalized prediction algorithm, the model creates a highly specific prediction algorithm that will be highly inaccurate outside the training data.\n",
        "\n",
        "Therefore, we want to eliminate as much of unnecessary variables as possible. But which one? For example let there be two categorical variables, that one is actual names and the other is the id of the names. Either one of those variables won't be very helpful for our model because both are basically the same thing. This is called colinearity, and it can happen between more than two variables, hence, multicolinearity. We want to eliminate variables that have high multicolinearity within the dataset."
      ],
      "metadata": {
        "id": "vh6gTKhfSC3j"
      }
    },
    {
      "cell_type": "code",
      "execution_count": null,
      "metadata": {
        "id": "tOsfIQGy1-jI"
      },
      "outputs": [],
      "source": [
        "Correlations = ride[num_columns]\n",
        "vif_table = calc_vif(Correlations)\n",
        "# this cell took like 12 minutes alone. Please refer to table below instead of re-running it."
      ]
    },
    {
      "cell_type": "code",
      "source": [
        "vif_table[vif_table['VIF']<=10]"
      ],
      "metadata": {
        "colab": {
          "base_uri": "https://localhost:8080/",
          "height": 394
        },
        "id": "mPF5dnc3QR8t",
        "outputId": "cf91638a-cb5a-4124-98ba-098b0ff33f6f"
      },
      "execution_count": null,
      "outputs": [
        {
          "output_type": "execute_result",
          "data": {
            "text/plain": [
              "            variables       VIF\n",
              "1                hour  6.222732\n",
              "4               price  1.208808\n",
              "5            distance  1.139914\n",
              "6    surge_multiplier  1.065698\n",
              "7            latitude  6.511428\n",
              "8           longitude  2.347308\n",
              "11    precipIntensity  5.208862\n",
              "12  precipProbability  6.961462\n",
              "28        windBearing  3.535974\n",
              "29         cloudCover  2.672954\n",
              "30            uvIndex  1.465318"
            ],
            "text/html": [
              "\n",
              "  <div id=\"df-1a165886-ff39-4fd5-86cf-3cef45efc965\">\n",
              "    <div class=\"colab-df-container\">\n",
              "      <div>\n",
              "<style scoped>\n",
              "    .dataframe tbody tr th:only-of-type {\n",
              "        vertical-align: middle;\n",
              "    }\n",
              "\n",
              "    .dataframe tbody tr th {\n",
              "        vertical-align: top;\n",
              "    }\n",
              "\n",
              "    .dataframe thead th {\n",
              "        text-align: right;\n",
              "    }\n",
              "</style>\n",
              "<table border=\"1\" class=\"dataframe\">\n",
              "  <thead>\n",
              "    <tr style=\"text-align: right;\">\n",
              "      <th></th>\n",
              "      <th>variables</th>\n",
              "      <th>VIF</th>\n",
              "    </tr>\n",
              "  </thead>\n",
              "  <tbody>\n",
              "    <tr>\n",
              "      <th>1</th>\n",
              "      <td>hour</td>\n",
              "      <td>6.222732</td>\n",
              "    </tr>\n",
              "    <tr>\n",
              "      <th>4</th>\n",
              "      <td>price</td>\n",
              "      <td>1.208808</td>\n",
              "    </tr>\n",
              "    <tr>\n",
              "      <th>5</th>\n",
              "      <td>distance</td>\n",
              "      <td>1.139914</td>\n",
              "    </tr>\n",
              "    <tr>\n",
              "      <th>6</th>\n",
              "      <td>surge_multiplier</td>\n",
              "      <td>1.065698</td>\n",
              "    </tr>\n",
              "    <tr>\n",
              "      <th>7</th>\n",
              "      <td>latitude</td>\n",
              "      <td>6.511428</td>\n",
              "    </tr>\n",
              "    <tr>\n",
              "      <th>8</th>\n",
              "      <td>longitude</td>\n",
              "      <td>2.347308</td>\n",
              "    </tr>\n",
              "    <tr>\n",
              "      <th>11</th>\n",
              "      <td>precipIntensity</td>\n",
              "      <td>5.208862</td>\n",
              "    </tr>\n",
              "    <tr>\n",
              "      <th>12</th>\n",
              "      <td>precipProbability</td>\n",
              "      <td>6.961462</td>\n",
              "    </tr>\n",
              "    <tr>\n",
              "      <th>28</th>\n",
              "      <td>windBearing</td>\n",
              "      <td>3.535974</td>\n",
              "    </tr>\n",
              "    <tr>\n",
              "      <th>29</th>\n",
              "      <td>cloudCover</td>\n",
              "      <td>2.672954</td>\n",
              "    </tr>\n",
              "    <tr>\n",
              "      <th>30</th>\n",
              "      <td>uvIndex</td>\n",
              "      <td>1.465318</td>\n",
              "    </tr>\n",
              "  </tbody>\n",
              "</table>\n",
              "</div>\n",
              "      <button class=\"colab-df-convert\" onclick=\"convertToInteractive('df-1a165886-ff39-4fd5-86cf-3cef45efc965')\"\n",
              "              title=\"Convert this dataframe to an interactive table.\"\n",
              "              style=\"display:none;\">\n",
              "        \n",
              "  <svg xmlns=\"http://www.w3.org/2000/svg\" height=\"24px\"viewBox=\"0 0 24 24\"\n",
              "       width=\"24px\">\n",
              "    <path d=\"M0 0h24v24H0V0z\" fill=\"none\"/>\n",
              "    <path d=\"M18.56 5.44l.94 2.06.94-2.06 2.06-.94-2.06-.94-.94-2.06-.94 2.06-2.06.94zm-11 1L8.5 8.5l.94-2.06 2.06-.94-2.06-.94L8.5 2.5l-.94 2.06-2.06.94zm10 10l.94 2.06.94-2.06 2.06-.94-2.06-.94-.94-2.06-.94 2.06-2.06.94z\"/><path d=\"M17.41 7.96l-1.37-1.37c-.4-.4-.92-.59-1.43-.59-.52 0-1.04.2-1.43.59L10.3 9.45l-7.72 7.72c-.78.78-.78 2.05 0 2.83L4 21.41c.39.39.9.59 1.41.59.51 0 1.02-.2 1.41-.59l7.78-7.78 2.81-2.81c.8-.78.8-2.07 0-2.86zM5.41 20L4 18.59l7.72-7.72 1.47 1.35L5.41 20z\"/>\n",
              "  </svg>\n",
              "      </button>\n",
              "      \n",
              "  <style>\n",
              "    .colab-df-container {\n",
              "      display:flex;\n",
              "      flex-wrap:wrap;\n",
              "      gap: 12px;\n",
              "    }\n",
              "\n",
              "    .colab-df-convert {\n",
              "      background-color: #E8F0FE;\n",
              "      border: none;\n",
              "      border-radius: 50%;\n",
              "      cursor: pointer;\n",
              "      display: none;\n",
              "      fill: #1967D2;\n",
              "      height: 32px;\n",
              "      padding: 0 0 0 0;\n",
              "      width: 32px;\n",
              "    }\n",
              "\n",
              "    .colab-df-convert:hover {\n",
              "      background-color: #E2EBFA;\n",
              "      box-shadow: 0px 1px 2px rgba(60, 64, 67, 0.3), 0px 1px 3px 1px rgba(60, 64, 67, 0.15);\n",
              "      fill: #174EA6;\n",
              "    }\n",
              "\n",
              "    [theme=dark] .colab-df-convert {\n",
              "      background-color: #3B4455;\n",
              "      fill: #D2E3FC;\n",
              "    }\n",
              "\n",
              "    [theme=dark] .colab-df-convert:hover {\n",
              "      background-color: #434B5C;\n",
              "      box-shadow: 0px 1px 3px 1px rgba(0, 0, 0, 0.15);\n",
              "      filter: drop-shadow(0px 1px 2px rgba(0, 0, 0, 0.3));\n",
              "      fill: #FFFFFF;\n",
              "    }\n",
              "  </style>\n",
              "\n",
              "      <script>\n",
              "        const buttonEl =\n",
              "          document.querySelector('#df-1a165886-ff39-4fd5-86cf-3cef45efc965 button.colab-df-convert');\n",
              "        buttonEl.style.display =\n",
              "          google.colab.kernel.accessAllowed ? 'block' : 'none';\n",
              "\n",
              "        async function convertToInteractive(key) {\n",
              "          const element = document.querySelector('#df-1a165886-ff39-4fd5-86cf-3cef45efc965');\n",
              "          const dataTable =\n",
              "            await google.colab.kernel.invokeFunction('convertToInteractive',\n",
              "                                                     [key], {});\n",
              "          if (!dataTable) return;\n",
              "\n",
              "          const docLinkHtml = 'Like what you see? Visit the ' +\n",
              "            '<a target=\"_blank\" href=https://colab.research.google.com/notebooks/data_table.ipynb>data table notebook</a>'\n",
              "            + ' to learn more about interactive tables.';\n",
              "          element.innerHTML = '';\n",
              "          dataTable['output_type'] = 'display_data';\n",
              "          await google.colab.output.renderOutput(dataTable, element);\n",
              "          const docLink = document.createElement('div');\n",
              "          docLink.innerHTML = docLinkHtml;\n",
              "          element.appendChild(docLink);\n",
              "        }\n",
              "      </script>\n",
              "    </div>\n",
              "  </div>\n",
              "  "
            ]
          },
          "metadata": {},
          "execution_count": 39
        }
      ]
    },
    {
      "cell_type": "markdown",
      "source": [
        "Now that we have the columns with low multicolinearity, we will drop the other numerical columns."
      ],
      "metadata": {
        "id": "xXc2nRPsUjw-"
      }
    },
    {
      "cell_type": "code",
      "source": [
        "# num_columns_1 = vif_table[vif_table['VIF']<=10]['variables'].tolist()\n",
        "num_columns_1 = ['hour', \n",
        "                 'price', \n",
        "                 'distance',\t\n",
        "                 'surge_multiplier',\t\n",
        "                 'latitude',\t\n",
        "                 'longitude',\t\n",
        "                 'precipIntensity',\t\n",
        "                 'precipProbability',\t\n",
        "                 'windBearing',\t\n",
        "                 'cloudCover',\t\n",
        "                 'uvIndex']"
      ],
      "metadata": {
        "id": "vRz4sIvWVG6-"
      },
      "execution_count": null,
      "outputs": []
    },
    {
      "cell_type": "markdown",
      "metadata": {
        "id": "B2a3SSfbqJCp"
      },
      "source": [
        "###**C.2.3. Autocorrelation Test**"
      ]
    },
    {
      "cell_type": "markdown",
      "source": [
        "Other than multicolinearity, we also concern if the variables autocorrelate. If the variable is time-variant, it's values could influenced by the previous value and this self-influence can affect the predictive algorithm. We want to eliminate autocorrelative variables within the dataset.\n",
        "\n",
        "We can test for autocorrelation using Durbin-Watson test.\n",
        "\n",
        "<img src='https://www.researchgate.net/profile/Sc-Thushara/post/How-to-choose-significance-level-for-Durbin-Watson-Statistics/attachment/5a52bbd6b53d2f0bba499b3b/AS%3A580324195553280%401515371478750/image/DW.jpg'>"
      ],
      "metadata": {
        "id": "jt5knXH5X4IZ"
      }
    },
    {
      "cell_type": "code",
      "source": [
        "X = ride.loc[:,num_columns_1]\n",
        "X.drop(['price'], axis=1, inplace=True)\n",
        "\n",
        "Y = ride['price']"
      ],
      "metadata": {
        "id": "YGKtMif0V-SB"
      },
      "execution_count": null,
      "outputs": []
    },
    {
      "cell_type": "code",
      "source": [
        "feature = sm.add_constant(X)\n",
        "mod = sm.OLS(Y, feature)\n",
        "result = mod.fit()\n",
        "print(result.summary())"
      ],
      "metadata": {
        "colab": {
          "base_uri": "https://localhost:8080/"
        },
        "id": "ibo3y2QVXI6T",
        "outputId": "c34e1fb9-2997-44de-8123-35ab2222ab58"
      },
      "execution_count": null,
      "outputs": [
        {
          "output_type": "stream",
          "name": "stderr",
          "text": [
            "/usr/local/lib/python3.7/dist-packages/statsmodels/tsa/tsatools.py:142: FutureWarning: In a future version of pandas all arguments of concat except for the argument 'objs' will be keyword-only\n",
            "  x = pd.concat(x[::order], 1)\n"
          ]
        },
        {
          "output_type": "stream",
          "name": "stdout",
          "text": [
            "                            OLS Regression Results                            \n",
            "==============================================================================\n",
            "Dep. Variable:                  price   R-squared:                       0.173\n",
            "Model:                            OLS   Adj. R-squared:                  0.173\n",
            "Method:                 Least Squares   F-statistic:                 1.332e+04\n",
            "Date:                Sun, 11 Sep 2022   Prob (F-statistic):               0.00\n",
            "Time:                        11:45:06   Log-Likelihood:            -2.2691e+06\n",
            "No. Observations:              637976   AIC:                         4.538e+06\n",
            "Df Residuals:                  637965   BIC:                         4.538e+06\n",
            "Df Model:                          10                                         \n",
            "Covariance Type:            nonrobust                                         \n",
            "=====================================================================================\n",
            "                        coef    std err          t      P>|t|      [0.025      0.975]\n",
            "-------------------------------------------------------------------------------------\n",
            "const               -30.9475     39.465     -0.784      0.433    -108.298      46.403\n",
            "hour               -3.88e-06      0.002     -0.002      0.998      -0.003       0.003\n",
            "distance              2.7844      0.009    297.634      0.000       2.766       2.803\n",
            "surge_multiplier     22.6372      0.111    203.361      0.000      22.419      22.855\n",
            "latitude              0.2692      0.263      1.024      0.306      -0.246       0.784\n",
            "longitude            -0.0986      0.622     -0.159      0.874      -1.317       1.120\n",
            "precipIntensity       0.5061      0.751      0.674      0.500      -0.965       1.977\n",
            "precipProbability    -0.0520      0.063     -0.823      0.410      -0.176       0.072\n",
            "windBearing       -6.698e-05      0.000     -0.544      0.587      -0.000       0.000\n",
            "cloudCover            0.0494      0.032      1.524      0.127      -0.014       0.113\n",
            "uvIndex              -0.0086      0.024     -0.360      0.719      -0.056       0.038\n",
            "==============================================================================\n",
            "Omnibus:                    40109.537   Durbin-Watson:                   2.237\n",
            "Prob(Omnibus):                  0.000   Jarque-Bera (JB):            46229.055\n",
            "Skew:                           0.644   Prob(JB):                         0.00\n",
            "Kurtosis:                       2.713   Cond. No.                     9.42e+05\n",
            "==============================================================================\n",
            "\n",
            "Notes:\n",
            "[1] Standard Errors assume that the covariance matrix of the errors is correctly specified.\n",
            "[2] The condition number is large, 9.42e+05. This might indicate that there are\n",
            "strong multicollinearity or other numerical problems.\n"
          ]
        }
      ]
    },
    {
      "cell_type": "markdown",
      "source": [
        "Fortunately, the Durbin-Watson value returns value close to 2, so we don't have to take further action"
      ],
      "metadata": {
        "id": "F2kD-ZvVZOMT"
      }
    },
    {
      "cell_type": "markdown",
      "source": [
        "###**C.2.4. Redundant Categorical Columns**"
      ],
      "metadata": {
        "id": "zkJMKYkxZxTT"
      }
    },
    {
      "cell_type": "markdown",
      "source": [
        "Just as numerical variables can be multicolinear, categorical variables can be redundant. let's take a look"
      ],
      "metadata": {
        "id": "vPSK-RYaaRtL"
      }
    },
    {
      "cell_type": "code",
      "source": [
        "ride_cat = ride.loc[:,cat_columns]\n",
        "ride_cat.sample(5)"
      ],
      "metadata": {
        "colab": {
          "base_uri": "https://localhost:8080/",
          "height": 476
        },
        "id": "krXLFrLVZ3V6",
        "outputId": "4be7dbf8-10e5-40e9-bcbe-9d003d1f9ffb"
      },
      "execution_count": null,
      "outputs": [
        {
          "output_type": "execute_result",
          "data": {
            "text/plain": [
              "                                          id             datetime  \\\n",
              "142947  e02b1d1d-e938-41f5-b8d2-8fd77e66f829  2018-12-02 10:17:58   \n",
              "355414  0a424f42-1e1e-4d65-8442-57b21d960f5f  2018-12-15 05:05:11   \n",
              "641375  e9579f0f-ee24-4f64-8dcf-4bf9a74c5488  2018-12-03 07:58:00   \n",
              "157855  35a21804-2268-4986-bfd0-4a92f2d3939b  2018-12-14 16:55:04   \n",
              "278090  769eaecd-d8be-46c5-81d1-c95f75602450  2018-12-16 19:20:13   \n",
              "\n",
              "                timezone             source         destination cab_type  \\\n",
              "142947  America/New_York  Boston University            West End     Lyft   \n",
              "355414  America/New_York          North End  Financial District     Lyft   \n",
              "641375  America/New_York      South Station  Financial District     Uber   \n",
              "157855  America/New_York           West End    Haymarket Square     Lyft   \n",
              "278090  America/New_York           West End           North End     Lyft   \n",
              "\n",
              "                                  product_id       name short_summary  \\\n",
              "142947                                  lyft       Lyft   Light Rain    \n",
              "355414                             lyft_plus    Lyft XL     Overcast    \n",
              "641375  6c84fd89-3f11-4782-9b50-97c468b19529      Black     Overcast    \n",
              "157855                             lyft_plus    Lyft XL        Clear    \n",
              "278090                              lyft_lux  Lux Black     Overcast    \n",
              "\n",
              "                               long_summary         icon  \n",
              "142947           Light rain until evening.         rain   \n",
              "355414   Mostly cloudy throughout the day.       cloudy   \n",
              "641375               Foggy in the morning.       cloudy   \n",
              "157855   Partly cloudy throughout the day.    clear-day   \n",
              "278090            Rain throughout the day.       cloudy   "
            ],
            "text/html": [
              "\n",
              "  <div id=\"df-0b36bdf7-4bff-4830-9a2b-bcb37cb23a1d\">\n",
              "    <div class=\"colab-df-container\">\n",
              "      <div>\n",
              "<style scoped>\n",
              "    .dataframe tbody tr th:only-of-type {\n",
              "        vertical-align: middle;\n",
              "    }\n",
              "\n",
              "    .dataframe tbody tr th {\n",
              "        vertical-align: top;\n",
              "    }\n",
              "\n",
              "    .dataframe thead th {\n",
              "        text-align: right;\n",
              "    }\n",
              "</style>\n",
              "<table border=\"1\" class=\"dataframe\">\n",
              "  <thead>\n",
              "    <tr style=\"text-align: right;\">\n",
              "      <th></th>\n",
              "      <th>id</th>\n",
              "      <th>datetime</th>\n",
              "      <th>timezone</th>\n",
              "      <th>source</th>\n",
              "      <th>destination</th>\n",
              "      <th>cab_type</th>\n",
              "      <th>product_id</th>\n",
              "      <th>name</th>\n",
              "      <th>short_summary</th>\n",
              "      <th>long_summary</th>\n",
              "      <th>icon</th>\n",
              "    </tr>\n",
              "  </thead>\n",
              "  <tbody>\n",
              "    <tr>\n",
              "      <th>142947</th>\n",
              "      <td>e02b1d1d-e938-41f5-b8d2-8fd77e66f829</td>\n",
              "      <td>2018-12-02 10:17:58</td>\n",
              "      <td>America/New_York</td>\n",
              "      <td>Boston University</td>\n",
              "      <td>West End</td>\n",
              "      <td>Lyft</td>\n",
              "      <td>lyft</td>\n",
              "      <td>Lyft</td>\n",
              "      <td>Light Rain</td>\n",
              "      <td>Light rain until evening.</td>\n",
              "      <td>rain</td>\n",
              "    </tr>\n",
              "    <tr>\n",
              "      <th>355414</th>\n",
              "      <td>0a424f42-1e1e-4d65-8442-57b21d960f5f</td>\n",
              "      <td>2018-12-15 05:05:11</td>\n",
              "      <td>America/New_York</td>\n",
              "      <td>North End</td>\n",
              "      <td>Financial District</td>\n",
              "      <td>Lyft</td>\n",
              "      <td>lyft_plus</td>\n",
              "      <td>Lyft XL</td>\n",
              "      <td>Overcast</td>\n",
              "      <td>Mostly cloudy throughout the day.</td>\n",
              "      <td>cloudy</td>\n",
              "    </tr>\n",
              "    <tr>\n",
              "      <th>641375</th>\n",
              "      <td>e9579f0f-ee24-4f64-8dcf-4bf9a74c5488</td>\n",
              "      <td>2018-12-03 07:58:00</td>\n",
              "      <td>America/New_York</td>\n",
              "      <td>South Station</td>\n",
              "      <td>Financial District</td>\n",
              "      <td>Uber</td>\n",
              "      <td>6c84fd89-3f11-4782-9b50-97c468b19529</td>\n",
              "      <td>Black</td>\n",
              "      <td>Overcast</td>\n",
              "      <td>Foggy in the morning.</td>\n",
              "      <td>cloudy</td>\n",
              "    </tr>\n",
              "    <tr>\n",
              "      <th>157855</th>\n",
              "      <td>35a21804-2268-4986-bfd0-4a92f2d3939b</td>\n",
              "      <td>2018-12-14 16:55:04</td>\n",
              "      <td>America/New_York</td>\n",
              "      <td>West End</td>\n",
              "      <td>Haymarket Square</td>\n",
              "      <td>Lyft</td>\n",
              "      <td>lyft_plus</td>\n",
              "      <td>Lyft XL</td>\n",
              "      <td>Clear</td>\n",
              "      <td>Partly cloudy throughout the day.</td>\n",
              "      <td>clear-day</td>\n",
              "    </tr>\n",
              "    <tr>\n",
              "      <th>278090</th>\n",
              "      <td>769eaecd-d8be-46c5-81d1-c95f75602450</td>\n",
              "      <td>2018-12-16 19:20:13</td>\n",
              "      <td>America/New_York</td>\n",
              "      <td>West End</td>\n",
              "      <td>North End</td>\n",
              "      <td>Lyft</td>\n",
              "      <td>lyft_lux</td>\n",
              "      <td>Lux Black</td>\n",
              "      <td>Overcast</td>\n",
              "      <td>Rain throughout the day.</td>\n",
              "      <td>cloudy</td>\n",
              "    </tr>\n",
              "  </tbody>\n",
              "</table>\n",
              "</div>\n",
              "      <button class=\"colab-df-convert\" onclick=\"convertToInteractive('df-0b36bdf7-4bff-4830-9a2b-bcb37cb23a1d')\"\n",
              "              title=\"Convert this dataframe to an interactive table.\"\n",
              "              style=\"display:none;\">\n",
              "        \n",
              "  <svg xmlns=\"http://www.w3.org/2000/svg\" height=\"24px\"viewBox=\"0 0 24 24\"\n",
              "       width=\"24px\">\n",
              "    <path d=\"M0 0h24v24H0V0z\" fill=\"none\"/>\n",
              "    <path d=\"M18.56 5.44l.94 2.06.94-2.06 2.06-.94-2.06-.94-.94-2.06-.94 2.06-2.06.94zm-11 1L8.5 8.5l.94-2.06 2.06-.94-2.06-.94L8.5 2.5l-.94 2.06-2.06.94zm10 10l.94 2.06.94-2.06 2.06-.94-2.06-.94-.94-2.06-.94 2.06-2.06.94z\"/><path d=\"M17.41 7.96l-1.37-1.37c-.4-.4-.92-.59-1.43-.59-.52 0-1.04.2-1.43.59L10.3 9.45l-7.72 7.72c-.78.78-.78 2.05 0 2.83L4 21.41c.39.39.9.59 1.41.59.51 0 1.02-.2 1.41-.59l7.78-7.78 2.81-2.81c.8-.78.8-2.07 0-2.86zM5.41 20L4 18.59l7.72-7.72 1.47 1.35L5.41 20z\"/>\n",
              "  </svg>\n",
              "      </button>\n",
              "      \n",
              "  <style>\n",
              "    .colab-df-container {\n",
              "      display:flex;\n",
              "      flex-wrap:wrap;\n",
              "      gap: 12px;\n",
              "    }\n",
              "\n",
              "    .colab-df-convert {\n",
              "      background-color: #E8F0FE;\n",
              "      border: none;\n",
              "      border-radius: 50%;\n",
              "      cursor: pointer;\n",
              "      display: none;\n",
              "      fill: #1967D2;\n",
              "      height: 32px;\n",
              "      padding: 0 0 0 0;\n",
              "      width: 32px;\n",
              "    }\n",
              "\n",
              "    .colab-df-convert:hover {\n",
              "      background-color: #E2EBFA;\n",
              "      box-shadow: 0px 1px 2px rgba(60, 64, 67, 0.3), 0px 1px 3px 1px rgba(60, 64, 67, 0.15);\n",
              "      fill: #174EA6;\n",
              "    }\n",
              "\n",
              "    [theme=dark] .colab-df-convert {\n",
              "      background-color: #3B4455;\n",
              "      fill: #D2E3FC;\n",
              "    }\n",
              "\n",
              "    [theme=dark] .colab-df-convert:hover {\n",
              "      background-color: #434B5C;\n",
              "      box-shadow: 0px 1px 3px 1px rgba(0, 0, 0, 0.15);\n",
              "      filter: drop-shadow(0px 1px 2px rgba(0, 0, 0, 0.3));\n",
              "      fill: #FFFFFF;\n",
              "    }\n",
              "  </style>\n",
              "\n",
              "      <script>\n",
              "        const buttonEl =\n",
              "          document.querySelector('#df-0b36bdf7-4bff-4830-9a2b-bcb37cb23a1d button.colab-df-convert');\n",
              "        buttonEl.style.display =\n",
              "          google.colab.kernel.accessAllowed ? 'block' : 'none';\n",
              "\n",
              "        async function convertToInteractive(key) {\n",
              "          const element = document.querySelector('#df-0b36bdf7-4bff-4830-9a2b-bcb37cb23a1d');\n",
              "          const dataTable =\n",
              "            await google.colab.kernel.invokeFunction('convertToInteractive',\n",
              "                                                     [key], {});\n",
              "          if (!dataTable) return;\n",
              "\n",
              "          const docLinkHtml = 'Like what you see? Visit the ' +\n",
              "            '<a target=\"_blank\" href=https://colab.research.google.com/notebooks/data_table.ipynb>data table notebook</a>'\n",
              "            + ' to learn more about interactive tables.';\n",
              "          element.innerHTML = '';\n",
              "          dataTable['output_type'] = 'display_data';\n",
              "          await google.colab.output.renderOutput(dataTable, element);\n",
              "          const docLink = document.createElement('div');\n",
              "          docLink.innerHTML = docLinkHtml;\n",
              "          element.appendChild(docLink);\n",
              "        }\n",
              "      </script>\n",
              "    </div>\n",
              "  </div>\n",
              "  "
            ]
          },
          "metadata": {},
          "execution_count": 11
        }
      ]
    },
    {
      "cell_type": "code",
      "source": [
        "ride.timezone.unique()"
      ],
      "metadata": {
        "colab": {
          "base_uri": "https://localhost:8080/"
        },
        "id": "XONAQ77Gai43",
        "outputId": "c78bc641-9518-43c6-a56e-43aba9144f23"
      },
      "execution_count": null,
      "outputs": [
        {
          "output_type": "execute_result",
          "data": {
            "text/plain": [
              "array(['America/New_York'], dtype=object)"
            ]
          },
          "metadata": {},
          "execution_count": 12
        }
      ]
    },
    {
      "cell_type": "code",
      "source": [
        "cat_corr = ride_cat.apply(lambda x : pd.factorize(x)[0]).corr(method='pearson', min_periods=1)\n",
        "plt.figure(figsize=(10, 5))\n",
        "sns.heatmap(cat_corr, annot= True, vmin=0, vmax=1)\n",
        "plt.show()"
      ],
      "metadata": {
        "colab": {
          "base_uri": "https://localhost:8080/",
          "height": 391
        },
        "id": "ZRu5p69MbDdF",
        "outputId": "aced223d-73d0-4dc3-c8d3-08dd9410f558"
      },
      "execution_count": null,
      "outputs": [
        {
          "output_type": "display_data",
          "data": {
            "text/plain": [
              "<Figure size 720x360 with 2 Axes>"
            ],
            "image/png": "[encoded data removed]"
          },
          "metadata": {
            "needs_background": "light"
          }
        }
      ]
    },
    {
      "cell_type": "code",
      "execution_count": null,
      "metadata": {
        "colab": {
          "base_uri": "https://localhost:8080/"
        },
        "id": "1OVexhsIt9rx",
        "outputId": "1f924921-4bcb-4f8b-b2cc-160f3b5346ae"
      },
      "outputs": [
        {
          "output_type": "stream",
          "name": "stdout",
          "text": [
            "Elements in column `product_id`: 12\n",
            "Elements in column `name`      : 12\n"
          ]
        }
      ],
      "source": [
        "print('Elements in column `product_id`: {}' .format(ride['product_id'].nunique()))\n",
        "print('Elements in column `name`      : {}' .format(ride['name'].nunique()))"
      ]
    },
    {
      "cell_type": "markdown",
      "source": [
        "The Column `timezone` only has 1 type of values, so we will drop it. \n",
        "\n",
        "Columns `product_id` and `name` are exactly the same. Both refers to type of service provided just in different names, so they are redundant. We can eliminate either one of them.\n",
        "\n",
        "However, there's also high correlation between `cab_type` and `product_id`. This is because every services (`product_id`) only exist in respective companies (`cab_type`). We are going to drop `cab_type` for this, because a change in `cab_type` definitely means a change in `product_id`."
      ],
      "metadata": {
        "id": "Quk-iaGDcgMG"
      }
    },
    {
      "cell_type": "code",
      "source": [
        "cat_columns_1 = ['id', \n",
        "                 'datetime',  \n",
        "                 'source', \n",
        "                 'destination', \n",
        "                 'product_id', \n",
        "                 'short_summary', \n",
        "                 'long_summary', \n",
        "                 'icon']"
      ],
      "metadata": {
        "id": "34Gn7qVAeR20"
      },
      "execution_count": null,
      "outputs": []
    },
    {
      "cell_type": "markdown",
      "metadata": {
        "id": "2noAmLDqHt7g"
      },
      "source": [
        "#**D. Preprocessing**"
      ]
    },
    {
      "cell_type": "markdown",
      "source": [
        "We now have completed the EDA to know what we have to do with the data before modelling. Now let's dive right in."
      ],
      "metadata": {
        "id": "pbUsG9MEmjCG"
      }
    },
    {
      "cell_type": "markdown",
      "metadata": {
        "id": "lKG5vKd1p2u1"
      },
      "source": [
        "##**D.1. Inference Data**"
      ]
    },
    {
      "cell_type": "markdown",
      "source": [
        "Before anything, let's take a small sample from the dataset to be inferred later with our finished model."
      ],
      "metadata": {
        "id": "6AqaHgjMnYXn"
      }
    },
    {
      "cell_type": "code",
      "source": [
        "ride_inf = ride.sample(10, random_state=11092001)\n",
        "ride_inf.reset_index(drop=True, inplace=True)\n",
        "\n",
        "ride_train_test = ride.drop(ride_inf.index)\n",
        "ride_train_test.reset_index(drop=True, inplace=True)"
      ],
      "metadata": {
        "id": "-ELnoZ8snTwF"
      },
      "execution_count": 6,
      "outputs": []
    },
    {
      "cell_type": "markdown",
      "metadata": {
        "id": "e4ainAOCp-Mj"
      },
      "source": [
        "##**D.2. Feature Selection**"
      ]
    },
    {
      "cell_type": "markdown",
      "source": [
        "We have eliminated many variables on EDA, but we still need to consider which ones are actually crucial to create the best model. Take it as semifinal round where we further eliminate more columns before applying it into the dataset."
      ],
      "metadata": {
        "id": "JTRjZr88o-s2"
      }
    },
    {
      "cell_type": "code",
      "source": [
        "ride.short_summary.unique().tolist()"
      ],
      "metadata": {
        "colab": {
          "base_uri": "https://localhost:8080/"
        },
        "id": "VpxYeWmv89_M",
        "outputId": "4bbf882a-ce1e-4e4c-83cf-4945a15bd526"
      },
      "execution_count": null,
      "outputs": [
        {
          "output_type": "execute_result",
          "data": {
            "text/plain": [
              "[' Mostly Cloudy ',\n",
              " ' Rain ',\n",
              " ' Clear ',\n",
              " ' Partly Cloudy ',\n",
              " ' Overcast ',\n",
              " ' Light Rain ',\n",
              " ' Foggy ',\n",
              " ' Possible Drizzle ',\n",
              " ' Drizzle ']"
            ]
          },
          "metadata": {},
          "execution_count": 16
        }
      ]
    },
    {
      "cell_type": "code",
      "source": [
        "ride.long_summary.unique().tolist()"
      ],
      "metadata": {
        "colab": {
          "base_uri": "https://localhost:8080/"
        },
        "id": "ZZqM3FjL9JI2",
        "outputId": "55678d9c-707c-4a73-f097-5a7806967b85"
      },
      "execution_count": null,
      "outputs": [
        {
          "output_type": "execute_result",
          "data": {
            "text/plain": [
              "[' Rain throughout the day. ',\n",
              " ' Rain until morning, starting again in the evening. ',\n",
              " ' Light rain in the morning. ',\n",
              " ' Partly cloudy throughout the day. ',\n",
              " ' Mostly cloudy throughout the day. ',\n",
              " ' Light rain in the morning and overnight. ',\n",
              " ' Light rain until evening. ',\n",
              " ' Foggy in the morning. ',\n",
              " ' Overcast throughout the day. ',\n",
              " ' Possible drizzle in the morning. ',\n",
              " ' Rain in the morning and afternoon. ']"
            ]
          },
          "metadata": {},
          "execution_count": 17
        }
      ]
    },
    {
      "cell_type": "code",
      "source": [
        "ride.icon.unique().tolist()"
      ],
      "metadata": {
        "colab": {
          "base_uri": "https://localhost:8080/"
        },
        "id": "REwz5YT--Cqd",
        "outputId": "d0802ff9-190a-49f7-b863-e8cc5630f23f"
      },
      "execution_count": null,
      "outputs": [
        {
          "output_type": "execute_result",
          "data": {
            "text/plain": [
              "[' partly-cloudy-night ',\n",
              " ' rain ',\n",
              " ' clear-night ',\n",
              " ' cloudy ',\n",
              " ' fog ',\n",
              " ' clear-day ',\n",
              " ' partly-cloudy-day ']"
            ]
          },
          "metadata": {},
          "execution_count": 18
        }
      ]
    },
    {
      "cell_type": "code",
      "source": [
        "print(num_columns_1)\n",
        "print(cat_columns_1)"
      ],
      "metadata": {
        "colab": {
          "base_uri": "https://localhost:8080/"
        },
        "id": "cmTQ7hFQpqxL",
        "outputId": "2afa008a-f17c-421c-98d6-5f1d5d97f10b"
      },
      "execution_count": null,
      "outputs": [
        {
          "output_type": "stream",
          "name": "stdout",
          "text": [
            "['hour', 'price', 'distance', 'surge_multiplier', 'latitude', 'longitude', 'precipIntensity', 'precipProbability', 'windBearing', 'cloudCover', 'uvIndex']\n",
            "['id', 'datetime', 'source', 'destination', 'product_id', 'short_summary', 'long_summary', 'icon']\n"
          ]
        }
      ]
    },
    {
      "cell_type": "markdown",
      "source": [
        "We're going to drop the columns `id` and `datetime` since `price` does not depend on it, and also `short_summany`, `long_summary` and `icon` because they only represent the weather columns on numerical variables."
      ],
      "metadata": {
        "id": "6-DzcUi78Drq"
      }
    },
    {
      "cell_type": "code",
      "source": [
        "num_columns_1 = ['hour', 'distance', 'surge_multiplier', 'latitude', 'longitude', 'precipIntensity', 'precipProbability', 'windBearing', 'cloudCover', 'uvIndex']\n",
        "cat_columns_1 = ['source', 'destination', 'product_id']"
      ],
      "metadata": {
        "id": "yYIqQ8_8-dJw"
      },
      "execution_count": 7,
      "outputs": []
    },
    {
      "cell_type": "markdown",
      "metadata": {
        "id": "gHSdwxz3qacb"
      },
      "source": [
        "##**D.3. Feature Engineering**"
      ]
    },
    {
      "cell_type": "markdown",
      "metadata": {
        "id": "-j4sT64Iquyy"
      },
      "source": [
        "###**D.3.1. Data Splitting**"
      ]
    },
    {
      "cell_type": "markdown",
      "source": [
        "####D.3.1.1 X-Y Splitting"
      ],
      "metadata": {
        "id": "Mx-bTOb6CuWF"
      }
    },
    {
      "cell_type": "markdown",
      "source": [
        "We have selected the features we need. Now it's time to separate the target column..."
      ],
      "metadata": {
        "id": "XX5lK5UDQhk6"
      }
    },
    {
      "cell_type": "code",
      "source": [
        "X = ride_train_test.drop('price', axis=1) \n",
        "Y = ride_train_test['price']"
      ],
      "metadata": {
        "id": "swlCWGoWC5Rb"
      },
      "execution_count": 8,
      "outputs": []
    },
    {
      "cell_type": "markdown",
      "source": [
        "####D.3.1.1 Train-Test Splitting"
      ],
      "metadata": {
        "id": "0Z86U261Cz0u"
      }
    },
    {
      "cell_type": "markdown",
      "source": [
        "...And then split the data for training and testing."
      ],
      "metadata": {
        "id": "PiPUx3_XQ6tC"
      }
    },
    {
      "cell_type": "code",
      "source": [
        "X_train, X_test, Y_train, Y_test = train_test_split(X, Y, test_size=0.2, random_state=11092001)\n",
        "\n",
        "print('Train Size : ', X_train.shape)\n",
        "print('Test Size  : ', X_test.shape)"
      ],
      "metadata": {
        "colab": {
          "base_uri": "https://localhost:8080/"
        },
        "id": "-tmZNGIiDLOO",
        "outputId": "f7af9454-9a7b-4e30-9672-8f3067e75177"
      },
      "execution_count": 9,
      "outputs": [
        {
          "output_type": "stream",
          "name": "stdout",
          "text": [
            "Train Size :  (510372, 56)\n",
            "Test Size  :  (127594, 56)\n"
          ]
        }
      ]
    },
    {
      "cell_type": "markdown",
      "metadata": {
        "id": "ZOUs8gIRqhu7"
      },
      "source": [
        "###**D.3.2. Outlier Handling**"
      ]
    },
    {
      "cell_type": "markdown",
      "source": [
        "Let's pull the statistics for numerical columns. We are going to see if there are outliers and/or the need to handle them."
      ],
      "metadata": {
        "id": "goaDsLt1RByD"
      }
    },
    {
      "cell_type": "code",
      "source": [
        "num_columns_1"
      ],
      "metadata": {
        "colab": {
          "base_uri": "https://localhost:8080/"
        },
        "id": "Rdne_6gnDoaN",
        "outputId": "e7551b2b-2a49-4f6b-9307-87fd360e5d9a"
      },
      "execution_count": null,
      "outputs": [
        {
          "output_type": "execute_result",
          "data": {
            "text/plain": [
              "['hour',\n",
              " 'distance',\n",
              " 'surge_multiplier',\n",
              " 'latitude',\n",
              " 'longitude',\n",
              " 'precipIntensity',\n",
              " 'precipProbability',\n",
              " 'windBearing',\n",
              " 'cloudCover',\n",
              " 'uvIndex']"
            ]
          },
          "metadata": {},
          "execution_count": 23
        }
      ]
    },
    {
      "cell_type": "code",
      "source": [
        "plt.figure(figsize=(16, 4))\n",
        "plt.subplot(1, 2, 1)\n",
        "sns.histplot(X_train['hour'], bins=24)\n",
        "plt.title('Histogram')\n",
        "plt.subplot(1, 2, 2)\n",
        "sns.boxplot(y=X_train['hour'])\n",
        "plt.title('Boxplot')\n",
        "plt.show()\n",
        "\n",
        "plot_hist_box(X_train,'distance')\n",
        "plot_hist_box(X_train,'surge_multiplier')\n",
        "plot_hist_box(X_train,'latitude')\n",
        "plot_hist_box(X_train,'longitude')\n",
        "plot_hist_box(X_train,'precipIntensity')\n",
        "plot_hist_box(X_train,'precipProbability')\n",
        "plot_hist_box(X_train,'windBearing')\n",
        "plot_hist_box(X_train,'cloudCover')\n",
        "plot_hist_box(X_train,'uvIndex')"
      ],
      "metadata": {
        "colab": {
          "base_uri": "https://localhost:8080/",
          "height": 1000
        },
        "id": "G0Vd5u0vDcIr",
        "outputId": "556b64bc-b43a-45c7-ab12-7a4bcda6d29a"
      },
      "execution_count": 14,
      "outputs": [
        {
          "output_type": "display_data",
          "data": {
            "text/plain": [
              "<Figure size 1152x288 with 2 Axes>"
            ],
            "image/png": "[encoded data removed]"
          },
          "metadata": {
            "needs_background": "light"
          }
        },
        {
          "output_type": "display_data",
          "data": {
            "text/plain": [
              "<Figure size 1152x288 with 2 Axes>"
            ],
            "image/png": "[encoded data removed]"
          },
          "metadata": {
            "needs_background": "light"
          }
        },
        {
          "output_type": "display_data",
          "data": {
            "text/plain": [
              "<Figure size 1152x288 with 2 Axes>"
            ],
            "image/png": "[encoded data removed]"
          },
          "metadata": {
            "needs_background": "light"
          }
        },
        {
          "output_type": "display_data",
          "data": {
            "text/plain": [
              "<Figure size 1152x288 with 2 Axes>"
            ],
            "image/png": "[encoded data removed]"
          },
          "metadata": {
            "needs_background": "light"
          }
        },
        {
          "output_type": "display_data",
          "data": {
            "text/plain": [
              "<Figure size 1152x288 with 2 Axes>"
            ],
            "image/png": "[encoded data removed]"
          },
          "metadata": {
            "needs_background": "light"
          }
        },
        {
          "output_type": "display_data",
          "data": {
            "text/plain": [
              "<Figure size 1152x288 with 2 Axes>"
            ],
            "image/png": "[encoded data removed]"
          },
          "metadata": {
            "needs_background": "light"
          }
        },
        {
          "output_type": "display_data",
          "data": {
            "text/plain": [
              "<Figure size 1152x288 with 2 Axes>"
            ],
            "image/png": "[encoded data removed]"
          },
          "metadata": {
            "needs_background": "light"
          }
        },
        {
          "output_type": "display_data",
          "data": {
            "text/plain": [
              "<Figure size 1152x288 with 2 Axes>"
            ],
            "image/png": "[encoded data removed]"
          },
          "metadata": {
            "needs_background": "light"
          }
        },
        {
          "output_type": "display_data",
          "data": {
            "text/plain": [
              "<Figure size 1152x288 with 2 Axes>"
            ],
            "image/png": "[encoded data removed]"
          },
          "metadata": {
            "needs_background": "light"
          }
        },
        {
          "output_type": "display_data",
          "data": {
            "text/plain": [
              "<Figure size 1152x288 with 2 Axes>"
            ],
            "image/png": "[encoded data removed]"
          },
          "metadata": {
            "needs_background": "light"
          }
        }
      ]
    },
    {
      "cell_type": "markdown",
      "source": [
        "There are few variables with outliers. We are going to cap the columns `distance`, `precipIntensity` and `precipProbability` with winsorization and left the others such as `surge_multiplier` and `uvindex` because from the distribution they seem to be discreet data."
      ],
      "metadata": {
        "id": "qWFbFYKyH4yQ"
      }
    },
    {
      "cell_type": "code",
      "source": [
        "X_train_winsor = X_train[['distance', 'precipIntensity', 'precipProbability']]\n",
        "\n",
        "windsoriser = Winsorizer(capping_method='iqr', tail='both', fold=1.5, variables=['distance', 'precipIntensity', 'precipProbability'])\n",
        "\n",
        "windsoriser.fit(X_train_winsor)\n",
        "\n",
        "X_train_capped = windsoriser.transform(X_train_winsor)"
      ],
      "metadata": {
        "id": "LLgPUgxzmbya"
      },
      "execution_count": 16,
      "outputs": []
    },
    {
      "cell_type": "code",
      "source": [
        "X_train1 = X_train.copy()\n",
        "X_train1.drop(columns=['distance', 'precipIntensity', 'precipProbability'], inplace=True)\n",
        "X_train1 = pd.concat([X_train1, X_train_capped], axis=1)"
      ],
      "metadata": {
        "id": "JTyPIpZ4nQoy"
      },
      "execution_count": 54,
      "outputs": []
    },
    {
      "cell_type": "code",
      "source": [
        "plt.figure(figsize=(16, 4))\n",
        "plt.subplot(1, 2, 1)\n",
        "sns.histplot(X_train1['hour'], bins=24)\n",
        "plt.title('Histogram')\n",
        "plt.subplot(1, 2, 2)\n",
        "sns.boxplot(y=X_train1['hour'])\n",
        "plt.title('Boxplot')\n",
        "plt.show()\n",
        "\n",
        "plot_hist_box(X_train1,'distance')\n",
        "plot_hist_box(X_train1,'surge_multiplier')\n",
        "plot_hist_box(X_train1,'latitude')\n",
        "plot_hist_box(X_train1,'longitude')\n",
        "plot_hist_box(X_train1,'precipIntensity')\n",
        "plot_hist_box(X_train1,'precipProbability')\n",
        "plot_hist_box(X_train1,'windBearing')\n",
        "plot_hist_box(X_train1,'cloudCover')\n",
        "plot_hist_box(X_train1,'uvIndex')"
      ],
      "metadata": {
        "colab": {
          "base_uri": "https://localhost:8080/",
          "height": 1000
        },
        "id": "rmhWVhY9p45g",
        "outputId": "677f7777-cd90-4a5d-b9be-3a9e91fc1562"
      },
      "execution_count": 55,
      "outputs": [
        {
          "output_type": "display_data",
          "data": {
            "text/plain": [
              "<Figure size 1152x288 with 2 Axes>"
            ],
            "image/png": "[encoded data removed]"
          },
          "metadata": {
            "needs_background": "light"
          }
        },
        {
          "output_type": "display_data",
          "data": {
            "text/plain": [
              "<Figure size 1152x288 with 2 Axes>"
            ],
            "image/png": "[encoded data removed]"
          },
          "metadata": {
            "needs_background": "light"
          }
        },
        {
          "output_type": "display_data",
          "data": {
            "text/plain": [
              "<Figure size 1152x288 with 2 Axes>"
            ],
            "image/png": "[encoded data removed]"
          },
          "metadata": {
            "needs_background": "light"
          }
        },
        {
          "output_type": "display_data",
          "data": {
            "text/plain": [
              "<Figure size 1152x288 with 2 Axes>"
            ],
            "image/png": "[encoded data removed]"
          },
          "metadata": {
            "needs_background": "light"
          }
        },
        {
          "output_type": "display_data",
          "data": {
            "text/plain": [
              "<Figure size 1152x288 with 2 Axes>"
            ],
            "image/png": "[encoded data removed]"
          },
          "metadata": {
            "needs_background": "light"
          }
        },
        {
          "output_type": "display_data",
          "data": {
            "text/plain": [
              "<Figure size 1152x288 with 2 Axes>"
            ],
            "image/png": "[encoded data removed]"
          },
          "metadata": {
            "needs_background": "light"
          }
        },
        {
          "output_type": "display_data",
          "data": {
            "text/plain": [
              "<Figure size 1152x288 with 2 Axes>"
            ],
            "image/png": "[encoded data removed]"
          },
          "metadata": {
            "needs_background": "light"
          }
        },
        {
          "output_type": "display_data",
          "data": {
            "text/plain": [
              "<Figure size 1152x288 with 2 Axes>"
            ],
            "image/png": "[encoded data removed]"
          },
          "metadata": {
            "needs_background": "light"
          }
        },
        {
          "output_type": "display_data",
          "data": {
            "text/plain": [
              "<Figure size 1152x288 with 2 Axes>"
            ],
            "image/png": "[encoded data removed]"
          },
          "metadata": {
            "needs_background": "light"
          }
        },
        {
          "output_type": "display_data",
          "data": {
            "text/plain": [
              "<Figure size 1152x288 with 2 Axes>"
            ],
            "image/png": "[encoded data removed]"
          },
          "metadata": {
            "needs_background": "light"
          }
        }
      ]
    },
    {
      "cell_type": "markdown",
      "source": [
        "It seems capping left the columns `precipIntensity` and `precipProbability` as single varaible data instead. Let's create three different predictive models based on the unaltered, capped and dropped data to see which one is better."
      ],
      "metadata": {
        "id": "BHlhN5-etBIc"
      }
    },
    {
      "cell_type": "code",
      "source": [
        "X_train2 = X_train1.copy()\n",
        "X_train2.drop(columns=['precipIntensity', 'precipProbability'], inplace=True)"
      ],
      "metadata": {
        "id": "qBH7TZsrrJNz"
      },
      "execution_count": 56,
      "outputs": []
    },
    {
      "cell_type": "code",
      "source": [
        "num_columns_2 = ['hour',\n",
        "                 'distance',\n",
        "                 'surge_multiplier',\n",
        "                 'latitude',\n",
        "                 'longitude',\n",
        "                 'windBearing',\n",
        "                 'cloudCover',\n",
        "                 'uvIndex']"
      ],
      "metadata": {
        "id": "6tDwDroTroYS"
      },
      "execution_count": 57,
      "outputs": []
    },
    {
      "cell_type": "markdown",
      "metadata": {
        "id": "YyjpN_0Zqm0D"
      },
      "source": [
        "###**D.3.3. Scaling and Encoding**"
      ]
    },
    {
      "cell_type": "markdown",
      "source": [
        "####D.3.3.1. Numerical-Categorical Splitting"
      ],
      "metadata": {
        "id": "fBfLx_0QI88F"
      }
    },
    {
      "cell_type": "markdown",
      "source": [
        "Before we begin, we split the train and test data into numerical and categorical columns."
      ],
      "metadata": {
        "id": "9jLIbCfCQci7"
      }
    },
    {
      "cell_type": "code",
      "source": [
        "X_train_num = X_train[num_columns_1]\n",
        "X_train_num1 = X_train1[num_columns_1]\n",
        "X_train_num2 = X_train2[num_columns_2]\n",
        "X_train_cat = X_train[cat_columns_1]\n",
        "\n",
        "X_test_num = X_test[num_columns_1]\n",
        "X_test_num1 = X_test[num_columns_1]\n",
        "X_test_num2 = X_test[num_columns_2]\n",
        "X_test_cat = X_test[cat_columns_1]"
      ],
      "metadata": {
        "id": "2AkvdmQat9Vg"
      },
      "execution_count": 60,
      "outputs": []
    },
    {
      "cell_type": "markdown",
      "source": [
        "####D.3.3.2. Numerical Scaling"
      ],
      "metadata": {
        "id": "nDt5-0gNJtFh"
      }
    },
    {
      "cell_type": "markdown",
      "source": [
        "For numerical columns, we fit a Min-Max Scaler onto them to simplify the modelling process. The scaler converts highest data into 1 and lowest into 0."
      ],
      "metadata": {
        "id": "9qN3DQVDRcvu"
      }
    },
    {
      "cell_type": "code",
      "source": [
        "scaler = MinMaxScaler()\n",
        "scaler1 = MinMaxScaler()\n",
        "scaler2 = MinMaxScaler()\n",
        "\n",
        "scaler.fit(X_train_num)\n",
        "scaler1.fit(X_train_num1)\n",
        "scaler2.fit(X_train_num2)\n",
        "\n",
        "X_train_num_scaled = scaler.transform(X_train_num)\n",
        "X_train_num_scaled1 = scaler1.transform(X_train_num1)\n",
        "X_train_num_scaled2 = scaler2.transform(X_train_num2)\n",
        "\n",
        "X_test_num_scaled = scaler.transform(X_test_num)\n",
        "X_test_num_scaled1 = scaler1.transform(X_test_num1)\n",
        "X_test_num_scaled2 = scaler2.transform(X_test_num2)"
      ],
      "metadata": {
        "id": "6UYRuaJIJxeo"
      },
      "execution_count": 68,
      "outputs": []
    },
    {
      "cell_type": "markdown",
      "source": [
        "####D.3.3.3. Category Encoding"
      ],
      "metadata": {
        "id": "PzKsG-iTKBDs"
      }
    },
    {
      "cell_type": "markdown",
      "source": [
        "For categorical columns, we fit an Ordinal Scaler onto them to simplify the modelling process. The scaler converts each unique values into a number."
      ],
      "metadata": {
        "id": "Wr6GfxNqRvkd"
      }
    },
    {
      "cell_type": "code",
      "source": [
        "X_train_cat.head(5)"
      ],
      "metadata": {
        "colab": {
          "base_uri": "https://localhost:8080/",
          "height": 206
        },
        "id": "NzATdAxrJ_ej",
        "outputId": "e21e6863-5dae-4c1d-a22b-ecb8a96c76ab"
      },
      "execution_count": 62,
      "outputs": [
        {
          "output_type": "execute_result",
          "data": {
            "text/plain": [
              "                  source  destination                            product_id\n",
              "433762         North End  Beacon Hill                                  lyft\n",
              "190207     South Station  Beacon Hill  6d318bcc-22a3-4af6-bddd-b409bfce1546\n",
              "369420  Theatre District       Fenway  6c84fd89-3f11-4782-9b50-97c468b19529\n",
              "306610         North End     West End  6f72dfc5-27f1-42e8-84db-ccc7a75f6969\n",
              "599189  Theatre District       Fenway                              lyft_lux"
            ],
            "text/html": [
              "\n",
              "  <div id=\"df-f5d919a7-888d-424c-bf10-520b3e4f1127\">\n",
              "    <div class=\"colab-df-container\">\n",
              "      <div>\n",
              "<style scoped>\n",
              "    .dataframe tbody tr th:only-of-type {\n",
              "        vertical-align: middle;\n",
              "    }\n",
              "\n",
              "    .dataframe tbody tr th {\n",
              "        vertical-align: top;\n",
              "    }\n",
              "\n",
              "    .dataframe thead th {\n",
              "        text-align: right;\n",
              "    }\n",
              "</style>\n",
              "<table border=\"1\" class=\"dataframe\">\n",
              "  <thead>\n",
              "    <tr style=\"text-align: right;\">\n",
              "      <th></th>\n",
              "      <th>source</th>\n",
              "      <th>destination</th>\n",
              "      <th>product_id</th>\n",
              "    </tr>\n",
              "  </thead>\n",
              "  <tbody>\n",
              "    <tr>\n",
              "      <th>433762</th>\n",
              "      <td>North End</td>\n",
              "      <td>Beacon Hill</td>\n",
              "      <td>lyft</td>\n",
              "    </tr>\n",
              "    <tr>\n",
              "      <th>190207</th>\n",
              "      <td>South Station</td>\n",
              "      <td>Beacon Hill</td>\n",
              "      <td>6d318bcc-22a3-4af6-bddd-b409bfce1546</td>\n",
              "    </tr>\n",
              "    <tr>\n",
              "      <th>369420</th>\n",
              "      <td>Theatre District</td>\n",
              "      <td>Fenway</td>\n",
              "      <td>6c84fd89-3f11-4782-9b50-97c468b19529</td>\n",
              "    </tr>\n",
              "    <tr>\n",
              "      <th>306610</th>\n",
              "      <td>North End</td>\n",
              "      <td>West End</td>\n",
              "      <td>6f72dfc5-27f1-42e8-84db-ccc7a75f6969</td>\n",
              "    </tr>\n",
              "    <tr>\n",
              "      <th>599189</th>\n",
              "      <td>Theatre District</td>\n",
              "      <td>Fenway</td>\n",
              "      <td>lyft_lux</td>\n",
              "    </tr>\n",
              "  </tbody>\n",
              "</table>\n",
              "</div>\n",
              "      <button class=\"colab-df-convert\" onclick=\"convertToInteractive('df-f5d919a7-888d-424c-bf10-520b3e4f1127')\"\n",
              "              title=\"Convert this dataframe to an interactive table.\"\n",
              "              style=\"display:none;\">\n",
              "        \n",
              "  <svg xmlns=\"http://www.w3.org/2000/svg\" height=\"24px\"viewBox=\"0 0 24 24\"\n",
              "       width=\"24px\">\n",
              "    <path d=\"M0 0h24v24H0V0z\" fill=\"none\"/>\n",
              "    <path d=\"M18.56 5.44l.94 2.06.94-2.06 2.06-.94-2.06-.94-.94-2.06-.94 2.06-2.06.94zm-11 1L8.5 8.5l.94-2.06 2.06-.94-2.06-.94L8.5 2.5l-.94 2.06-2.06.94zm10 10l.94 2.06.94-2.06 2.06-.94-2.06-.94-.94-2.06-.94 2.06-2.06.94z\"/><path d=\"M17.41 7.96l-1.37-1.37c-.4-.4-.92-.59-1.43-.59-.52 0-1.04.2-1.43.59L10.3 9.45l-7.72 7.72c-.78.78-.78 2.05 0 2.83L4 21.41c.39.39.9.59 1.41.59.51 0 1.02-.2 1.41-.59l7.78-7.78 2.81-2.81c.8-.78.8-2.07 0-2.86zM5.41 20L4 18.59l7.72-7.72 1.47 1.35L5.41 20z\"/>\n",
              "  </svg>\n",
              "      </button>\n",
              "      \n",
              "  <style>\n",
              "    .colab-df-container {\n",
              "      display:flex;\n",
              "      flex-wrap:wrap;\n",
              "      gap: 12px;\n",
              "    }\n",
              "\n",
              "    .colab-df-convert {\n",
              "      background-color: #E8F0FE;\n",
              "      border: none;\n",
              "      border-radius: 50%;\n",
              "      cursor: pointer;\n",
              "      display: none;\n",
              "      fill: #1967D2;\n",
              "      height: 32px;\n",
              "      padding: 0 0 0 0;\n",
              "      width: 32px;\n",
              "    }\n",
              "\n",
              "    .colab-df-convert:hover {\n",
              "      background-color: #E2EBFA;\n",
              "      box-shadow: 0px 1px 2px rgba(60, 64, 67, 0.3), 0px 1px 3px 1px rgba(60, 64, 67, 0.15);\n",
              "      fill: #174EA6;\n",
              "    }\n",
              "\n",
              "    [theme=dark] .colab-df-convert {\n",
              "      background-color: #3B4455;\n",
              "      fill: #D2E3FC;\n",
              "    }\n",
              "\n",
              "    [theme=dark] .colab-df-convert:hover {\n",
              "      background-color: #434B5C;\n",
              "      box-shadow: 0px 1px 3px 1px rgba(0, 0, 0, 0.15);\n",
              "      filter: drop-shadow(0px 1px 2px rgba(0, 0, 0, 0.3));\n",
              "      fill: #FFFFFF;\n",
              "    }\n",
              "  </style>\n",
              "\n",
              "      <script>\n",
              "        const buttonEl =\n",
              "          document.querySelector('#df-f5d919a7-888d-424c-bf10-520b3e4f1127 button.colab-df-convert');\n",
              "        buttonEl.style.display =\n",
              "          google.colab.kernel.accessAllowed ? 'block' : 'none';\n",
              "\n",
              "        async function convertToInteractive(key) {\n",
              "          const element = document.querySelector('#df-f5d919a7-888d-424c-bf10-520b3e4f1127');\n",
              "          const dataTable =\n",
              "            await google.colab.kernel.invokeFunction('convertToInteractive',\n",
              "                                                     [key], {});\n",
              "          if (!dataTable) return;\n",
              "\n",
              "          const docLinkHtml = 'Like what you see? Visit the ' +\n",
              "            '<a target=\"_blank\" href=https://colab.research.google.com/notebooks/data_table.ipynb>data table notebook</a>'\n",
              "            + ' to learn more about interactive tables.';\n",
              "          element.innerHTML = '';\n",
              "          dataTable['output_type'] = 'display_data';\n",
              "          await google.colab.output.renderOutput(dataTable, element);\n",
              "          const docLink = document.createElement('div');\n",
              "          docLink.innerHTML = docLinkHtml;\n",
              "          element.appendChild(docLink);\n",
              "        }\n",
              "      </script>\n",
              "    </div>\n",
              "  </div>\n",
              "  "
            ]
          },
          "metadata": {},
          "execution_count": 62
        }
      ]
    },
    {
      "cell_type": "code",
      "source": [
        "encoder = OrdinalEncoder(categories=[X_train_cat.source.unique().tolist(),\n",
        "                                     X_train_cat.destination.unique().tolist(),\n",
        "                                     X_train_cat.product_id.unique().tolist()])\n",
        "encoder.fit(X_train_cat)\n",
        "\n",
        "X_train_cat_encoded = encoder.transform(X_train_cat)\n",
        "X_test_cat_encoded = encoder.transform(X_test_cat)\n",
        "X_train_cat_encoded"
      ],
      "metadata": {
        "colab": {
          "base_uri": "https://localhost:8080/"
        },
        "id": "xXqulFK8KL-u",
        "outputId": "c4f7fc17-d299-4aa7-ca49-5dace46ae706"
      },
      "execution_count": 63,
      "outputs": [
        {
          "output_type": "execute_result",
          "data": {
            "text/plain": [
              "array([[ 0.,  0.,  0.],\n",
              "       [ 1.,  0.,  1.],\n",
              "       [ 2.,  1.,  2.],\n",
              "       ...,\n",
              "       [ 8.,  9., 10.],\n",
              "       [ 7., 10.,  0.],\n",
              "       [ 8., 11.,  4.]])"
            ]
          },
          "metadata": {},
          "execution_count": 63
        }
      ]
    },
    {
      "cell_type": "markdown",
      "source": [
        "####D.3.3.4. Numerical-Categorical Joining"
      ],
      "metadata": {
        "id": "X98yDc-4KvqZ"
      }
    },
    {
      "cell_type": "markdown",
      "source": [
        "After we've finished scaling and encoding the variables, it's only a matter of joining them back together."
      ],
      "metadata": {
        "id": "yqHFou_kSm3d"
      }
    },
    {
      "cell_type": "code",
      "source": [
        "X_train_final = np.concatenate([X_train_num_scaled, X_train_cat_encoded], axis=1)\n",
        "X_train_final_df = pd.DataFrame(X_train_final, columns=[num_columns_1+cat_columns_1])\n",
        "\n",
        "X_train_final1 = np.concatenate([X_train_num_scaled1, X_train_cat_encoded], axis=1)\n",
        "X_train_final_df1 = pd.DataFrame(X_train_final1, columns=[num_columns_1+cat_columns_1])\n",
        "\n",
        "X_train_final2 = np.concatenate([X_train_num_scaled2, X_train_cat_encoded], axis=1)\n",
        "X_train_final_df2 = pd.DataFrame(X_train_final2, columns=[num_columns_2+cat_columns_1])\n",
        "\n",
        "X_test_final = np.concatenate([X_test_num_scaled, X_test_cat_encoded], axis=1)\n",
        "X_test_final_df = pd.DataFrame(X_test_final, columns=[num_columns_1+cat_columns_1])\n",
        "\n",
        "X_test_final1 = np.concatenate([X_test_num_scaled1, X_test_cat_encoded], axis=1)\n",
        "X_test_final_df1 = pd.DataFrame(X_test_final1, columns=[num_columns_1+cat_columns_1])\n",
        "\n",
        "X_test_final2 = np.concatenate([X_test_num_scaled2, X_test_cat_encoded], axis=1)\n",
        "X_test_final_df2 = pd.DataFrame(X_test_final2, columns=[num_columns_2+cat_columns_1])"
      ],
      "metadata": {
        "id": "saPdQVqmKvJc"
      },
      "execution_count": 69,
      "outputs": []
    },
    {
      "cell_type": "markdown",
      "metadata": {
        "id": "GxwkK853HviN"
      },
      "source": [
        "#**E. Modelling**"
      ]
    },
    {
      "cell_type": "markdown",
      "source": [
        "Now it's time to model the machine learning algorithm."
      ],
      "metadata": {
        "id": "tprc7rodS-Is"
      }
    },
    {
      "cell_type": "markdown",
      "metadata": {
        "id": "pyPxZl-3rNqW"
      },
      "source": [
        "##**E.1. Definition**"
      ]
    },
    {
      "cell_type": "markdown",
      "source": [
        "First, we define the model to use linear regression algorithm. this algorithm, in a sense, placed every variables on a \"zero\" hyperplane and then calculate another hyperplane on some distance and orientation from the former. The distance between the two hyperplanes is the algorithm's prediction of the target variable."
      ],
      "metadata": {
        "id": "xSK-c8dzS3j9"
      }
    },
    {
      "cell_type": "code",
      "source": [
        "model = LinearRegression()\n",
        "model1 = LinearRegression()\n",
        "model2 = LinearRegression()"
      ],
      "metadata": {
        "id": "Y4lmEKPxLUH1"
      },
      "execution_count": 70,
      "outputs": []
    },
    {
      "cell_type": "markdown",
      "metadata": {
        "id": "6lsSCHiYrRUl"
      },
      "source": [
        "##**E.2. Training**"
      ]
    },
    {
      "cell_type": "markdown",
      "source": [
        "Next, we train the model on the training data."
      ],
      "metadata": {
        "id": "6SqfW_0CUCKc"
      }
    },
    {
      "cell_type": "code",
      "source": [
        "model.fit(X_train_final, Y_train)\n",
        "model1.fit(X_train_final1, Y_train)\n",
        "model2.fit(X_train_final2, Y_train)"
      ],
      "metadata": {
        "colab": {
          "base_uri": "https://localhost:8080/"
        },
        "id": "iFxHwFQkLXX3",
        "outputId": "baf64788-6696-4dd1-d50a-25212d52fda3"
      },
      "execution_count": 71,
      "outputs": [
        {
          "output_type": "execute_result",
          "data": {
            "text/plain": [
              "LinearRegression()"
            ]
          },
          "metadata": {},
          "execution_count": 71
        }
      ]
    },
    {
      "cell_type": "markdown",
      "metadata": {
        "id": "I7jhpQQ-rc0v"
      },
      "source": [
        "##**E.3. Evaluation**"
      ]
    },
    {
      "cell_type": "markdown",
      "source": [
        "After that, we tell it to predict the target variables of train and test data. The predicted values are then compared to the actual values."
      ],
      "metadata": {
        "id": "xisljqrtULel"
      }
    },
    {
      "cell_type": "code",
      "source": [
        "Y_pred_train = model.predict(X_train_final)\n",
        "Y_pred_train1 = model1.predict(X_train_final1)\n",
        "Y_pred_train2 = model2.predict(X_train_final2)\n",
        "\n",
        "Y_pred_test = model.predict(X_test_final)\n",
        "Y_pred_test1 = model.predict(X_test_final1)\n",
        "Y_pred_test2 = model2.predict(X_test_final2)"
      ],
      "metadata": {
        "id": "0PP3XU-TLhNs"
      },
      "execution_count": 73,
      "outputs": []
    },
    {
      "cell_type": "code",
      "source": [
        "print('Model accuracy - Train Set : ', (1-(r2_score(Y_train, Y_pred_train)))*100,' %')\n",
        "print('Model accuracy - Test Set  : ', (1-(r2_score(Y_test, Y_pred_test)))*100,' %')\n",
        "print()\n",
        "print('Model1 accuracy - Train Set : ', (1-(r2_score(Y_train, Y_pred_train1)))*100,' %')\n",
        "print('Model1 accuracy - Test Set  : ', (1-(r2_score(Y_test, Y_pred_test1)))*100,' %')\n",
        "print()\n",
        "print('Model2 accuracy - Train Set : ', (1-(r2_score(Y_train, Y_pred_train2)))*100,' %')\n",
        "print('Model2 accuracy - Test Set  : ', (1-(r2_score(Y_test, Y_pred_test2)))*100,' %')"
      ],
      "metadata": {
        "colab": {
          "base_uri": "https://localhost:8080/"
        },
        "id": "wCvibAwBLoVM",
        "outputId": "c7a21c14-40a2-439c-aff7-8acf9d664f4f"
      },
      "execution_count": 76,
      "outputs": [
        {
          "output_type": "stream",
          "name": "stdout",
          "text": [
            "Model accuracy - Train Set :  80.60736236243706  %\n",
            "Model accuracy - Test Set  :  80.85333767902355  %\n",
            "\n",
            "Model1 accuracy - Train Set :  80.54197933853645  %\n",
            "Model1 accuracy - Test Set  :  92.16829632902605  %\n",
            "\n",
            "Model2 accuracy - Train Set :  80.54197933853645  %\n",
            "Model2 accuracy - Test Set  :  80.8690688172405  %\n"
          ]
        }
      ]
    },
    {
      "cell_type": "markdown",
      "source": [
        "Using R-Square grading, all model scored around 80% on both training and test data, except on Model1 (capped data) where it scored 92% on the test set. Good scores in both datasets confirm that the model is neither underfitted nor overfitted. We are going to use Model1 for our inferencing."
      ],
      "metadata": {
        "id": "8dB90nutUYEE"
      }
    },
    {
      "cell_type": "markdown",
      "metadata": {
        "id": "OEnhK4tXH0MP"
      },
      "source": [
        "#**F. Inferencing**"
      ]
    },
    {
      "cell_type": "markdown",
      "source": [
        "Lastly, let's try to use the model to infer some predictions."
      ],
      "metadata": {
        "id": "KAXcDDQiVeso"
      }
    },
    {
      "cell_type": "markdown",
      "source": [
        "##**F.1. Load Inference Data**"
      ],
      "metadata": {
        "id": "ywe8TaBWVzWF"
      }
    },
    {
      "cell_type": "code",
      "source": [
        "ride_inf"
      ],
      "metadata": {
        "id": "VGbCKCiWWoln",
        "colab": {
          "base_uri": "https://localhost:8080/",
          "height": 947
        },
        "outputId": "4c92747c-de59-409b-9bd9-b73644274556"
      },
      "execution_count": 77,
      "outputs": [
        {
          "output_type": "execute_result",
          "data": {
            "text/plain": [
              "                                     id     timestamp  hour  day  month  \\\n",
              "0  92d9558a-f338-4b52-8280-31ea3e4ea327  1.543408e+09    12   28     11   \n",
              "1  32b428de-1048-43ce-84a2-f7e9f0224cb1  1.543753e+09    12    2     12   \n",
              "2  681f3399-5300-478b-ab1d-98210d6229a2  1.543350e+09    20   27     11   \n",
              "3  45b7ee59-d807-4201-8cf9-ed95e990d097  1.543398e+09     9   28     11   \n",
              "4  846cb6b7-9c81-4149-8d3f-9c6d8b752c9f  1.543252e+09    17   26     11   \n",
              "5  4d9057a1-fcb2-4af1-8a0c-3cb387c2efff  1.543692e+09    19    1     12   \n",
              "6  a40f1e2d-850d-4f3a-941b-13d522903cd3  1.543716e+09     2    2     12   \n",
              "7  65127e75-b579-4172-aad9-bbb8f72005c1  1.545131e+09    10   18     12   \n",
              "8  73942a50-c1d5-4a99-a33a-318d20ae89d1  1.543273e+09    22   26     11   \n",
              "9  b15e2c4c-9d69-4f06-8e94-d4cacec94271  1.544920e+09     0   16     12   \n",
              "\n",
              "              datetime          timezone                   source  \\\n",
              "0  2018-11-28 12:26:07  America/New_York                 West End   \n",
              "1  2018-12-02 12:17:58  America/New_York  Northeastern University   \n",
              "2  2018-11-27 20:24:23  America/New_York            South Station   \n",
              "3  2018-11-28 09:32:18  America/New_York         Haymarket Square   \n",
              "4  2018-11-26 17:11:09  America/New_York         Theatre District   \n",
              "5  2018-12-01 19:23:01  America/New_York         Haymarket Square   \n",
              "6  2018-12-02 02:07:58  America/New_York         Theatre District   \n",
              "7  2018-12-18 10:55:09  America/New_York                 Back Bay   \n",
              "8  2018-11-26 22:57:09  America/New_York              Beacon Hill   \n",
              "9  2018-12-16 00:20:09  America/New_York  Northeastern University   \n",
              "\n",
              "          destination cab_type                            product_id  \\\n",
              "0              Fenway     Lyft                                  lyft   \n",
              "1    Theatre District     Uber  55c66225-fbe7-4fd5-9072-eab1ece5e23e   \n",
              "2            Back Bay     Lyft                             lyft_plus   \n",
              "3            West End     Lyft                              lyft_lux   \n",
              "4           North End     Lyft                                  lyft   \n",
              "5    Theatre District     Lyft                              lyft_lux   \n",
              "6              Fenway     Uber  55c66225-fbe7-4fd5-9072-eab1ece5e23e   \n",
              "7           North End     Lyft                           lyft_luxsuv   \n",
              "8              Fenway     Lyft                           lyft_luxsuv   \n",
              "9  Financial District     Lyft                             lyft_line   \n",
              "\n",
              "           name  price  distance  surge_multiplier  latitude  longitude  \\\n",
              "0          Lyft    9.0      2.93               1.0   42.3588   -71.0707   \n",
              "1         UberX    9.5      1.94               1.0   42.3503   -71.0810   \n",
              "2       Lyft XL   16.5      2.08               1.0   42.3647   -71.0542   \n",
              "3     Lux Black   16.5      0.64               1.0   42.3429   -71.1003   \n",
              "4          Lyft    9.0      1.69               1.0   42.3661   -71.0631   \n",
              "5     Lux Black   19.5      1.87               1.0   42.3661   -71.0631   \n",
              "6         UberX    9.5      2.66               1.0   42.2148   -71.0330   \n",
              "7  Lux Black XL   30.0      2.42               1.0   42.3647   -71.0542   \n",
              "8  Lux Black XL   27.5      2.35               1.0   42.3503   -71.0810   \n",
              "9        Shared    7.0      4.19               1.0   42.3661   -71.0631   \n",
              "\n",
              "   temperature  apparentTemperature       short_summary  \\\n",
              "0        36.53                32.06      Mostly Cloudy    \n",
              "1        41.19                36.49         Light Rain    \n",
              "2        43.02                37.56      Mostly Cloudy    \n",
              "3        34.26                30.15      Partly Cloudy    \n",
              "4        45.83                43.88           Overcast    \n",
              "5        43.99                43.99      Partly Cloudy    \n",
              "6        36.50                36.50      Partly Cloudy    \n",
              "7        25.21                13.25      Mostly Cloudy    \n",
              "8        44.93                41.07   Possible Drizzle    \n",
              "9        43.96                40.80      Partly Cloudy    \n",
              "\n",
              "                                        long_summary  precipIntensity  \\\n",
              "0                 Mostly cloudy throughout the day.            0.0000   \n",
              "1                         Light rain until evening.            0.0923   \n",
              "2                        Light rain in the morning.            0.0000   \n",
              "3                 Mostly cloudy throughout the day.            0.0000   \n",
              "4   Rain until morning, starting again in the eve...           0.0010   \n",
              "5          Light rain in the morning and overnight.            0.0000   \n",
              "6          Light rain in the morning and overnight.            0.0000   \n",
              "7                 Mostly cloudy throughout the day.            0.0000   \n",
              "8   Rain until morning, starting again in the eve...           0.0031   \n",
              "9                 Mostly cloudy throughout the day.            0.0000   \n",
              "\n",
              "   precipProbability  humidity  windSpeed  windGust  windGustTime  visibility  \\\n",
              "0               0.00      0.71       5.42      6.95    1543431600       9.974   \n",
              "1               1.00      0.92       7.16      7.16    1543755600       4.661   \n",
              "2               0.00      0.69       9.55     11.74    1543338000      10.000   \n",
              "3               0.00      0.79       4.54      7.00    1543431600       9.924   \n",
              "4               0.12      0.88       4.22      5.17    1543287600       8.104   \n",
              "5               0.00      0.52       2.13      3.27    1543672800       9.815   \n",
              "6               0.00      0.82       1.92      2.38    1543672800       9.689   \n",
              "7               0.00      0.52      14.15     26.56    1545127200       9.734   \n",
              "8               0.42      0.88       7.02      7.02    1543287600       9.967   \n",
              "9               0.00      0.68       5.48      8.73    1544918400      10.000   \n",
              "\n",
              "   temperatureHigh  temperatureHighTime  temperatureLow  temperatureLowTime  \\\n",
              "0            42.61           1543438800           37.64          1543485600   \n",
              "1            50.80           1543788000           44.97          1543816800   \n",
              "2            47.11           1543320000           33.85          1543399200   \n",
              "3            42.70           1543438800           37.17          1543464000   \n",
              "4            46.49           1543255200           41.90          1543298400   \n",
              "5            44.72           1543690800           34.90          1543712400   \n",
              "6            44.11           1543690800           34.58          1543712400   \n",
              "7            32.80           1545159600           20.88          1545220800   \n",
              "8            46.46           1543255200           42.17          1543298400   \n",
              "9            54.47           1544896800           38.94          1544954400   \n",
              "\n",
              "   apparentTemperatureHigh  apparentTemperatureHighTime  \\\n",
              "0                    36.60                   1543438800   \n",
              "1                    50.13                   1543788000   \n",
              "2                    44.14                   1543320000   \n",
              "3                    36.77                   1543438800   \n",
              "4                    43.84                   1543244400   \n",
              "5                    44.05                   1543690800   \n",
              "6                    43.44                   1543690800   \n",
              "7                    22.69                   1545159600   \n",
              "8                    43.81                   1543251600   \n",
              "9                    53.80                   1544896800   \n",
              "\n",
              "   apparentTemperatureLow  apparentTemperatureLowTime                   icon  \\\n",
              "0                   32.23                  1543478400     partly-cloudy-day    \n",
              "1                   45.62                  1543816800                  rain    \n",
              "2                   30.03                  1543399200     partly-cloudy-day    \n",
              "3                   31.87                  1543460400   partly-cloudy-night    \n",
              "4                   36.70                  1543298400                cloudy    \n",
              "5                   35.55                  1543712400     partly-cloudy-day    \n",
              "6                   35.23                  1543712400   partly-cloudy-night    \n",
              "7                   14.31                  1545199200   partly-cloudy-night    \n",
              "8                   37.08                  1543298400                  rain    \n",
              "9                   35.08                  1544950800   partly-cloudy-night    \n",
              "\n",
              "   dewPoint  pressure  windBearing  cloudCover  uvIndex  visibility.1  ozone  \\\n",
              "0     28.14    991.36          261        0.54        0         9.974  347.5   \n",
              "1     39.06   1017.35          109        1.00        0         4.661  273.9   \n",
              "2     33.71    991.00          256        0.82        0        10.000  311.4   \n",
              "3     28.36    991.12          252        0.25        0         9.924  343.8   \n",
              "4     42.51   1012.59          114        1.00        1         8.104  294.0   \n",
              "5     27.51   1022.41          121        0.42        1         9.815  273.9   \n",
              "6     31.68   1023.33          162        0.46        0         9.689  274.1   \n",
              "7      9.85   1005.95          316        0.77        0         9.734  366.5   \n",
              "8     41.58   1009.43          106        1.00        0         9.967  295.9   \n",
              "9     33.96   1023.51           45        0.23        0        10.000  298.8   \n",
              "\n",
              "   sunriseTime  sunsetTime  moonPhase  precipIntensityMax  uvIndexTime  \\\n",
              "0   1543405939  1543439721       0.72              0.0000   1543420800   \n",
              "1   1543751798  1543785242       0.86              0.0916   1543770000   \n",
              "2   1543319468  1543353343       0.68              0.1430   1543338000   \n",
              "3   1543405943  1543439731       0.72              0.0000   1543420800   \n",
              "4   1543233003  1543266973       0.64              0.1225   1543251600   \n",
              "5   1543665333  1543698853       0.82              0.0000   1543683600   \n",
              "6   1543665299  1543698873       0.82              0.0000   1543683600   \n",
              "7   1545134994  1545167678       0.37              0.0028   1545152400   \n",
              "8   1543233004  1543266980       0.64              0.1245   1543251600   \n",
              "9   1544875681  1544908425       0.27              0.0074   1544893200   \n",
              "\n",
              "   temperatureMin  temperatureMinTime  temperatureMax  temperatureMaxTime  \\\n",
              "0           33.83          1543399200           42.61          1543438800   \n",
              "1           36.32          1543726800           50.80          1543788000   \n",
              "2           36.34          1543377600           47.11          1543320000   \n",
              "3           33.60          1543399200           42.70          1543438800   \n",
              "4           40.45          1543233600           46.49          1543255200   \n",
              "5           31.55          1543658400           44.72          1543690800   \n",
              "6           30.17          1543662000           44.11          1543690800   \n",
              "7           23.23          1545192000           38.11          1545109200   \n",
              "8           40.67          1543233600           46.46          1543255200   \n",
              "9           39.54          1544929200           54.47          1544896800   \n",
              "\n",
              "   apparentTemperatureMin  apparentTemperatureMinTime  apparentTemperatureMax  \\\n",
              "0                   30.13                  1543399200                   36.60   \n",
              "1                   35.84                  1543748400                   50.13   \n",
              "2                   32.26                  1543377600                   44.14   \n",
              "3                   30.08                  1543399200                   36.77   \n",
              "4                   37.17                  1543291200                   43.84   \n",
              "5                   27.95                  1543658400                   44.05   \n",
              "6                   25.87                  1543662000                   43.44   \n",
              "7                   11.86                  1545134400                   31.96   \n",
              "8                   37.45                  1543291200                   43.81   \n",
              "9                   36.46                  1544929200                   53.80   \n",
              "\n",
              "   apparentTemperatureMaxTime  \n",
              "0                  1543438800  \n",
              "1                  1543788000  \n",
              "2                  1543320000  \n",
              "3                  1543438800  \n",
              "4                  1543244400  \n",
              "5                  1543690800  \n",
              "6                  1543690800  \n",
              "7                  1545109200  \n",
              "8                  1543251600  \n",
              "9                  1544896800  "
            ],
            "text/html": [
              "\n",
              "  <div id=\"df-88996cb5-eddf-48ef-bf6c-2638902107af\">\n",
              "    <div class=\"colab-df-container\">\n",
              "      <div>\n",
              "<style scoped>\n",
              "    .dataframe tbody tr th:only-of-type {\n",
              "        vertical-align: middle;\n",
              "    }\n",
              "\n",
              "    .dataframe tbody tr th {\n",
              "        vertical-align: top;\n",
              "    }\n",
              "\n",
              "    .dataframe thead th {\n",
              "        text-align: right;\n",
              "    }\n",
              "</style>\n",
              "<table border=\"1\" class=\"dataframe\">\n",
              "  <thead>\n",
              "    <tr style=\"text-align: right;\">\n",
              "      <th></th>\n",
              "      <th>id</th>\n",
              "      <th>timestamp</th>\n",
              "      <th>hour</th>\n",
              "      <th>day</th>\n",
              "      <th>month</th>\n",
              "      <th>datetime</th>\n",
              "      <th>timezone</th>\n",
              "      <th>source</th>\n",
              "      <th>destination</th>\n",
              "      <th>cab_type</th>\n",
              "      <th>product_id</th>\n",
              "      <th>name</th>\n",
              "      <th>price</th>\n",
              "      <th>distance</th>\n",
              "      <th>surge_multiplier</th>\n",
              "      <th>latitude</th>\n",
              "      <th>longitude</th>\n",
              "      <th>temperature</th>\n",
              "      <th>apparentTemperature</th>\n",
              "      <th>short_summary</th>\n",
              "      <th>long_summary</th>\n",
              "      <th>precipIntensity</th>\n",
              "      <th>precipProbability</th>\n",
              "      <th>humidity</th>\n",
              "      <th>windSpeed</th>\n",
              "      <th>windGust</th>\n",
              "      <th>windGustTime</th>\n",
              "      <th>visibility</th>\n",
              "      <th>temperatureHigh</th>\n",
              "      <th>temperatureHighTime</th>\n",
              "      <th>temperatureLow</th>\n",
              "      <th>temperatureLowTime</th>\n",
              "      <th>apparentTemperatureHigh</th>\n",
              "      <th>apparentTemperatureHighTime</th>\n",
              "      <th>apparentTemperatureLow</th>\n",
              "      <th>apparentTemperatureLowTime</th>\n",
              "      <th>icon</th>\n",
              "      <th>dewPoint</th>\n",
              "      <th>pressure</th>\n",
              "      <th>windBearing</th>\n",
              "      <th>cloudCover</th>\n",
              "      <th>uvIndex</th>\n",
              "      <th>visibility.1</th>\n",
              "      <th>ozone</th>\n",
              "      <th>sunriseTime</th>\n",
              "      <th>sunsetTime</th>\n",
              "      <th>moonPhase</th>\n",
              "      <th>precipIntensityMax</th>\n",
              "      <th>uvIndexTime</th>\n",
              "      <th>temperatureMin</th>\n",
              "      <th>temperatureMinTime</th>\n",
              "      <th>temperatureMax</th>\n",
              "      <th>temperatureMaxTime</th>\n",
              "      <th>apparentTemperatureMin</th>\n",
              "      <th>apparentTemperatureMinTime</th>\n",
              "      <th>apparentTemperatureMax</th>\n",
              "      <th>apparentTemperatureMaxTime</th>\n",
              "    </tr>\n",
              "  </thead>\n",
              "  <tbody>\n",
              "    <tr>\n",
              "      <th>0</th>\n",
              "      <td>92d9558a-f338-4b52-8280-31ea3e4ea327</td>\n",
              "      <td>1.543408e+09</td>\n",
              "      <td>12</td>\n",
              "      <td>28</td>\n",
              "      <td>11</td>\n",
              "      <td>2018-11-28 12:26:07</td>\n",
              "      <td>America/New_York</td>\n",
              "      <td>West End</td>\n",
              "      <td>Fenway</td>\n",
              "      <td>Lyft</td>\n",
              "      <td>lyft</td>\n",
              "      <td>Lyft</td>\n",
              "      <td>9.0</td>\n",
              "      <td>2.93</td>\n",
              "      <td>1.0</td>\n",
              "      <td>42.3588</td>\n",
              "      <td>-71.0707</td>\n",
              "      <td>36.53</td>\n",
              "      <td>32.06</td>\n",
              "      <td>Mostly Cloudy</td>\n",
              "      <td>Mostly cloudy throughout the day.</td>\n",
              "      <td>0.0000</td>\n",
              "      <td>0.00</td>\n",
              "      <td>0.71</td>\n",
              "      <td>5.42</td>\n",
              "      <td>6.95</td>\n",
              "      <td>1543431600</td>\n",
              "      <td>9.974</td>\n",
              "      <td>42.61</td>\n",
              "      <td>1543438800</td>\n",
              "      <td>37.64</td>\n",
              "      <td>1543485600</td>\n",
              "      <td>36.60</td>\n",
              "      <td>1543438800</td>\n",
              "      <td>32.23</td>\n",
              "      <td>1543478400</td>\n",
              "      <td>partly-cloudy-day</td>\n",
              "      <td>28.14</td>\n",
              "      <td>991.36</td>\n",
              "      <td>261</td>\n",
              "      <td>0.54</td>\n",
              "      <td>0</td>\n",
              "      <td>9.974</td>\n",
              "      <td>347.5</td>\n",
              "      <td>1543405939</td>\n",
              "      <td>1543439721</td>\n",
              "      <td>0.72</td>\n",
              "      <td>0.0000</td>\n",
              "      <td>1543420800</td>\n",
              "      <td>33.83</td>\n",
              "      <td>1543399200</td>\n",
              "      <td>42.61</td>\n",
              "      <td>1543438800</td>\n",
              "      <td>30.13</td>\n",
              "      <td>1543399200</td>\n",
              "      <td>36.60</td>\n",
              "      <td>1543438800</td>\n",
              "    </tr>\n",
              "    <tr>\n",
              "      <th>1</th>\n",
              "      <td>32b428de-1048-43ce-84a2-f7e9f0224cb1</td>\n",
              "      <td>1.543753e+09</td>\n",
              "      <td>12</td>\n",
              "      <td>2</td>\n",
              "      <td>12</td>\n",
              "      <td>2018-12-02 12:17:58</td>\n",
              "      <td>America/New_York</td>\n",
              "      <td>Northeastern University</td>\n",
              "      <td>Theatre District</td>\n",
              "      <td>Uber</td>\n",
              "      <td>55c66225-fbe7-4fd5-9072-eab1ece5e23e</td>\n",
              "      <td>UberX</td>\n",
              "      <td>9.5</td>\n",
              "      <td>1.94</td>\n",
              "      <td>1.0</td>\n",
              "      <td>42.3503</td>\n",
              "      <td>-71.0810</td>\n",
              "      <td>41.19</td>\n",
              "      <td>36.49</td>\n",
              "      <td>Light Rain</td>\n",
              "      <td>Light rain until evening.</td>\n",
              "      <td>0.0923</td>\n",
              "      <td>1.00</td>\n",
              "      <td>0.92</td>\n",
              "      <td>7.16</td>\n",
              "      <td>7.16</td>\n",
              "      <td>1543755600</td>\n",
              "      <td>4.661</td>\n",
              "      <td>50.80</td>\n",
              "      <td>1543788000</td>\n",
              "      <td>44.97</td>\n",
              "      <td>1543816800</td>\n",
              "      <td>50.13</td>\n",
              "      <td>1543788000</td>\n",
              "      <td>45.62</td>\n",
              "      <td>1543816800</td>\n",
              "      <td>rain</td>\n",
              "      <td>39.06</td>\n",
              "      <td>1017.35</td>\n",
              "      <td>109</td>\n",
              "      <td>1.00</td>\n",
              "      <td>0</td>\n",
              "      <td>4.661</td>\n",
              "      <td>273.9</td>\n",
              "      <td>1543751798</td>\n",
              "      <td>1543785242</td>\n",
              "      <td>0.86</td>\n",
              "      <td>0.0916</td>\n",
              "      <td>1543770000</td>\n",
              "      <td>36.32</td>\n",
              "      <td>1543726800</td>\n",
              "      <td>50.80</td>\n",
              "      <td>1543788000</td>\n",
              "      <td>35.84</td>\n",
              "      <td>1543748400</td>\n",
              "      <td>50.13</td>\n",
              "      <td>1543788000</td>\n",
              "    </tr>\n",
              "    <tr>\n",
              "      <th>2</th>\n",
              "      <td>681f3399-5300-478b-ab1d-98210d6229a2</td>\n",
              "      <td>1.543350e+09</td>\n",
              "      <td>20</td>\n",
              "      <td>27</td>\n",
              "      <td>11</td>\n",
              "      <td>2018-11-27 20:24:23</td>\n",
              "      <td>America/New_York</td>\n",
              "      <td>South Station</td>\n",
              "      <td>Back Bay</td>\n",
              "      <td>Lyft</td>\n",
              "      <td>lyft_plus</td>\n",
              "      <td>Lyft XL</td>\n",
              "      <td>16.5</td>\n",
              "      <td>2.08</td>\n",
              "      <td>1.0</td>\n",
              "      <td>42.3647</td>\n",
              "      <td>-71.0542</td>\n",
              "      <td>43.02</td>\n",
              "      <td>37.56</td>\n",
              "      <td>Mostly Cloudy</td>\n",
              "      <td>Light rain in the morning.</td>\n",
              "      <td>0.0000</td>\n",
              "      <td>0.00</td>\n",
              "      <td>0.69</td>\n",
              "      <td>9.55</td>\n",
              "      <td>11.74</td>\n",
              "      <td>1543338000</td>\n",
              "      <td>10.000</td>\n",
              "      <td>47.11</td>\n",
              "      <td>1543320000</td>\n",
              "      <td>33.85</td>\n",
              "      <td>1543399200</td>\n",
              "      <td>44.14</td>\n",
              "      <td>1543320000</td>\n",
              "      <td>30.03</td>\n",
              "      <td>1543399200</td>\n",
              "      <td>partly-cloudy-day</td>\n",
              "      <td>33.71</td>\n",
              "      <td>991.00</td>\n",
              "      <td>256</td>\n",
              "      <td>0.82</td>\n",
              "      <td>0</td>\n",
              "      <td>10.000</td>\n",
              "      <td>311.4</td>\n",
              "      <td>1543319468</td>\n",
              "      <td>1543353343</td>\n",
              "      <td>0.68</td>\n",
              "      <td>0.1430</td>\n",
              "      <td>1543338000</td>\n",
              "      <td>36.34</td>\n",
              "      <td>1543377600</td>\n",
              "      <td>47.11</td>\n",
              "      <td>1543320000</td>\n",
              "      <td>32.26</td>\n",
              "      <td>1543377600</td>\n",
              "      <td>44.14</td>\n",
              "      <td>1543320000</td>\n",
              "    </tr>\n",
              "    <tr>\n",
              "      <th>3</th>\n",
              "      <td>45b7ee59-d807-4201-8cf9-ed95e990d097</td>\n",
              "      <td>1.543398e+09</td>\n",
              "      <td>9</td>\n",
              "      <td>28</td>\n",
              "      <td>11</td>\n",
              "      <td>2018-11-28 09:32:18</td>\n",
              "      <td>America/New_York</td>\n",
              "      <td>Haymarket Square</td>\n",
              "      <td>West End</td>\n",
              "      <td>Lyft</td>\n",
              "      <td>lyft_lux</td>\n",
              "      <td>Lux Black</td>\n",
              "      <td>16.5</td>\n",
              "      <td>0.64</td>\n",
              "      <td>1.0</td>\n",
              "      <td>42.3429</td>\n",
              "      <td>-71.1003</td>\n",
              "      <td>34.26</td>\n",
              "      <td>30.15</td>\n",
              "      <td>Partly Cloudy</td>\n",
              "      <td>Mostly cloudy throughout the day.</td>\n",
              "      <td>0.0000</td>\n",
              "      <td>0.00</td>\n",
              "      <td>0.79</td>\n",
              "      <td>4.54</td>\n",
              "      <td>7.00</td>\n",
              "      <td>1543431600</td>\n",
              "      <td>9.924</td>\n",
              "      <td>42.70</td>\n",
              "      <td>1543438800</td>\n",
              "      <td>37.17</td>\n",
              "      <td>1543464000</td>\n",
              "      <td>36.77</td>\n",
              "      <td>1543438800</td>\n",
              "      <td>31.87</td>\n",
              "      <td>1543460400</td>\n",
              "      <td>partly-cloudy-night</td>\n",
              "      <td>28.36</td>\n",
              "      <td>991.12</td>\n",
              "      <td>252</td>\n",
              "      <td>0.25</td>\n",
              "      <td>0</td>\n",
              "      <td>9.924</td>\n",
              "      <td>343.8</td>\n",
              "      <td>1543405943</td>\n",
              "      <td>1543439731</td>\n",
              "      <td>0.72</td>\n",
              "      <td>0.0000</td>\n",
              "      <td>1543420800</td>\n",
              "      <td>33.60</td>\n",
              "      <td>1543399200</td>\n",
              "      <td>42.70</td>\n",
              "      <td>1543438800</td>\n",
              "      <td>30.08</td>\n",
              "      <td>1543399200</td>\n",
              "      <td>36.77</td>\n",
              "      <td>1543438800</td>\n",
              "    </tr>\n",
              "    <tr>\n",
              "      <th>4</th>\n",
              "      <td>846cb6b7-9c81-4149-8d3f-9c6d8b752c9f</td>\n",
              "      <td>1.543252e+09</td>\n",
              "      <td>17</td>\n",
              "      <td>26</td>\n",
              "      <td>11</td>\n",
              "      <td>2018-11-26 17:11:09</td>\n",
              "      <td>America/New_York</td>\n",
              "      <td>Theatre District</td>\n",
              "      <td>North End</td>\n",
              "      <td>Lyft</td>\n",
              "      <td>lyft</td>\n",
              "      <td>Lyft</td>\n",
              "      <td>9.0</td>\n",
              "      <td>1.69</td>\n",
              "      <td>1.0</td>\n",
              "      <td>42.3661</td>\n",
              "      <td>-71.0631</td>\n",
              "      <td>45.83</td>\n",
              "      <td>43.88</td>\n",
              "      <td>Overcast</td>\n",
              "      <td>Rain until morning, starting again in the eve...</td>\n",
              "      <td>0.0010</td>\n",
              "      <td>0.12</td>\n",
              "      <td>0.88</td>\n",
              "      <td>4.22</td>\n",
              "      <td>5.17</td>\n",
              "      <td>1543287600</td>\n",
              "      <td>8.104</td>\n",
              "      <td>46.49</td>\n",
              "      <td>1543255200</td>\n",
              "      <td>41.90</td>\n",
              "      <td>1543298400</td>\n",
              "      <td>43.84</td>\n",
              "      <td>1543244400</td>\n",
              "      <td>36.70</td>\n",
              "      <td>1543298400</td>\n",
              "      <td>cloudy</td>\n",
              "      <td>42.51</td>\n",
              "      <td>1012.59</td>\n",
              "      <td>114</td>\n",
              "      <td>1.00</td>\n",
              "      <td>1</td>\n",
              "      <td>8.104</td>\n",
              "      <td>294.0</td>\n",
              "      <td>1543233003</td>\n",
              "      <td>1543266973</td>\n",
              "      <td>0.64</td>\n",
              "      <td>0.1225</td>\n",
              "      <td>1543251600</td>\n",
              "      <td>40.45</td>\n",
              "      <td>1543233600</td>\n",
              "      <td>46.49</td>\n",
              "      <td>1543255200</td>\n",
              "      <td>37.17</td>\n",
              "      <td>1543291200</td>\n",
              "      <td>43.84</td>\n",
              "      <td>1543244400</td>\n",
              "    </tr>\n",
              "    <tr>\n",
              "      <th>5</th>\n",
              "      <td>4d9057a1-fcb2-4af1-8a0c-3cb387c2efff</td>\n",
              "      <td>1.543692e+09</td>\n",
              "      <td>19</td>\n",
              "      <td>1</td>\n",
              "      <td>12</td>\n",
              "      <td>2018-12-01 19:23:01</td>\n",
              "      <td>America/New_York</td>\n",
              "      <td>Haymarket Square</td>\n",
              "      <td>Theatre District</td>\n",
              "      <td>Lyft</td>\n",
              "      <td>lyft_lux</td>\n",
              "      <td>Lux Black</td>\n",
              "      <td>19.5</td>\n",
              "      <td>1.87</td>\n",
              "      <td>1.0</td>\n",
              "      <td>42.3661</td>\n",
              "      <td>-71.0631</td>\n",
              "      <td>43.99</td>\n",
              "      <td>43.99</td>\n",
              "      <td>Partly Cloudy</td>\n",
              "      <td>Light rain in the morning and overnight.</td>\n",
              "      <td>0.0000</td>\n",
              "      <td>0.00</td>\n",
              "      <td>0.52</td>\n",
              "      <td>2.13</td>\n",
              "      <td>3.27</td>\n",
              "      <td>1543672800</td>\n",
              "      <td>9.815</td>\n",
              "      <td>44.72</td>\n",
              "      <td>1543690800</td>\n",
              "      <td>34.90</td>\n",
              "      <td>1543712400</td>\n",
              "      <td>44.05</td>\n",
              "      <td>1543690800</td>\n",
              "      <td>35.55</td>\n",
              "      <td>1543712400</td>\n",
              "      <td>partly-cloudy-day</td>\n",
              "      <td>27.51</td>\n",
              "      <td>1022.41</td>\n",
              "      <td>121</td>\n",
              "      <td>0.42</td>\n",
              "      <td>1</td>\n",
              "      <td>9.815</td>\n",
              "      <td>273.9</td>\n",
              "      <td>1543665333</td>\n",
              "      <td>1543698853</td>\n",
              "      <td>0.82</td>\n",
              "      <td>0.0000</td>\n",
              "      <td>1543683600</td>\n",
              "      <td>31.55</td>\n",
              "      <td>1543658400</td>\n",
              "      <td>44.72</td>\n",
              "      <td>1543690800</td>\n",
              "      <td>27.95</td>\n",
              "      <td>1543658400</td>\n",
              "      <td>44.05</td>\n",
              "      <td>1543690800</td>\n",
              "    </tr>\n",
              "    <tr>\n",
              "      <th>6</th>\n",
              "      <td>a40f1e2d-850d-4f3a-941b-13d522903cd3</td>\n",
              "      <td>1.543716e+09</td>\n",
              "      <td>2</td>\n",
              "      <td>2</td>\n",
              "      <td>12</td>\n",
              "      <td>2018-12-02 02:07:58</td>\n",
              "      <td>America/New_York</td>\n",
              "      <td>Theatre District</td>\n",
              "      <td>Fenway</td>\n",
              "      <td>Uber</td>\n",
              "      <td>55c66225-fbe7-4fd5-9072-eab1ece5e23e</td>\n",
              "      <td>UberX</td>\n",
              "      <td>9.5</td>\n",
              "      <td>2.66</td>\n",
              "      <td>1.0</td>\n",
              "      <td>42.2148</td>\n",
              "      <td>-71.0330</td>\n",
              "      <td>36.50</td>\n",
              "      <td>36.50</td>\n",
              "      <td>Partly Cloudy</td>\n",
              "      <td>Light rain in the morning and overnight.</td>\n",
              "      <td>0.0000</td>\n",
              "      <td>0.00</td>\n",
              "      <td>0.82</td>\n",
              "      <td>1.92</td>\n",
              "      <td>2.38</td>\n",
              "      <td>1543672800</td>\n",
              "      <td>9.689</td>\n",
              "      <td>44.11</td>\n",
              "      <td>1543690800</td>\n",
              "      <td>34.58</td>\n",
              "      <td>1543712400</td>\n",
              "      <td>43.44</td>\n",
              "      <td>1543690800</td>\n",
              "      <td>35.23</td>\n",
              "      <td>1543712400</td>\n",
              "      <td>partly-cloudy-night</td>\n",
              "      <td>31.68</td>\n",
              "      <td>1023.33</td>\n",
              "      <td>162</td>\n",
              "      <td>0.46</td>\n",
              "      <td>0</td>\n",
              "      <td>9.689</td>\n",
              "      <td>274.1</td>\n",
              "      <td>1543665299</td>\n",
              "      <td>1543698873</td>\n",
              "      <td>0.82</td>\n",
              "      <td>0.0000</td>\n",
              "      <td>1543683600</td>\n",
              "      <td>30.17</td>\n",
              "      <td>1543662000</td>\n",
              "      <td>44.11</td>\n",
              "      <td>1543690800</td>\n",
              "      <td>25.87</td>\n",
              "      <td>1543662000</td>\n",
              "      <td>43.44</td>\n",
              "      <td>1543690800</td>\n",
              "    </tr>\n",
              "    <tr>\n",
              "      <th>7</th>\n",
              "      <td>65127e75-b579-4172-aad9-bbb8f72005c1</td>\n",
              "      <td>1.545131e+09</td>\n",
              "      <td>10</td>\n",
              "      <td>18</td>\n",
              "      <td>12</td>\n",
              "      <td>2018-12-18 10:55:09</td>\n",
              "      <td>America/New_York</td>\n",
              "      <td>Back Bay</td>\n",
              "      <td>North End</td>\n",
              "      <td>Lyft</td>\n",
              "      <td>lyft_luxsuv</td>\n",
              "      <td>Lux Black XL</td>\n",
              "      <td>30.0</td>\n",
              "      <td>2.42</td>\n",
              "      <td>1.0</td>\n",
              "      <td>42.3647</td>\n",
              "      <td>-71.0542</td>\n",
              "      <td>25.21</td>\n",
              "      <td>13.25</td>\n",
              "      <td>Mostly Cloudy</td>\n",
              "      <td>Mostly cloudy throughout the day.</td>\n",
              "      <td>0.0000</td>\n",
              "      <td>0.00</td>\n",
              "      <td>0.52</td>\n",
              "      <td>14.15</td>\n",
              "      <td>26.56</td>\n",
              "      <td>1545127200</td>\n",
              "      <td>9.734</td>\n",
              "      <td>32.80</td>\n",
              "      <td>1545159600</td>\n",
              "      <td>20.88</td>\n",
              "      <td>1545220800</td>\n",
              "      <td>22.69</td>\n",
              "      <td>1545159600</td>\n",
              "      <td>14.31</td>\n",
              "      <td>1545199200</td>\n",
              "      <td>partly-cloudy-night</td>\n",
              "      <td>9.85</td>\n",
              "      <td>1005.95</td>\n",
              "      <td>316</td>\n",
              "      <td>0.77</td>\n",
              "      <td>0</td>\n",
              "      <td>9.734</td>\n",
              "      <td>366.5</td>\n",
              "      <td>1545134994</td>\n",
              "      <td>1545167678</td>\n",
              "      <td>0.37</td>\n",
              "      <td>0.0028</td>\n",
              "      <td>1545152400</td>\n",
              "      <td>23.23</td>\n",
              "      <td>1545192000</td>\n",
              "      <td>38.11</td>\n",
              "      <td>1545109200</td>\n",
              "      <td>11.86</td>\n",
              "      <td>1545134400</td>\n",
              "      <td>31.96</td>\n",
              "      <td>1545109200</td>\n",
              "    </tr>\n",
              "    <tr>\n",
              "      <th>8</th>\n",
              "      <td>73942a50-c1d5-4a99-a33a-318d20ae89d1</td>\n",
              "      <td>1.543273e+09</td>\n",
              "      <td>22</td>\n",
              "      <td>26</td>\n",
              "      <td>11</td>\n",
              "      <td>2018-11-26 22:57:09</td>\n",
              "      <td>America/New_York</td>\n",
              "      <td>Beacon Hill</td>\n",
              "      <td>Fenway</td>\n",
              "      <td>Lyft</td>\n",
              "      <td>lyft_luxsuv</td>\n",
              "      <td>Lux Black XL</td>\n",
              "      <td>27.5</td>\n",
              "      <td>2.35</td>\n",
              "      <td>1.0</td>\n",
              "      <td>42.3503</td>\n",
              "      <td>-71.0810</td>\n",
              "      <td>44.93</td>\n",
              "      <td>41.07</td>\n",
              "      <td>Possible Drizzle</td>\n",
              "      <td>Rain until morning, starting again in the eve...</td>\n",
              "      <td>0.0031</td>\n",
              "      <td>0.42</td>\n",
              "      <td>0.88</td>\n",
              "      <td>7.02</td>\n",
              "      <td>7.02</td>\n",
              "      <td>1543287600</td>\n",
              "      <td>9.967</td>\n",
              "      <td>46.46</td>\n",
              "      <td>1543255200</td>\n",
              "      <td>42.17</td>\n",
              "      <td>1543298400</td>\n",
              "      <td>43.81</td>\n",
              "      <td>1543251600</td>\n",
              "      <td>37.08</td>\n",
              "      <td>1543298400</td>\n",
              "      <td>rain</td>\n",
              "      <td>41.58</td>\n",
              "      <td>1009.43</td>\n",
              "      <td>106</td>\n",
              "      <td>1.00</td>\n",
              "      <td>0</td>\n",
              "      <td>9.967</td>\n",
              "      <td>295.9</td>\n",
              "      <td>1543233004</td>\n",
              "      <td>1543266980</td>\n",
              "      <td>0.64</td>\n",
              "      <td>0.1245</td>\n",
              "      <td>1543251600</td>\n",
              "      <td>40.67</td>\n",
              "      <td>1543233600</td>\n",
              "      <td>46.46</td>\n",
              "      <td>1543255200</td>\n",
              "      <td>37.45</td>\n",
              "      <td>1543291200</td>\n",
              "      <td>43.81</td>\n",
              "      <td>1543251600</td>\n",
              "    </tr>\n",
              "    <tr>\n",
              "      <th>9</th>\n",
              "      <td>b15e2c4c-9d69-4f06-8e94-d4cacec94271</td>\n",
              "      <td>1.544920e+09</td>\n",
              "      <td>0</td>\n",
              "      <td>16</td>\n",
              "      <td>12</td>\n",
              "      <td>2018-12-16 00:20:09</td>\n",
              "      <td>America/New_York</td>\n",
              "      <td>Northeastern University</td>\n",
              "      <td>Financial District</td>\n",
              "      <td>Lyft</td>\n",
              "      <td>lyft_line</td>\n",
              "      <td>Shared</td>\n",
              "      <td>7.0</td>\n",
              "      <td>4.19</td>\n",
              "      <td>1.0</td>\n",
              "      <td>42.3661</td>\n",
              "      <td>-71.0631</td>\n",
              "      <td>43.96</td>\n",
              "      <td>40.80</td>\n",
              "      <td>Partly Cloudy</td>\n",
              "      <td>Mostly cloudy throughout the day.</td>\n",
              "      <td>0.0000</td>\n",
              "      <td>0.00</td>\n",
              "      <td>0.68</td>\n",
              "      <td>5.48</td>\n",
              "      <td>8.73</td>\n",
              "      <td>1544918400</td>\n",
              "      <td>10.000</td>\n",
              "      <td>54.47</td>\n",
              "      <td>1544896800</td>\n",
              "      <td>38.94</td>\n",
              "      <td>1544954400</td>\n",
              "      <td>53.80</td>\n",
              "      <td>1544896800</td>\n",
              "      <td>35.08</td>\n",
              "      <td>1544950800</td>\n",
              "      <td>partly-cloudy-night</td>\n",
              "      <td>33.96</td>\n",
              "      <td>1023.51</td>\n",
              "      <td>45</td>\n",
              "      <td>0.23</td>\n",
              "      <td>0</td>\n",
              "      <td>10.000</td>\n",
              "      <td>298.8</td>\n",
              "      <td>1544875681</td>\n",
              "      <td>1544908425</td>\n",
              "      <td>0.27</td>\n",
              "      <td>0.0074</td>\n",
              "      <td>1544893200</td>\n",
              "      <td>39.54</td>\n",
              "      <td>1544929200</td>\n",
              "      <td>54.47</td>\n",
              "      <td>1544896800</td>\n",
              "      <td>36.46</td>\n",
              "      <td>1544929200</td>\n",
              "      <td>53.80</td>\n",
              "      <td>1544896800</td>\n",
              "    </tr>\n",
              "  </tbody>\n",
              "</table>\n",
              "</div>\n",
              "      <button class=\"colab-df-convert\" onclick=\"convertToInteractive('df-88996cb5-eddf-48ef-bf6c-2638902107af')\"\n",
              "              title=\"Convert this dataframe to an interactive table.\"\n",
              "              style=\"display:none;\">\n",
              "        \n",
              "  <svg xmlns=\"http://www.w3.org/2000/svg\" height=\"24px\"viewBox=\"0 0 24 24\"\n",
              "       width=\"24px\">\n",
              "    <path d=\"M0 0h24v24H0V0z\" fill=\"none\"/>\n",
              "    <path d=\"M18.56 5.44l.94 2.06.94-2.06 2.06-.94-2.06-.94-.94-2.06-.94 2.06-2.06.94zm-11 1L8.5 8.5l.94-2.06 2.06-.94-2.06-.94L8.5 2.5l-.94 2.06-2.06.94zm10 10l.94 2.06.94-2.06 2.06-.94-2.06-.94-.94-2.06-.94 2.06-2.06.94z\"/><path d=\"M17.41 7.96l-1.37-1.37c-.4-.4-.92-.59-1.43-.59-.52 0-1.04.2-1.43.59L10.3 9.45l-7.72 7.72c-.78.78-.78 2.05 0 2.83L4 21.41c.39.39.9.59 1.41.59.51 0 1.02-.2 1.41-.59l7.78-7.78 2.81-2.81c.8-.78.8-2.07 0-2.86zM5.41 20L4 18.59l7.72-7.72 1.47 1.35L5.41 20z\"/>\n",
              "  </svg>\n",
              "      </button>\n",
              "      \n",
              "  <style>\n",
              "    .colab-df-container {\n",
              "      display:flex;\n",
              "      flex-wrap:wrap;\n",
              "      gap: 12px;\n",
              "    }\n",
              "\n",
              "    .colab-df-convert {\n",
              "      background-color: #E8F0FE;\n",
              "      border: none;\n",
              "      border-radius: 50%;\n",
              "      cursor: pointer;\n",
              "      display: none;\n",
              "      fill: #1967D2;\n",
              "      height: 32px;\n",
              "      padding: 0 0 0 0;\n",
              "      width: 32px;\n",
              "    }\n",
              "\n",
              "    .colab-df-convert:hover {\n",
              "      background-color: #E2EBFA;\n",
              "      box-shadow: 0px 1px 2px rgba(60, 64, 67, 0.3), 0px 1px 3px 1px rgba(60, 64, 67, 0.15);\n",
              "      fill: #174EA6;\n",
              "    }\n",
              "\n",
              "    [theme=dark] .colab-df-convert {\n",
              "      background-color: #3B4455;\n",
              "      fill: #D2E3FC;\n",
              "    }\n",
              "\n",
              "    [theme=dark] .colab-df-convert:hover {\n",
              "      background-color: #434B5C;\n",
              "      box-shadow: 0px 1px 3px 1px rgba(0, 0, 0, 0.15);\n",
              "      filter: drop-shadow(0px 1px 2px rgba(0, 0, 0, 0.3));\n",
              "      fill: #FFFFFF;\n",
              "    }\n",
              "  </style>\n",
              "\n",
              "      <script>\n",
              "        const buttonEl =\n",
              "          document.querySelector('#df-88996cb5-eddf-48ef-bf6c-2638902107af button.colab-df-convert');\n",
              "        buttonEl.style.display =\n",
              "          google.colab.kernel.accessAllowed ? 'block' : 'none';\n",
              "\n",
              "        async function convertToInteractive(key) {\n",
              "          const element = document.querySelector('#df-88996cb5-eddf-48ef-bf6c-2638902107af');\n",
              "          const dataTable =\n",
              "            await google.colab.kernel.invokeFunction('convertToInteractive',\n",
              "                                                     [key], {});\n",
              "          if (!dataTable) return;\n",
              "\n",
              "          const docLinkHtml = 'Like what you see? Visit the ' +\n",
              "            '<a target=\"_blank\" href=https://colab.research.google.com/notebooks/data_table.ipynb>data table notebook</a>'\n",
              "            + ' to learn more about interactive tables.';\n",
              "          element.innerHTML = '';\n",
              "          dataTable['output_type'] = 'display_data';\n",
              "          await google.colab.output.renderOutput(dataTable, element);\n",
              "          const docLink = document.createElement('div');\n",
              "          docLink.innerHTML = docLinkHtml;\n",
              "          element.appendChild(docLink);\n",
              "        }\n",
              "      </script>\n",
              "    </div>\n",
              "  </div>\n",
              "  "
            ]
          },
          "metadata": {},
          "execution_count": 77
        }
      ]
    },
    {
      "cell_type": "markdown",
      "source": [
        "##**F.2. Scaling and Encoding**"
      ],
      "metadata": {
        "id": "yKSWVNDNV54c"
      }
    },
    {
      "cell_type": "code",
      "source": [
        "data_inf_num = ride_inf[num_columns_1]\n",
        "data_inf_cat = ride_inf[cat_columns_1]\n",
        "data_inf = ride_inf.drop('price', axis=1)"
      ],
      "metadata": {
        "id": "VLlTZQm5W5Fg"
      },
      "execution_count": 78,
      "outputs": []
    },
    {
      "cell_type": "code",
      "source": [
        "data_inf_num_scaled = scaler1.transform(data_inf_num)\n",
        "data_inf_cat_encoded = encoder.transform(data_inf_cat)"
      ],
      "metadata": {
        "id": "xcsh-T5GXRTf"
      },
      "execution_count": 79,
      "outputs": []
    },
    {
      "cell_type": "code",
      "source": [
        "data_inf_final = np.concatenate([data_inf_num_scaled, data_inf_cat_encoded], axis=1)\n",
        "data_inf_final = pd.DataFrame(data_inf_final, columns=[num_columns_1+cat_columns_1])"
      ],
      "metadata": {
        "id": "cF0tuZ6dYkG2"
      },
      "execution_count": 80,
      "outputs": []
    },
    {
      "cell_type": "markdown",
      "source": [
        "##**F.3. Predicting**"
      ],
      "metadata": {
        "id": "mB7zrUYOWYVz"
      }
    },
    {
      "cell_type": "code",
      "source": [
        "y_pred_inf = model1.predict(data_inf_final)\n",
        "y_pred_inf_df = pd.DataFrame(y_pred_inf, columns=['Price - Prediction'])\n",
        "pd.concat([data_inf, y_pred_inf_df], axis=1)"
      ],
      "metadata": {
        "colab": {
          "base_uri": "https://localhost:8080/",
          "height": 1000
        },
        "id": "kBa3O9a0Y0U1",
        "outputId": "3dd612ee-d284-427e-e554-9fdb48de47c7"
      },
      "execution_count": 82,
      "outputs": [
        {
          "output_type": "stream",
          "name": "stderr",
          "text": [
            "/usr/local/lib/python3.7/dist-packages/sklearn/utils/validation.py:1692: FutureWarning: Feature names only support names that are all strings. Got feature names with dtypes: ['tuple']. An error will be raised in 1.2.\n",
            "  FutureWarning,\n"
          ]
        },
        {
          "output_type": "execute_result",
          "data": {
            "text/plain": [
              "                                     id     timestamp  hour  day  month  \\\n",
              "0  92d9558a-f338-4b52-8280-31ea3e4ea327  1.543408e+09    12   28     11   \n",
              "1  32b428de-1048-43ce-84a2-f7e9f0224cb1  1.543753e+09    12    2     12   \n",
              "2  681f3399-5300-478b-ab1d-98210d6229a2  1.543350e+09    20   27     11   \n",
              "3  45b7ee59-d807-4201-8cf9-ed95e990d097  1.543398e+09     9   28     11   \n",
              "4  846cb6b7-9c81-4149-8d3f-9c6d8b752c9f  1.543252e+09    17   26     11   \n",
              "5  4d9057a1-fcb2-4af1-8a0c-3cb387c2efff  1.543692e+09    19    1     12   \n",
              "6  a40f1e2d-850d-4f3a-941b-13d522903cd3  1.543716e+09     2    2     12   \n",
              "7  65127e75-b579-4172-aad9-bbb8f72005c1  1.545131e+09    10   18     12   \n",
              "8  73942a50-c1d5-4a99-a33a-318d20ae89d1  1.543273e+09    22   26     11   \n",
              "9  b15e2c4c-9d69-4f06-8e94-d4cacec94271  1.544920e+09     0   16     12   \n",
              "\n",
              "              datetime          timezone                   source  \\\n",
              "0  2018-11-28 12:26:07  America/New_York                 West End   \n",
              "1  2018-12-02 12:17:58  America/New_York  Northeastern University   \n",
              "2  2018-11-27 20:24:23  America/New_York            South Station   \n",
              "3  2018-11-28 09:32:18  America/New_York         Haymarket Square   \n",
              "4  2018-11-26 17:11:09  America/New_York         Theatre District   \n",
              "5  2018-12-01 19:23:01  America/New_York         Haymarket Square   \n",
              "6  2018-12-02 02:07:58  America/New_York         Theatre District   \n",
              "7  2018-12-18 10:55:09  America/New_York                 Back Bay   \n",
              "8  2018-11-26 22:57:09  America/New_York              Beacon Hill   \n",
              "9  2018-12-16 00:20:09  America/New_York  Northeastern University   \n",
              "\n",
              "          destination cab_type                            product_id  \\\n",
              "0              Fenway     Lyft                                  lyft   \n",
              "1    Theatre District     Uber  55c66225-fbe7-4fd5-9072-eab1ece5e23e   \n",
              "2            Back Bay     Lyft                             lyft_plus   \n",
              "3            West End     Lyft                              lyft_lux   \n",
              "4           North End     Lyft                                  lyft   \n",
              "5    Theatre District     Lyft                              lyft_lux   \n",
              "6              Fenway     Uber  55c66225-fbe7-4fd5-9072-eab1ece5e23e   \n",
              "7           North End     Lyft                           lyft_luxsuv   \n",
              "8              Fenway     Lyft                           lyft_luxsuv   \n",
              "9  Financial District     Lyft                             lyft_line   \n",
              "\n",
              "           name  distance  surge_multiplier  latitude  longitude  temperature  \\\n",
              "0          Lyft      2.93               1.0   42.3588   -71.0707        36.53   \n",
              "1         UberX      1.94               1.0   42.3503   -71.0810        41.19   \n",
              "2       Lyft XL      2.08               1.0   42.3647   -71.0542        43.02   \n",
              "3     Lux Black      0.64               1.0   42.3429   -71.1003        34.26   \n",
              "4          Lyft      1.69               1.0   42.3661   -71.0631        45.83   \n",
              "5     Lux Black      1.87               1.0   42.3661   -71.0631        43.99   \n",
              "6         UberX      2.66               1.0   42.2148   -71.0330        36.50   \n",
              "7  Lux Black XL      2.42               1.0   42.3647   -71.0542        25.21   \n",
              "8  Lux Black XL      2.35               1.0   42.3503   -71.0810        44.93   \n",
              "9        Shared      4.19               1.0   42.3661   -71.0631        43.96   \n",
              "\n",
              "   apparentTemperature       short_summary  \\\n",
              "0                32.06      Mostly Cloudy    \n",
              "1                36.49         Light Rain    \n",
              "2                37.56      Mostly Cloudy    \n",
              "3                30.15      Partly Cloudy    \n",
              "4                43.88           Overcast    \n",
              "5                43.99      Partly Cloudy    \n",
              "6                36.50      Partly Cloudy    \n",
              "7                13.25      Mostly Cloudy    \n",
              "8                41.07   Possible Drizzle    \n",
              "9                40.80      Partly Cloudy    \n",
              "\n",
              "                                        long_summary  precipIntensity  \\\n",
              "0                 Mostly cloudy throughout the day.            0.0000   \n",
              "1                         Light rain until evening.            0.0923   \n",
              "2                        Light rain in the morning.            0.0000   \n",
              "3                 Mostly cloudy throughout the day.            0.0000   \n",
              "4   Rain until morning, starting again in the eve...           0.0010   \n",
              "5          Light rain in the morning and overnight.            0.0000   \n",
              "6          Light rain in the morning and overnight.            0.0000   \n",
              "7                 Mostly cloudy throughout the day.            0.0000   \n",
              "8   Rain until morning, starting again in the eve...           0.0031   \n",
              "9                 Mostly cloudy throughout the day.            0.0000   \n",
              "\n",
              "   precipProbability  humidity  windSpeed  windGust  windGustTime  visibility  \\\n",
              "0               0.00      0.71       5.42      6.95    1543431600       9.974   \n",
              "1               1.00      0.92       7.16      7.16    1543755600       4.661   \n",
              "2               0.00      0.69       9.55     11.74    1543338000      10.000   \n",
              "3               0.00      0.79       4.54      7.00    1543431600       9.924   \n",
              "4               0.12      0.88       4.22      5.17    1543287600       8.104   \n",
              "5               0.00      0.52       2.13      3.27    1543672800       9.815   \n",
              "6               0.00      0.82       1.92      2.38    1543672800       9.689   \n",
              "7               0.00      0.52      14.15     26.56    1545127200       9.734   \n",
              "8               0.42      0.88       7.02      7.02    1543287600       9.967   \n",
              "9               0.00      0.68       5.48      8.73    1544918400      10.000   \n",
              "\n",
              "   temperatureHigh  temperatureHighTime  temperatureLow  temperatureLowTime  \\\n",
              "0            42.61           1543438800           37.64          1543485600   \n",
              "1            50.80           1543788000           44.97          1543816800   \n",
              "2            47.11           1543320000           33.85          1543399200   \n",
              "3            42.70           1543438800           37.17          1543464000   \n",
              "4            46.49           1543255200           41.90          1543298400   \n",
              "5            44.72           1543690800           34.90          1543712400   \n",
              "6            44.11           1543690800           34.58          1543712400   \n",
              "7            32.80           1545159600           20.88          1545220800   \n",
              "8            46.46           1543255200           42.17          1543298400   \n",
              "9            54.47           1544896800           38.94          1544954400   \n",
              "\n",
              "   apparentTemperatureHigh  apparentTemperatureHighTime  \\\n",
              "0                    36.60                   1543438800   \n",
              "1                    50.13                   1543788000   \n",
              "2                    44.14                   1543320000   \n",
              "3                    36.77                   1543438800   \n",
              "4                    43.84                   1543244400   \n",
              "5                    44.05                   1543690800   \n",
              "6                    43.44                   1543690800   \n",
              "7                    22.69                   1545159600   \n",
              "8                    43.81                   1543251600   \n",
              "9                    53.80                   1544896800   \n",
              "\n",
              "   apparentTemperatureLow  apparentTemperatureLowTime                   icon  \\\n",
              "0                   32.23                  1543478400     partly-cloudy-day    \n",
              "1                   45.62                  1543816800                  rain    \n",
              "2                   30.03                  1543399200     partly-cloudy-day    \n",
              "3                   31.87                  1543460400   partly-cloudy-night    \n",
              "4                   36.70                  1543298400                cloudy    \n",
              "5                   35.55                  1543712400     partly-cloudy-day    \n",
              "6                   35.23                  1543712400   partly-cloudy-night    \n",
              "7                   14.31                  1545199200   partly-cloudy-night    \n",
              "8                   37.08                  1543298400                  rain    \n",
              "9                   35.08                  1544950800   partly-cloudy-night    \n",
              "\n",
              "   dewPoint  pressure  windBearing  cloudCover  uvIndex  visibility.1  ozone  \\\n",
              "0     28.14    991.36          261        0.54        0         9.974  347.5   \n",
              "1     39.06   1017.35          109        1.00        0         4.661  273.9   \n",
              "2     33.71    991.00          256        0.82        0        10.000  311.4   \n",
              "3     28.36    991.12          252        0.25        0         9.924  343.8   \n",
              "4     42.51   1012.59          114        1.00        1         8.104  294.0   \n",
              "5     27.51   1022.41          121        0.42        1         9.815  273.9   \n",
              "6     31.68   1023.33          162        0.46        0         9.689  274.1   \n",
              "7      9.85   1005.95          316        0.77        0         9.734  366.5   \n",
              "8     41.58   1009.43          106        1.00        0         9.967  295.9   \n",
              "9     33.96   1023.51           45        0.23        0        10.000  298.8   \n",
              "\n",
              "   sunriseTime  sunsetTime  moonPhase  precipIntensityMax  uvIndexTime  \\\n",
              "0   1543405939  1543439721       0.72              0.0000   1543420800   \n",
              "1   1543751798  1543785242       0.86              0.0916   1543770000   \n",
              "2   1543319468  1543353343       0.68              0.1430   1543338000   \n",
              "3   1543405943  1543439731       0.72              0.0000   1543420800   \n",
              "4   1543233003  1543266973       0.64              0.1225   1543251600   \n",
              "5   1543665333  1543698853       0.82              0.0000   1543683600   \n",
              "6   1543665299  1543698873       0.82              0.0000   1543683600   \n",
              "7   1545134994  1545167678       0.37              0.0028   1545152400   \n",
              "8   1543233004  1543266980       0.64              0.1245   1543251600   \n",
              "9   1544875681  1544908425       0.27              0.0074   1544893200   \n",
              "\n",
              "   temperatureMin  temperatureMinTime  temperatureMax  temperatureMaxTime  \\\n",
              "0           33.83          1543399200           42.61          1543438800   \n",
              "1           36.32          1543726800           50.80          1543788000   \n",
              "2           36.34          1543377600           47.11          1543320000   \n",
              "3           33.60          1543399200           42.70          1543438800   \n",
              "4           40.45          1543233600           46.49          1543255200   \n",
              "5           31.55          1543658400           44.72          1543690800   \n",
              "6           30.17          1543662000           44.11          1543690800   \n",
              "7           23.23          1545192000           38.11          1545109200   \n",
              "8           40.67          1543233600           46.46          1543255200   \n",
              "9           39.54          1544929200           54.47          1544896800   \n",
              "\n",
              "   apparentTemperatureMin  apparentTemperatureMinTime  apparentTemperatureMax  \\\n",
              "0                   30.13                  1543399200                   36.60   \n",
              "1                   35.84                  1543748400                   50.13   \n",
              "2                   32.26                  1543377600                   44.14   \n",
              "3                   30.08                  1543399200                   36.77   \n",
              "4                   37.17                  1543291200                   43.84   \n",
              "5                   27.95                  1543658400                   44.05   \n",
              "6                   25.87                  1543662000                   43.44   \n",
              "7                   11.86                  1545134400                   31.96   \n",
              "8                   37.45                  1543291200                   43.81   \n",
              "9                   36.46                  1544929200                   53.80   \n",
              "\n",
              "   apparentTemperatureMaxTime  Price - Prediction  \n",
              "0                  1543438800           20.382042  \n",
              "1                  1543788000           14.235030  \n",
              "2                  1543320000           13.935749  \n",
              "3                  1543438800           12.154020  \n",
              "4                  1543244400           17.090097  \n",
              "5                  1543690800           15.997647  \n",
              "6                  1543690800           16.133954  \n",
              "7                  1545109200           15.813254  \n",
              "8                  1543251600           15.647145  \n",
              "9                  1544896800           21.785546  "
            ],
            "text/html": [
              "\n",
              "  <div id=\"df-443cfd2e-4e8d-40f2-9bee-fb5f76d7f01c\">\n",
              "    <div class=\"colab-df-container\">\n",
              "      <div>\n",
              "<style scoped>\n",
              "    .dataframe tbody tr th:only-of-type {\n",
              "        vertical-align: middle;\n",
              "    }\n",
              "\n",
              "    .dataframe tbody tr th {\n",
              "        vertical-align: top;\n",
              "    }\n",
              "\n",
              "    .dataframe thead th {\n",
              "        text-align: right;\n",
              "    }\n",
              "</style>\n",
              "<table border=\"1\" class=\"dataframe\">\n",
              "  <thead>\n",
              "    <tr style=\"text-align: right;\">\n",
              "      <th></th>\n",
              "      <th>id</th>\n",
              "      <th>timestamp</th>\n",
              "      <th>hour</th>\n",
              "      <th>day</th>\n",
              "      <th>month</th>\n",
              "      <th>datetime</th>\n",
              "      <th>timezone</th>\n",
              "      <th>source</th>\n",
              "      <th>destination</th>\n",
              "      <th>cab_type</th>\n",
              "      <th>product_id</th>\n",
              "      <th>name</th>\n",
              "      <th>distance</th>\n",
              "      <th>surge_multiplier</th>\n",
              "      <th>latitude</th>\n",
              "      <th>longitude</th>\n",
              "      <th>temperature</th>\n",
              "      <th>apparentTemperature</th>\n",
              "      <th>short_summary</th>\n",
              "      <th>long_summary</th>\n",
              "      <th>precipIntensity</th>\n",
              "      <th>precipProbability</th>\n",
              "      <th>humidity</th>\n",
              "      <th>windSpeed</th>\n",
              "      <th>windGust</th>\n",
              "      <th>windGustTime</th>\n",
              "      <th>visibility</th>\n",
              "      <th>temperatureHigh</th>\n",
              "      <th>temperatureHighTime</th>\n",
              "      <th>temperatureLow</th>\n",
              "      <th>temperatureLowTime</th>\n",
              "      <th>apparentTemperatureHigh</th>\n",
              "      <th>apparentTemperatureHighTime</th>\n",
              "      <th>apparentTemperatureLow</th>\n",
              "      <th>apparentTemperatureLowTime</th>\n",
              "      <th>icon</th>\n",
              "      <th>dewPoint</th>\n",
              "      <th>pressure</th>\n",
              "      <th>windBearing</th>\n",
              "      <th>cloudCover</th>\n",
              "      <th>uvIndex</th>\n",
              "      <th>visibility.1</th>\n",
              "      <th>ozone</th>\n",
              "      <th>sunriseTime</th>\n",
              "      <th>sunsetTime</th>\n",
              "      <th>moonPhase</th>\n",
              "      <th>precipIntensityMax</th>\n",
              "      <th>uvIndexTime</th>\n",
              "      <th>temperatureMin</th>\n",
              "      <th>temperatureMinTime</th>\n",
              "      <th>temperatureMax</th>\n",
              "      <th>temperatureMaxTime</th>\n",
              "      <th>apparentTemperatureMin</th>\n",
              "      <th>apparentTemperatureMinTime</th>\n",
              "      <th>apparentTemperatureMax</th>\n",
              "      <th>apparentTemperatureMaxTime</th>\n",
              "      <th>Price - Prediction</th>\n",
              "    </tr>\n",
              "  </thead>\n",
              "  <tbody>\n",
              "    <tr>\n",
              "      <th>0</th>\n",
              "      <td>92d9558a-f338-4b52-8280-31ea3e4ea327</td>\n",
              "      <td>1.543408e+09</td>\n",
              "      <td>12</td>\n",
              "      <td>28</td>\n",
              "      <td>11</td>\n",
              "      <td>2018-11-28 12:26:07</td>\n",
              "      <td>America/New_York</td>\n",
              "      <td>West End</td>\n",
              "      <td>Fenway</td>\n",
              "      <td>Lyft</td>\n",
              "      <td>lyft</td>\n",
              "      <td>Lyft</td>\n",
              "      <td>2.93</td>\n",
              "      <td>1.0</td>\n",
              "      <td>42.3588</td>\n",
              "      <td>-71.0707</td>\n",
              "      <td>36.53</td>\n",
              "      <td>32.06</td>\n",
              "      <td>Mostly Cloudy</td>\n",
              "      <td>Mostly cloudy throughout the day.</td>\n",
              "      <td>0.0000</td>\n",
              "      <td>0.00</td>\n",
              "      <td>0.71</td>\n",
              "      <td>5.42</td>\n",
              "      <td>6.95</td>\n",
              "      <td>1543431600</td>\n",
              "      <td>9.974</td>\n",
              "      <td>42.61</td>\n",
              "      <td>1543438800</td>\n",
              "      <td>37.64</td>\n",
              "      <td>1543485600</td>\n",
              "      <td>36.60</td>\n",
              "      <td>1543438800</td>\n",
              "      <td>32.23</td>\n",
              "      <td>1543478400</td>\n",
              "      <td>partly-cloudy-day</td>\n",
              "      <td>28.14</td>\n",
              "      <td>991.36</td>\n",
              "      <td>261</td>\n",
              "      <td>0.54</td>\n",
              "      <td>0</td>\n",
              "      <td>9.974</td>\n",
              "      <td>347.5</td>\n",
              "      <td>1543405939</td>\n",
              "      <td>1543439721</td>\n",
              "      <td>0.72</td>\n",
              "      <td>0.0000</td>\n",
              "      <td>1543420800</td>\n",
              "      <td>33.83</td>\n",
              "      <td>1543399200</td>\n",
              "      <td>42.61</td>\n",
              "      <td>1543438800</td>\n",
              "      <td>30.13</td>\n",
              "      <td>1543399200</td>\n",
              "      <td>36.60</td>\n",
              "      <td>1543438800</td>\n",
              "      <td>20.382042</td>\n",
              "    </tr>\n",
              "    <tr>\n",
              "      <th>1</th>\n",
              "      <td>32b428de-1048-43ce-84a2-f7e9f0224cb1</td>\n",
              "      <td>1.543753e+09</td>\n",
              "      <td>12</td>\n",
              "      <td>2</td>\n",
              "      <td>12</td>\n",
              "      <td>2018-12-02 12:17:58</td>\n",
              "      <td>America/New_York</td>\n",
              "      <td>Northeastern University</td>\n",
              "      <td>Theatre District</td>\n",
              "      <td>Uber</td>\n",
              "      <td>55c66225-fbe7-4fd5-9072-eab1ece5e23e</td>\n",
              "      <td>UberX</td>\n",
              "      <td>1.94</td>\n",
              "      <td>1.0</td>\n",
              "      <td>42.3503</td>\n",
              "      <td>-71.0810</td>\n",
              "      <td>41.19</td>\n",
              "      <td>36.49</td>\n",
              "      <td>Light Rain</td>\n",
              "      <td>Light rain until evening.</td>\n",
              "      <td>0.0923</td>\n",
              "      <td>1.00</td>\n",
              "      <td>0.92</td>\n",
              "      <td>7.16</td>\n",
              "      <td>7.16</td>\n",
              "      <td>1543755600</td>\n",
              "      <td>4.661</td>\n",
              "      <td>50.80</td>\n",
              "      <td>1543788000</td>\n",
              "      <td>44.97</td>\n",
              "      <td>1543816800</td>\n",
              "      <td>50.13</td>\n",
              "      <td>1543788000</td>\n",
              "      <td>45.62</td>\n",
              "      <td>1543816800</td>\n",
              "      <td>rain</td>\n",
              "      <td>39.06</td>\n",
              "      <td>1017.35</td>\n",
              "      <td>109</td>\n",
              "      <td>1.00</td>\n",
              "      <td>0</td>\n",
              "      <td>4.661</td>\n",
              "      <td>273.9</td>\n",
              "      <td>1543751798</td>\n",
              "      <td>1543785242</td>\n",
              "      <td>0.86</td>\n",
              "      <td>0.0916</td>\n",
              "      <td>1543770000</td>\n",
              "      <td>36.32</td>\n",
              "      <td>1543726800</td>\n",
              "      <td>50.80</td>\n",
              "      <td>1543788000</td>\n",
              "      <td>35.84</td>\n",
              "      <td>1543748400</td>\n",
              "      <td>50.13</td>\n",
              "      <td>1543788000</td>\n",
              "      <td>14.235030</td>\n",
              "    </tr>\n",
              "    <tr>\n",
              "      <th>2</th>\n",
              "      <td>681f3399-5300-478b-ab1d-98210d6229a2</td>\n",
              "      <td>1.543350e+09</td>\n",
              "      <td>20</td>\n",
              "      <td>27</td>\n",
              "      <td>11</td>\n",
              "      <td>2018-11-27 20:24:23</td>\n",
              "      <td>America/New_York</td>\n",
              "      <td>South Station</td>\n",
              "      <td>Back Bay</td>\n",
              "      <td>Lyft</td>\n",
              "      <td>lyft_plus</td>\n",
              "      <td>Lyft XL</td>\n",
              "      <td>2.08</td>\n",
              "      <td>1.0</td>\n",
              "      <td>42.3647</td>\n",
              "      <td>-71.0542</td>\n",
              "      <td>43.02</td>\n",
              "      <td>37.56</td>\n",
              "      <td>Mostly Cloudy</td>\n",
              "      <td>Light rain in the morning.</td>\n",
              "      <td>0.0000</td>\n",
              "      <td>0.00</td>\n",
              "      <td>0.69</td>\n",
              "      <td>9.55</td>\n",
              "      <td>11.74</td>\n",
              "      <td>1543338000</td>\n",
              "      <td>10.000</td>\n",
              "      <td>47.11</td>\n",
              "      <td>1543320000</td>\n",
              "      <td>33.85</td>\n",
              "      <td>1543399200</td>\n",
              "      <td>44.14</td>\n",
              "      <td>1543320000</td>\n",
              "      <td>30.03</td>\n",
              "      <td>1543399200</td>\n",
              "      <td>partly-cloudy-day</td>\n",
              "      <td>33.71</td>\n",
              "      <td>991.00</td>\n",
              "      <td>256</td>\n",
              "      <td>0.82</td>\n",
              "      <td>0</td>\n",
              "      <td>10.000</td>\n",
              "      <td>311.4</td>\n",
              "      <td>1543319468</td>\n",
              "      <td>1543353343</td>\n",
              "      <td>0.68</td>\n",
              "      <td>0.1430</td>\n",
              "      <td>1543338000</td>\n",
              "      <td>36.34</td>\n",
              "      <td>1543377600</td>\n",
              "      <td>47.11</td>\n",
              "      <td>1543320000</td>\n",
              "      <td>32.26</td>\n",
              "      <td>1543377600</td>\n",
              "      <td>44.14</td>\n",
              "      <td>1543320000</td>\n",
              "      <td>13.935749</td>\n",
              "    </tr>\n",
              "    <tr>\n",
              "      <th>3</th>\n",
              "      <td>45b7ee59-d807-4201-8cf9-ed95e990d097</td>\n",
              "      <td>1.543398e+09</td>\n",
              "      <td>9</td>\n",
              "      <td>28</td>\n",
              "      <td>11</td>\n",
              "      <td>2018-11-28 09:32:18</td>\n",
              "      <td>America/New_York</td>\n",
              "      <td>Haymarket Square</td>\n",
              "      <td>West End</td>\n",
              "      <td>Lyft</td>\n",
              "      <td>lyft_lux</td>\n",
              "      <td>Lux Black</td>\n",
              "      <td>0.64</td>\n",
              "      <td>1.0</td>\n",
              "      <td>42.3429</td>\n",
              "      <td>-71.1003</td>\n",
              "      <td>34.26</td>\n",
              "      <td>30.15</td>\n",
              "      <td>Partly Cloudy</td>\n",
              "      <td>Mostly cloudy throughout the day.</td>\n",
              "      <td>0.0000</td>\n",
              "      <td>0.00</td>\n",
              "      <td>0.79</td>\n",
              "      <td>4.54</td>\n",
              "      <td>7.00</td>\n",
              "      <td>1543431600</td>\n",
              "      <td>9.924</td>\n",
              "      <td>42.70</td>\n",
              "      <td>1543438800</td>\n",
              "      <td>37.17</td>\n",
              "      <td>1543464000</td>\n",
              "      <td>36.77</td>\n",
              "      <td>1543438800</td>\n",
              "      <td>31.87</td>\n",
              "      <td>1543460400</td>\n",
              "      <td>partly-cloudy-night</td>\n",
              "      <td>28.36</td>\n",
              "      <td>991.12</td>\n",
              "      <td>252</td>\n",
              "      <td>0.25</td>\n",
              "      <td>0</td>\n",
              "      <td>9.924</td>\n",
              "      <td>343.8</td>\n",
              "      <td>1543405943</td>\n",
              "      <td>1543439731</td>\n",
              "      <td>0.72</td>\n",
              "      <td>0.0000</td>\n",
              "      <td>1543420800</td>\n",
              "      <td>33.60</td>\n",
              "      <td>1543399200</td>\n",
              "      <td>42.70</td>\n",
              "      <td>1543438800</td>\n",
              "      <td>30.08</td>\n",
              "      <td>1543399200</td>\n",
              "      <td>36.77</td>\n",
              "      <td>1543438800</td>\n",
              "      <td>12.154020</td>\n",
              "    </tr>\n",
              "    <tr>\n",
              "      <th>4</th>\n",
              "      <td>846cb6b7-9c81-4149-8d3f-9c6d8b752c9f</td>\n",
              "      <td>1.543252e+09</td>\n",
              "      <td>17</td>\n",
              "      <td>26</td>\n",
              "      <td>11</td>\n",
              "      <td>2018-11-26 17:11:09</td>\n",
              "      <td>America/New_York</td>\n",
              "      <td>Theatre District</td>\n",
              "      <td>North End</td>\n",
              "      <td>Lyft</td>\n",
              "      <td>lyft</td>\n",
              "      <td>Lyft</td>\n",
              "      <td>1.69</td>\n",
              "      <td>1.0</td>\n",
              "      <td>42.3661</td>\n",
              "      <td>-71.0631</td>\n",
              "      <td>45.83</td>\n",
              "      <td>43.88</td>\n",
              "      <td>Overcast</td>\n",
              "      <td>Rain until morning, starting again in the eve...</td>\n",
              "      <td>0.0010</td>\n",
              "      <td>0.12</td>\n",
              "      <td>0.88</td>\n",
              "      <td>4.22</td>\n",
              "      <td>5.17</td>\n",
              "      <td>1543287600</td>\n",
              "      <td>8.104</td>\n",
              "      <td>46.49</td>\n",
              "      <td>1543255200</td>\n",
              "      <td>41.90</td>\n",
              "      <td>1543298400</td>\n",
              "      <td>43.84</td>\n",
              "      <td>1543244400</td>\n",
              "      <td>36.70</td>\n",
              "      <td>1543298400</td>\n",
              "      <td>cloudy</td>\n",
              "      <td>42.51</td>\n",
              "      <td>1012.59</td>\n",
              "      <td>114</td>\n",
              "      <td>1.00</td>\n",
              "      <td>1</td>\n",
              "      <td>8.104</td>\n",
              "      <td>294.0</td>\n",
              "      <td>1543233003</td>\n",
              "      <td>1543266973</td>\n",
              "      <td>0.64</td>\n",
              "      <td>0.1225</td>\n",
              "      <td>1543251600</td>\n",
              "      <td>40.45</td>\n",
              "      <td>1543233600</td>\n",
              "      <td>46.49</td>\n",
              "      <td>1543255200</td>\n",
              "      <td>37.17</td>\n",
              "      <td>1543291200</td>\n",
              "      <td>43.84</td>\n",
              "      <td>1543244400</td>\n",
              "      <td>17.090097</td>\n",
              "    </tr>\n",
              "    <tr>\n",
              "      <th>5</th>\n",
              "      <td>4d9057a1-fcb2-4af1-8a0c-3cb387c2efff</td>\n",
              "      <td>1.543692e+09</td>\n",
              "      <td>19</td>\n",
              "      <td>1</td>\n",
              "      <td>12</td>\n",
              "      <td>2018-12-01 19:23:01</td>\n",
              "      <td>America/New_York</td>\n",
              "      <td>Haymarket Square</td>\n",
              "      <td>Theatre District</td>\n",
              "      <td>Lyft</td>\n",
              "      <td>lyft_lux</td>\n",
              "      <td>Lux Black</td>\n",
              "      <td>1.87</td>\n",
              "      <td>1.0</td>\n",
              "      <td>42.3661</td>\n",
              "      <td>-71.0631</td>\n",
              "      <td>43.99</td>\n",
              "      <td>43.99</td>\n",
              "      <td>Partly Cloudy</td>\n",
              "      <td>Light rain in the morning and overnight.</td>\n",
              "      <td>0.0000</td>\n",
              "      <td>0.00</td>\n",
              "      <td>0.52</td>\n",
              "      <td>2.13</td>\n",
              "      <td>3.27</td>\n",
              "      <td>1543672800</td>\n",
              "      <td>9.815</td>\n",
              "      <td>44.72</td>\n",
              "      <td>1543690800</td>\n",
              "      <td>34.90</td>\n",
              "      <td>1543712400</td>\n",
              "      <td>44.05</td>\n",
              "      <td>1543690800</td>\n",
              "      <td>35.55</td>\n",
              "      <td>1543712400</td>\n",
              "      <td>partly-cloudy-day</td>\n",
              "      <td>27.51</td>\n",
              "      <td>1022.41</td>\n",
              "      <td>121</td>\n",
              "      <td>0.42</td>\n",
              "      <td>1</td>\n",
              "      <td>9.815</td>\n",
              "      <td>273.9</td>\n",
              "      <td>1543665333</td>\n",
              "      <td>1543698853</td>\n",
              "      <td>0.82</td>\n",
              "      <td>0.0000</td>\n",
              "      <td>1543683600</td>\n",
              "      <td>31.55</td>\n",
              "      <td>1543658400</td>\n",
              "      <td>44.72</td>\n",
              "      <td>1543690800</td>\n",
              "      <td>27.95</td>\n",
              "      <td>1543658400</td>\n",
              "      <td>44.05</td>\n",
              "      <td>1543690800</td>\n",
              "      <td>15.997647</td>\n",
              "    </tr>\n",
              "    <tr>\n",
              "      <th>6</th>\n",
              "      <td>a40f1e2d-850d-4f3a-941b-13d522903cd3</td>\n",
              "      <td>1.543716e+09</td>\n",
              "      <td>2</td>\n",
              "      <td>2</td>\n",
              "      <td>12</td>\n",
              "      <td>2018-12-02 02:07:58</td>\n",
              "      <td>America/New_York</td>\n",
              "      <td>Theatre District</td>\n",
              "      <td>Fenway</td>\n",
              "      <td>Uber</td>\n",
              "      <td>55c66225-fbe7-4fd5-9072-eab1ece5e23e</td>\n",
              "      <td>UberX</td>\n",
              "      <td>2.66</td>\n",
              "      <td>1.0</td>\n",
              "      <td>42.2148</td>\n",
              "      <td>-71.0330</td>\n",
              "      <td>36.50</td>\n",
              "      <td>36.50</td>\n",
              "      <td>Partly Cloudy</td>\n",
              "      <td>Light rain in the morning and overnight.</td>\n",
              "      <td>0.0000</td>\n",
              "      <td>0.00</td>\n",
              "      <td>0.82</td>\n",
              "      <td>1.92</td>\n",
              "      <td>2.38</td>\n",
              "      <td>1543672800</td>\n",
              "      <td>9.689</td>\n",
              "      <td>44.11</td>\n",
              "      <td>1543690800</td>\n",
              "      <td>34.58</td>\n",
              "      <td>1543712400</td>\n",
              "      <td>43.44</td>\n",
              "      <td>1543690800</td>\n",
              "      <td>35.23</td>\n",
              "      <td>1543712400</td>\n",
              "      <td>partly-cloudy-night</td>\n",
              "      <td>31.68</td>\n",
              "      <td>1023.33</td>\n",
              "      <td>162</td>\n",
              "      <td>0.46</td>\n",
              "      <td>0</td>\n",
              "      <td>9.689</td>\n",
              "      <td>274.1</td>\n",
              "      <td>1543665299</td>\n",
              "      <td>1543698873</td>\n",
              "      <td>0.82</td>\n",
              "      <td>0.0000</td>\n",
              "      <td>1543683600</td>\n",
              "      <td>30.17</td>\n",
              "      <td>1543662000</td>\n",
              "      <td>44.11</td>\n",
              "      <td>1543690800</td>\n",
              "      <td>25.87</td>\n",
              "      <td>1543662000</td>\n",
              "      <td>43.44</td>\n",
              "      <td>1543690800</td>\n",
              "      <td>16.133954</td>\n",
              "    </tr>\n",
              "    <tr>\n",
              "      <th>7</th>\n",
              "      <td>65127e75-b579-4172-aad9-bbb8f72005c1</td>\n",
              "      <td>1.545131e+09</td>\n",
              "      <td>10</td>\n",
              "      <td>18</td>\n",
              "      <td>12</td>\n",
              "      <td>2018-12-18 10:55:09</td>\n",
              "      <td>America/New_York</td>\n",
              "      <td>Back Bay</td>\n",
              "      <td>North End</td>\n",
              "      <td>Lyft</td>\n",
              "      <td>lyft_luxsuv</td>\n",
              "      <td>Lux Black XL</td>\n",
              "      <td>2.42</td>\n",
              "      <td>1.0</td>\n",
              "      <td>42.3647</td>\n",
              "      <td>-71.0542</td>\n",
              "      <td>25.21</td>\n",
              "      <td>13.25</td>\n",
              "      <td>Mostly Cloudy</td>\n",
              "      <td>Mostly cloudy throughout the day.</td>\n",
              "      <td>0.0000</td>\n",
              "      <td>0.00</td>\n",
              "      <td>0.52</td>\n",
              "      <td>14.15</td>\n",
              "      <td>26.56</td>\n",
              "      <td>1545127200</td>\n",
              "      <td>9.734</td>\n",
              "      <td>32.80</td>\n",
              "      <td>1545159600</td>\n",
              "      <td>20.88</td>\n",
              "      <td>1545220800</td>\n",
              "      <td>22.69</td>\n",
              "      <td>1545159600</td>\n",
              "      <td>14.31</td>\n",
              "      <td>1545199200</td>\n",
              "      <td>partly-cloudy-night</td>\n",
              "      <td>9.85</td>\n",
              "      <td>1005.95</td>\n",
              "      <td>316</td>\n",
              "      <td>0.77</td>\n",
              "      <td>0</td>\n",
              "      <td>9.734</td>\n",
              "      <td>366.5</td>\n",
              "      <td>1545134994</td>\n",
              "      <td>1545167678</td>\n",
              "      <td>0.37</td>\n",
              "      <td>0.0028</td>\n",
              "      <td>1545152400</td>\n",
              "      <td>23.23</td>\n",
              "      <td>1545192000</td>\n",
              "      <td>38.11</td>\n",
              "      <td>1545109200</td>\n",
              "      <td>11.86</td>\n",
              "      <td>1545134400</td>\n",
              "      <td>31.96</td>\n",
              "      <td>1545109200</td>\n",
              "      <td>15.813254</td>\n",
              "    </tr>\n",
              "    <tr>\n",
              "      <th>8</th>\n",
              "      <td>73942a50-c1d5-4a99-a33a-318d20ae89d1</td>\n",
              "      <td>1.543273e+09</td>\n",
              "      <td>22</td>\n",
              "      <td>26</td>\n",
              "      <td>11</td>\n",
              "      <td>2018-11-26 22:57:09</td>\n",
              "      <td>America/New_York</td>\n",
              "      <td>Beacon Hill</td>\n",
              "      <td>Fenway</td>\n",
              "      <td>Lyft</td>\n",
              "      <td>lyft_luxsuv</td>\n",
              "      <td>Lux Black XL</td>\n",
              "      <td>2.35</td>\n",
              "      <td>1.0</td>\n",
              "      <td>42.3503</td>\n",
              "      <td>-71.0810</td>\n",
              "      <td>44.93</td>\n",
              "      <td>41.07</td>\n",
              "      <td>Possible Drizzle</td>\n",
              "      <td>Rain until morning, starting again in the eve...</td>\n",
              "      <td>0.0031</td>\n",
              "      <td>0.42</td>\n",
              "      <td>0.88</td>\n",
              "      <td>7.02</td>\n",
              "      <td>7.02</td>\n",
              "      <td>1543287600</td>\n",
              "      <td>9.967</td>\n",
              "      <td>46.46</td>\n",
              "      <td>1543255200</td>\n",
              "      <td>42.17</td>\n",
              "      <td>1543298400</td>\n",
              "      <td>43.81</td>\n",
              "      <td>1543251600</td>\n",
              "      <td>37.08</td>\n",
              "      <td>1543298400</td>\n",
              "      <td>rain</td>\n",
              "      <td>41.58</td>\n",
              "      <td>1009.43</td>\n",
              "      <td>106</td>\n",
              "      <td>1.00</td>\n",
              "      <td>0</td>\n",
              "      <td>9.967</td>\n",
              "      <td>295.9</td>\n",
              "      <td>1543233004</td>\n",
              "      <td>1543266980</td>\n",
              "      <td>0.64</td>\n",
              "      <td>0.1245</td>\n",
              "      <td>1543251600</td>\n",
              "      <td>40.67</td>\n",
              "      <td>1543233600</td>\n",
              "      <td>46.46</td>\n",
              "      <td>1543255200</td>\n",
              "      <td>37.45</td>\n",
              "      <td>1543291200</td>\n",
              "      <td>43.81</td>\n",
              "      <td>1543251600</td>\n",
              "      <td>15.647145</td>\n",
              "    </tr>\n",
              "    <tr>\n",
              "      <th>9</th>\n",
              "      <td>b15e2c4c-9d69-4f06-8e94-d4cacec94271</td>\n",
              "      <td>1.544920e+09</td>\n",
              "      <td>0</td>\n",
              "      <td>16</td>\n",
              "      <td>12</td>\n",
              "      <td>2018-12-16 00:20:09</td>\n",
              "      <td>America/New_York</td>\n",
              "      <td>Northeastern University</td>\n",
              "      <td>Financial District</td>\n",
              "      <td>Lyft</td>\n",
              "      <td>lyft_line</td>\n",
              "      <td>Shared</td>\n",
              "      <td>4.19</td>\n",
              "      <td>1.0</td>\n",
              "      <td>42.3661</td>\n",
              "      <td>-71.0631</td>\n",
              "      <td>43.96</td>\n",
              "      <td>40.80</td>\n",
              "      <td>Partly Cloudy</td>\n",
              "      <td>Mostly cloudy throughout the day.</td>\n",
              "      <td>0.0000</td>\n",
              "      <td>0.00</td>\n",
              "      <td>0.68</td>\n",
              "      <td>5.48</td>\n",
              "      <td>8.73</td>\n",
              "      <td>1544918400</td>\n",
              "      <td>10.000</td>\n",
              "      <td>54.47</td>\n",
              "      <td>1544896800</td>\n",
              "      <td>38.94</td>\n",
              "      <td>1544954400</td>\n",
              "      <td>53.80</td>\n",
              "      <td>1544896800</td>\n",
              "      <td>35.08</td>\n",
              "      <td>1544950800</td>\n",
              "      <td>partly-cloudy-night</td>\n",
              "      <td>33.96</td>\n",
              "      <td>1023.51</td>\n",
              "      <td>45</td>\n",
              "      <td>0.23</td>\n",
              "      <td>0</td>\n",
              "      <td>10.000</td>\n",
              "      <td>298.8</td>\n",
              "      <td>1544875681</td>\n",
              "      <td>1544908425</td>\n",
              "      <td>0.27</td>\n",
              "      <td>0.0074</td>\n",
              "      <td>1544893200</td>\n",
              "      <td>39.54</td>\n",
              "      <td>1544929200</td>\n",
              "      <td>54.47</td>\n",
              "      <td>1544896800</td>\n",
              "      <td>36.46</td>\n",
              "      <td>1544929200</td>\n",
              "      <td>53.80</td>\n",
              "      <td>1544896800</td>\n",
              "      <td>21.785546</td>\n",
              "    </tr>\n",
              "  </tbody>\n",
              "</table>\n",
              "</div>\n",
              "      <button class=\"colab-df-convert\" onclick=\"convertToInteractive('df-443cfd2e-4e8d-40f2-9bee-fb5f76d7f01c')\"\n",
              "              title=\"Convert this dataframe to an interactive table.\"\n",
              "              style=\"display:none;\">\n",
              "        \n",
              "  <svg xmlns=\"http://www.w3.org/2000/svg\" height=\"24px\"viewBox=\"0 0 24 24\"\n",
              "       width=\"24px\">\n",
              "    <path d=\"M0 0h24v24H0V0z\" fill=\"none\"/>\n",
              "    <path d=\"M18.56 5.44l.94 2.06.94-2.06 2.06-.94-2.06-.94-.94-2.06-.94 2.06-2.06.94zm-11 1L8.5 8.5l.94-2.06 2.06-.94-2.06-.94L8.5 2.5l-.94 2.06-2.06.94zm10 10l.94 2.06.94-2.06 2.06-.94-2.06-.94-.94-2.06-.94 2.06-2.06.94z\"/><path d=\"M17.41 7.96l-1.37-1.37c-.4-.4-.92-.59-1.43-.59-.52 0-1.04.2-1.43.59L10.3 9.45l-7.72 7.72c-.78.78-.78 2.05 0 2.83L4 21.41c.39.39.9.59 1.41.59.51 0 1.02-.2 1.41-.59l7.78-7.78 2.81-2.81c.8-.78.8-2.07 0-2.86zM5.41 20L4 18.59l7.72-7.72 1.47 1.35L5.41 20z\"/>\n",
              "  </svg>\n",
              "      </button>\n",
              "      \n",
              "  <style>\n",
              "    .colab-df-container {\n",
              "      display:flex;\n",
              "      flex-wrap:wrap;\n",
              "      gap: 12px;\n",
              "    }\n",
              "\n",
              "    .colab-df-convert {\n",
              "      background-color: #E8F0FE;\n",
              "      border: none;\n",
              "      border-radius: 50%;\n",
              "      cursor: pointer;\n",
              "      display: none;\n",
              "      fill: #1967D2;\n",
              "      height: 32px;\n",
              "      padding: 0 0 0 0;\n",
              "      width: 32px;\n",
              "    }\n",
              "\n",
              "    .colab-df-convert:hover {\n",
              "      background-color: #E2EBFA;\n",
              "      box-shadow: 0px 1px 2px rgba(60, 64, 67, 0.3), 0px 1px 3px 1px rgba(60, 64, 67, 0.15);\n",
              "      fill: #174EA6;\n",
              "    }\n",
              "\n",
              "    [theme=dark] .colab-df-convert {\n",
              "      background-color: #3B4455;\n",
              "      fill: #D2E3FC;\n",
              "    }\n",
              "\n",
              "    [theme=dark] .colab-df-convert:hover {\n",
              "      background-color: #434B5C;\n",
              "      box-shadow: 0px 1px 3px 1px rgba(0, 0, 0, 0.15);\n",
              "      filter: drop-shadow(0px 1px 2px rgba(0, 0, 0, 0.3));\n",
              "      fill: #FFFFFF;\n",
              "    }\n",
              "  </style>\n",
              "\n",
              "      <script>\n",
              "        const buttonEl =\n",
              "          document.querySelector('#df-443cfd2e-4e8d-40f2-9bee-fb5f76d7f01c button.colab-df-convert');\n",
              "        buttonEl.style.display =\n",
              "          google.colab.kernel.accessAllowed ? 'block' : 'none';\n",
              "\n",
              "        async function convertToInteractive(key) {\n",
              "          const element = document.querySelector('#df-443cfd2e-4e8d-40f2-9bee-fb5f76d7f01c');\n",
              "          const dataTable =\n",
              "            await google.colab.kernel.invokeFunction('convertToInteractive',\n",
              "                                                     [key], {});\n",
              "          if (!dataTable) return;\n",
              "\n",
              "          const docLinkHtml = 'Like what you see? Visit the ' +\n",
              "            '<a target=\"_blank\" href=https://colab.research.google.com/notebooks/data_table.ipynb>data table notebook</a>'\n",
              "            + ' to learn more about interactive tables.';\n",
              "          element.innerHTML = '';\n",
              "          dataTable['output_type'] = 'display_data';\n",
              "          await google.colab.output.renderOutput(dataTable, element);\n",
              "          const docLink = document.createElement('div');\n",
              "          docLink.innerHTML = docLinkHtml;\n",
              "          element.appendChild(docLink);\n",
              "        }\n",
              "      </script>\n",
              "    </div>\n",
              "  </div>\n",
              "  "
            ]
          },
          "metadata": {},
          "execution_count": 82
        }
      ]
    },
    {
      "cell_type": "markdown",
      "metadata": {
        "id": "IMwXrvFmr7qE"
      },
      "source": [
        "#**G. Conclusion**"
      ]
    },
    {
      "cell_type": "markdown",
      "source": [
        "From this assignment, we have watched how one can prepare a dataset and use machine learning algorithm to build a predictive model. We tried three different hyperparameters (featured columns, outlier handling, scaling and encoding), and we have produced a model with 80% accuracy. In the future we could try a more elaborate data preprocessing for better predictive model, such as trimming, label encoding and more correlation tests."
      ],
      "metadata": {
        "id": "n7-kAXK_aMcu"
      }
    }
  ],
  "metadata": {
    "colab": {
      "collapsed_sections": [],
      "provenance": []
    },
    "kernelspec": {
      "display_name": "Python 3",
      "name": "python3"
    },
    "language_info": {
      "name": "python"
    }
  },
  "nbformat": 4,
  "nbformat_minor": 0
}